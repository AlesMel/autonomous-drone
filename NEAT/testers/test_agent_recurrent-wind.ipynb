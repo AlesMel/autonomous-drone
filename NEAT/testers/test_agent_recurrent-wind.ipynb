{
 "cells": [
  {
   "cell_type": "code",
   "execution_count": 1,
   "metadata": {
    "metadata": {}
   },
   "outputs": [],
   "source": [
    "import pickle\n",
    "import numpy as np\n",
    "import neat\n",
    "import os\n",
    "import keyboard\n",
    "\n",
    "#from game_config import game_config\n",
    "# MLAGENTS stuff\n",
    "from mlagents_envs.environment import UnityEnvironment\n",
    "from mlagents_envs.base_env import ActionTuple\n",
    "from mlagents_envs.side_channel.engine_configuration_channel import EngineConfigurationChannel"
   ]
  },
  {
   "cell_type": "code",
   "execution_count": 2,
   "metadata": {
    "metadata": {}
   },
   "outputs": [],
   "source": [
    "engine_config_channel = EngineConfigurationChannel()\n",
    "from comunication_channel import AgentLogChannel\n",
    "agent_count_channel = AgentLogChannel()\n",
    "engine_config_channel.set_configuration_parameters(time_scale=1)\n",
    "\n",
    "env_path = \"../Builds/train-env/autonomous-drone.exe\"\n",
    "\n",
    "env = UnityEnvironment(file_name=None, seed=0, no_graphics=False, side_channels=[engine_config_channel, agent_count_channel])\n",
    "env.reset()"
   ]
  },
  {
   "cell_type": "code",
   "execution_count": 3,
   "metadata": {
    "metadata": {}
   },
   "outputs": [
    {
     "name": "stdout",
     "output_type": "stream",
     "text": [
      "Behaviour specs <mlagents_envs.base_env.BehaviorMapping object at 0x00000253F204E830>\n",
      "Name of the behavior : WindControl?team=0\n",
      "Number of observations :  1\n"
     ]
    }
   ],
   "source": [
    "behavior_specs = env.behavior_specs\n",
    "print(f\"Behaviour specs {behavior_specs}\")\n",
    "behavior_name = list(behavior_specs)[0]\n",
    "spec = env.behavior_specs[behavior_name]\n",
    "\n",
    "print(f\"Name of the behavior : {behavior_name}\")\n",
    "print(\"Number of observations : \", len(spec.observation_specs)) # vector if 1"
   ]
  },
  {
   "cell_type": "code",
   "execution_count": 4,
   "metadata": {
    "metadata": {}
   },
   "outputs": [
    {
     "name": "stdout",
     "output_type": "stream",
     "text": [
      "There are 4 continuous actions\n"
     ]
    }
   ],
   "source": [
    "# Is the Action continuous or multi-discrete ?\n",
    "if spec.action_spec.continuous_size > 0:\n",
    "  print(f\"There are {spec.action_spec.continuous_size} continuous actions\")\n",
    "if spec.action_spec.is_discrete():\n",
    "  print(f\"There are {spec.action_spec.discrete_size} discrete actions\")"
   ]
  },
  {
   "cell_type": "code",
   "execution_count": 5,
   "metadata": {
    "metadata": {}
   },
   "outputs": [],
   "source": [
    "def map_agent_ids(decision_steps):\n",
    "    \"\"\"\n",
    "    Map agent ids between NEAT and UNITY.\n",
    "\n",
    "    Args:\n",
    "        decision_steps: An iterable containing decision steps.\n",
    "\n",
    "    Returns:\n",
    "        A tuple of two dictionaries: (unity_to_neat_map, neat_to_unity_map)\n",
    "    \"\"\"\n",
    "    unity_to_neat_map = {}\n",
    "    neat_to_unity_map = {}\n",
    "    id_count = 0\n",
    "    for step in decision_steps:\n",
    "        unity_to_neat_map[step] = id_count\n",
    "        neat_to_unity_map[id_count] = step\n",
    "        id_count += 1\n",
    "    return unity_to_neat_map, neat_to_unity_map"
   ]
  },
  {
   "cell_type": "code",
   "execution_count": 6,
   "metadata": {
    "metadata": {}
   },
   "outputs": [],
   "source": [
    "def set_agents_and_double_reset(num_agents: int):\n",
    "    agent_count_channel.send_int(data=num_agents) \n",
    "    env.reset()\n",
    "    env.reset()"
   ]
  },
  {
   "cell_type": "code",
   "execution_count": 7,
   "metadata": {
    "metadata": {}
   },
   "outputs": [],
   "source": [
    "set_agents_and_double_reset(2)"
   ]
  },
  {
   "cell_type": "code",
   "execution_count": 8,
   "metadata": {
    "metadata": {}
   },
   "outputs": [],
   "source": [
    "import time\n",
    "import random\n",
    "import math\n",
    "\n",
    "def eval_agent(genome, cfg):\n",
    "    i = 0\n",
    "    send_array = [2, 1, 2]\n",
    "\n",
    "    while True:\n",
    "        #policy = neat.ctrnn.CTRNN.create(genome, cfg, 0.02)\n",
    "        policy = neat.nn.RecurrentNetwork.create(genome, cfg)\n",
    "        set_agents_and_double_reset(random.randint(1, 1))\n",
    "        decision_steps, terminal_steps = env.get_steps(behavior_name)\n",
    "        agent_count = len(decision_steps.agent_id)\n",
    "        policies = [policy] * agent_count\n",
    "\n",
    "        unity_to_neat_map, neat_to_unity_map = map_agent_ids(decision_steps)\n",
    "\n",
    "        done = False  # Vectorized initialization\n",
    "        removed_agents = []\n",
    "\n",
    "        episode_rewards = [0] * agent_count\n",
    "        print(f\"Agent count: {agent_count}\")\n",
    "        while not done:\n",
    "            # if keyboard.is_pressed('q'):  # Check if 'q' is pressed\n",
    "            #     env.close()\n",
    "            #     return\n",
    "            for agent in decision_steps:\n",
    "                if unity_to_neat_map[agent] not in removed_agents:\n",
    "                    nn_input = np.asarray(decision_steps[agent].obs[:])\n",
    "                    #print(f\"{agent} {nn_input}\")\n",
    "                    actions = policies[unity_to_neat_map[agent]].activate(nn_input[0])\n",
    "                    #print(f\"{agent} {actions}\")\n",
    "                    #actions = [0, 0.5,0.5, 1]\n",
    "                    continous_actions = np.asarray([actions])\n",
    "                    continous_actions = np.clip(continous_actions, -1, 1)\n",
    "\n",
    "                    action_tuple = ActionTuple(discrete=None, continuous=continous_actions)\n",
    "                    env.set_action_for_agent(behavior_name=behavior_name, \n",
    "                                            agent_id=agent, \n",
    "                                            action=action_tuple)\n",
    "            env.step()\n",
    "            decision_steps, terminal_steps = env.get_steps(behavior_name)\n",
    "            for agent in range(agent_count):\n",
    "                if agent not in removed_agents:\n",
    "                    local_agent = neat_to_unity_map[agent]\n",
    "                    if local_agent in terminal_steps:\n",
    "                        episode_rewards[agent] += terminal_steps[local_agent].reward\n",
    "                        removed_agents.append(agent)\n",
    "                    elif local_agent in decision_steps:\n",
    "                        episode_rewards[agent] += decision_steps[local_agent].reward                             \n",
    "            if len(removed_agents) >= agent_count:\n",
    "                print(\".\") \n",
    "                done = True\n",
    "        for reward in episode_rewards:\n",
    "            print(reward)\n",
    "        #while keyboard.is_pressed('c') == False:\n",
    "        #    time.sleep(0.1)"
   ]
  },
  {
   "cell_type": "code",
   "execution_count": 9,
   "metadata": {
    "metadata": {}
   },
   "outputs": [
    {
     "name": "stdout",
     "output_type": "stream",
     "text": [
      "Key: 5761\n",
      "Fitness: 643.7945468425751\n",
      "Nodes:\n",
      "\t0 DefaultNodeGene(key=0, bias=0.0, response=1.0, activation=clamped, aggregation=sum)\n",
      "\t1 DefaultNodeGene(key=1, bias=0.0, response=1.0, activation=clamped, aggregation=sum)\n",
      "\t2 DefaultNodeGene(key=2, bias=0.0, response=1.0, activation=clamped, aggregation=sum)\n",
      "\t3 DefaultNodeGene(key=3, bias=0.0, response=1.0, activation=clamped, aggregation=sum)\n",
      "\t172 DefaultNodeGene(key=172, bias=0.0, response=1.0, activation=clamped, aggregation=sum)\n",
      "\t246 DefaultNodeGene(key=246, bias=0.0, response=1.0, activation=clamped, aggregation=sum)\n",
      "\t338 DefaultNodeGene(key=338, bias=0.0, response=1.0, activation=clamped, aggregation=sum)\n",
      "\t833 DefaultNodeGene(key=833, bias=0.0, response=1.0, activation=clamped, aggregation=sum)\n",
      "\t856 DefaultNodeGene(key=856, bias=0.0, response=1.0, activation=clamped, aggregation=sum)\n",
      "\t961 DefaultNodeGene(key=961, bias=0.0, response=1.0, activation=clamped, aggregation=sum)\n",
      "\t1131 DefaultNodeGene(key=1131, bias=0.0, response=1.0, activation=clamped, aggregation=sum)\n",
      "\t1219 DefaultNodeGene(key=1219, bias=0.0, response=1.0, activation=clamped, aggregation=sum)\n",
      "\t1478 DefaultNodeGene(key=1478, bias=0.0, response=1.0, activation=clamped, aggregation=sum)\n",
      "\t2144 DefaultNodeGene(key=2144, bias=0.0, response=1.0, activation=clamped, aggregation=sum)\n",
      "\t2208 DefaultNodeGene(key=2208, bias=0.0, response=1.0, activation=clamped, aggregation=sum)\n",
      "\t2246 DefaultNodeGene(key=2246, bias=0.0, response=1.0, activation=clamped, aggregation=sum)\n",
      "Connections:\n",
      "\tDefaultConnectionGene(key=(-66, 172), weight=-1.475480752626123, enabled=True)\n",
      "\tDefaultConnectionGene(key=(-65, 172), weight=-1.0731739640159632, enabled=False)\n",
      "\tDefaultConnectionGene(key=(-64, 172), weight=1.6467744751398243, enabled=False)\n",
      "\tDefaultConnectionGene(key=(-62, 172), weight=-0.5750494577579827, enabled=False)\n",
      "\tDefaultConnectionGene(key=(-61, 172), weight=-0.9534827669971269, enabled=False)\n",
      "\tDefaultConnectionGene(key=(-61, 1219), weight=-0.6937566341186328, enabled=True)\n",
      "\tDefaultConnectionGene(key=(-60, 172), weight=2.134923116072299, enabled=True)\n",
      "\tDefaultConnectionGene(key=(-59, 172), weight=-1.5323890108092486, enabled=True)\n",
      "\tDefaultConnectionGene(key=(-58, 172), weight=0.19146147274857256, enabled=False)\n",
      "\tDefaultConnectionGene(key=(-57, 172), weight=1.4280767463159316, enabled=True)\n",
      "\tDefaultConnectionGene(key=(-56, 172), weight=0.9326308657643694, enabled=True)\n",
      "\tDefaultConnectionGene(key=(-55, 172), weight=0.9412615673606668, enabled=True)\n",
      "\tDefaultConnectionGene(key=(-54, 172), weight=-2.3557880495248185, enabled=True)\n",
      "\tDefaultConnectionGene(key=(-53, 172), weight=0.05523670430908334, enabled=False)\n",
      "\tDefaultConnectionGene(key=(-53, 1131), weight=0.33063346440409247, enabled=True)\n",
      "\tDefaultConnectionGene(key=(-52, 172), weight=-0.9087816863056848, enabled=False)\n",
      "\tDefaultConnectionGene(key=(-51, 172), weight=-0.5821003419124385, enabled=False)\n",
      "\tDefaultConnectionGene(key=(-50, 172), weight=0.8204892525990819, enabled=False)\n",
      "\tDefaultConnectionGene(key=(-48, 172), weight=0.3122182275027066, enabled=True)\n",
      "\tDefaultConnectionGene(key=(-47, 172), weight=0.5449394691205924, enabled=True)\n",
      "\tDefaultConnectionGene(key=(-46, 172), weight=0.19769169856806523, enabled=True)\n",
      "\tDefaultConnectionGene(key=(-44, 172), weight=-1.7967464213667244, enabled=True)\n",
      "\tDefaultConnectionGene(key=(-43, 172), weight=0.11592402410790431, enabled=True)\n",
      "\tDefaultConnectionGene(key=(-42, 172), weight=0.18075765933348537, enabled=True)\n",
      "\tDefaultConnectionGene(key=(-42, 338), weight=0.060382520203743906, enabled=True)\n",
      "\tDefaultConnectionGene(key=(-42, 856), weight=-0.7908990582712335, enabled=True)\n",
      "\tDefaultConnectionGene(key=(-41, 172), weight=-1.6878726077957584, enabled=True)\n",
      "\tDefaultConnectionGene(key=(-40, 172), weight=0.36936796963804686, enabled=False)\n",
      "\tDefaultConnectionGene(key=(-39, 172), weight=-0.010120081049255138, enabled=True)\n",
      "\tDefaultConnectionGene(key=(-38, 172), weight=0.85835457974766, enabled=True)\n",
      "\tDefaultConnectionGene(key=(-37, 1219), weight=0.7151096351017092, enabled=True)\n",
      "\tDefaultConnectionGene(key=(-36, 172), weight=3.293406364569739, enabled=False)\n",
      "\tDefaultConnectionGene(key=(-35, 172), weight=0.621537463200249, enabled=True)\n",
      "\tDefaultConnectionGene(key=(-34, 172), weight=1.1625324734144162, enabled=True)\n",
      "\tDefaultConnectionGene(key=(-33, 172), weight=2.7531490235043443, enabled=True)\n",
      "\tDefaultConnectionGene(key=(-32, 172), weight=-2.2559006326473274, enabled=True)\n",
      "\tDefaultConnectionGene(key=(-32, 833), weight=0.14861770706511757, enabled=True)\n",
      "\tDefaultConnectionGene(key=(-31, 172), weight=0.10034473525056295, enabled=False)\n",
      "\tDefaultConnectionGene(key=(-30, 172), weight=0.6370089870918383, enabled=True)\n",
      "\tDefaultConnectionGene(key=(-29, 172), weight=0.4434404221656787, enabled=True)\n",
      "\tDefaultConnectionGene(key=(-28, 172), weight=-2.71812863209659, enabled=True)\n",
      "\tDefaultConnectionGene(key=(-28, 2246), weight=1.0, enabled=True)\n",
      "\tDefaultConnectionGene(key=(-27, 172), weight=5.119465762275886, enabled=True)\n",
      "\tDefaultConnectionGene(key=(-26, 172), weight=1.5069761799342483, enabled=True)\n",
      "\tDefaultConnectionGene(key=(-26, 338), weight=-0.5751743012431207, enabled=False)\n",
      "\tDefaultConnectionGene(key=(-25, 172), weight=-1.1180620515146225, enabled=False)\n",
      "\tDefaultConnectionGene(key=(-24, 172), weight=-2.450422625873275, enabled=True)\n",
      "\tDefaultConnectionGene(key=(-24, 2144), weight=2.2915375994562153, enabled=True)\n",
      "\tDefaultConnectionGene(key=(-23, 172), weight=-0.8672887940280896, enabled=False)\n",
      "\tDefaultConnectionGene(key=(-22, 172), weight=-0.31223969833395493, enabled=True)\n",
      "\tDefaultConnectionGene(key=(-22, 338), weight=0.20157727597660852, enabled=False)\n",
      "\tDefaultConnectionGene(key=(-21, 172), weight=-0.4228563614239318, enabled=True)\n",
      "\tDefaultConnectionGene(key=(-20, 172), weight=0.5503361014921697, enabled=False)\n",
      "\tDefaultConnectionGene(key=(-19, 172), weight=0.27328053641006617, enabled=True)\n",
      "\tDefaultConnectionGene(key=(-18, 172), weight=0.003997476291793867, enabled=False)\n",
      "\tDefaultConnectionGene(key=(-17, 172), weight=0.08494446314845816, enabled=False)\n",
      "\tDefaultConnectionGene(key=(-17, 961), weight=0.7801789851110488, enabled=True)\n",
      "\tDefaultConnectionGene(key=(-16, 172), weight=1.3868716475307088, enabled=True)\n",
      "\tDefaultConnectionGene(key=(-16, 1478), weight=0.9659266588879988, enabled=True)\n",
      "\tDefaultConnectionGene(key=(-15, 172), weight=-0.2899189416065214, enabled=False)\n",
      "\tDefaultConnectionGene(key=(-14, 172), weight=0.03249701231692681, enabled=True)\n",
      "\tDefaultConnectionGene(key=(-13, 172), weight=1.020911855293658, enabled=True)\n",
      "\tDefaultConnectionGene(key=(-13, 833), weight=-0.4364502616993047, enabled=True)\n",
      "\tDefaultConnectionGene(key=(-12, 172), weight=-2.2985558738666563, enabled=True)\n",
      "\tDefaultConnectionGene(key=(-12, 961), weight=-3.2563602528101088, enabled=True)\n",
      "\tDefaultConnectionGene(key=(-11, 172), weight=0.8919550522160353, enabled=True)\n",
      "\tDefaultConnectionGene(key=(-10, 172), weight=0.2999761401108715, enabled=True)\n",
      "\tDefaultConnectionGene(key=(-8, 172), weight=1.490541072058967, enabled=True)\n",
      "\tDefaultConnectionGene(key=(-8, 833), weight=-1.0378817025230984, enabled=True)\n",
      "\tDefaultConnectionGene(key=(-7, 172), weight=-0.19281062202854515, enabled=True)\n",
      "\tDefaultConnectionGene(key=(-6, 172), weight=-0.7164023130969324, enabled=True)\n",
      "\tDefaultConnectionGene(key=(-5, 172), weight=-0.7469568875386796, enabled=True)\n",
      "\tDefaultConnectionGene(key=(-4, 172), weight=4.060600057483729, enabled=True)\n",
      "\tDefaultConnectionGene(key=(-3, 172), weight=-1.6410077428300471, enabled=True)\n",
      "\tDefaultConnectionGene(key=(-2, 172), weight=-1.5362534964667238, enabled=False)\n",
      "\tDefaultConnectionGene(key=(-1, 172), weight=0.5866323314369465, enabled=True)\n",
      "\tDefaultConnectionGene(key=(0, 0), weight=-0.6172720075077814, enabled=True)\n",
      "\tDefaultConnectionGene(key=(1, 1), weight=-0.6020768660090532, enabled=True)\n",
      "\tDefaultConnectionGene(key=(2, 2), weight=-1.148995199171493, enabled=False)\n",
      "\tDefaultConnectionGene(key=(3, 3), weight=-1.9413728201270106, enabled=False)\n",
      "\tDefaultConnectionGene(key=(172, 0), weight=-0.18932130676033593, enabled=True)\n",
      "\tDefaultConnectionGene(key=(172, 1), weight=-0.17681405943178344, enabled=True)\n",
      "\tDefaultConnectionGene(key=(172, 2), weight=0.2891662268723327, enabled=True)\n",
      "\tDefaultConnectionGene(key=(172, 3), weight=0.30168191480020706, enabled=True)\n",
      "\tDefaultConnectionGene(key=(172, 172), weight=-1.048821352832479, enabled=True)\n",
      "\tDefaultConnectionGene(key=(338, 172), weight=-1.1038173516235557, enabled=False)\n",
      "\tDefaultConnectionGene(key=(833, 856), weight=0.9638930839972213, enabled=False)\n",
      "\tDefaultConnectionGene(key=(961, 172), weight=-0.5974306578689559, enabled=False)\n",
      "\tDefaultConnectionGene(key=(961, 2208), weight=1.0, enabled=True)\n",
      "\tDefaultConnectionGene(key=(1219, 172), weight=-0.35204818044901065, enabled=True)\n",
      "\tDefaultConnectionGene(key=(1478, 172), weight=1.8734684841934754, enabled=True)\n",
      "\tDefaultConnectionGene(key=(2144, 172), weight=-1.5494007794416926, enabled=True)\n",
      "\tDefaultConnectionGene(key=(2208, 172), weight=0.11617633669748217, enabled=True)\n",
      "\tDefaultConnectionGene(key=(2246, 172), weight=-2.71812863209659, enabled=True)\n",
      "643.7945468425751\n",
      "Agent count: 1\n",
      ".\n",
      "2.495659367268672\n",
      "Agent count: 1\n",
      ".\n",
      "2.497975752747152\n",
      "Agent count: 1\n"
     ]
    }
   ],
   "source": [
    "save_nn_destination = '../result/wind-env/recurrent/best.pkl'\n",
    "\n",
    "with open(save_nn_destination, \"rb\") as f:\n",
    "    genome = pickle.load(f)\n",
    "    genome = genome[1]\n",
    "    print(genome)\n",
    "print(genome.fitness)\n",
    "config = neat.Config(neat.DefaultGenome, neat.DefaultReproduction,\n",
    "                    neat.DefaultSpeciesSet, neat.DefaultStagnation,\n",
    "                    '../configs/config-recurrent-wind')\n",
    "# Save best genome\n",
    "# with open(f'best.pkl', 'wb') as f:\n",
    "#    pickle.dump(genome, f)\n",
    "eval_agent(genome, config)"
   ]
  },
  {
   "cell_type": "code",
   "execution_count": null,
   "metadata": {
    "metadata": {}
   },
   "outputs": [],
   "source": [
    "env.close()"
   ]
  },
  {
   "cell_type": "code",
   "execution_count": null,
   "metadata": {},
   "outputs": [],
   "source": [
    "import NEAT.trainers.visualize as visualize\n",
    "name = 'winner-{0}'.format(1)\n",
    "visualize.draw_net(config, genome, view=False, filename=name + \"-net.gv\")\n",
    "visualize.draw_net(config, genome, view=False, filename=name + \"-net-pruned.gv\", prune_unused=True)"
   ]
  }
 ],
 "metadata": {
  "kernelspec": {
   "display_name": "mlagents",
   "language": "python",
   "name": "python3"
  },
  "language_info": {
   "codemirror_mode": {
    "name": "ipython",
    "version": 3
   },
   "file_extension": ".py",
   "mimetype": "text/x-python",
   "name": "python",
   "nbconvert_exporter": "python",
   "pygments_lexer": "ipython3",
   "version": "3.10.12"
  }
 },
 "nbformat": 4,
 "nbformat_minor": 2
}
