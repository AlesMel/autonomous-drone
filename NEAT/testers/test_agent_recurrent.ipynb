{
 "cells": [
  {
   "cell_type": "code",
   "execution_count": 1,
   "metadata": {
    "metadata": {}
   },
   "outputs": [],
   "source": [
    "import pickle\n",
    "import numpy as np\n",
    "import neat\n",
    "import os\n",
    "import keyboard\n",
    "\n",
    "#from game_config import game_config\n",
    "# MLAGENTS stuff\n",
    "from mlagents_envs.environment import UnityEnvironment\n",
    "from mlagents_envs.base_env import ActionTuple\n",
    "from mlagents_envs.side_channel.engine_configuration_channel import EngineConfigurationChannel"
   ]
  },
  {
   "cell_type": "code",
   "execution_count": 2,
   "metadata": {
    "metadata": {}
   },
   "outputs": [],
   "source": [
    "engine_config_channel = EngineConfigurationChannel()\n",
    "from comunication_channel import AgentLogChannel\n",
    "agent_count_channel = AgentLogChannel()\n",
    "engine_config_channel.set_configuration_parameters(time_scale=1)\n",
    "\n",
    "env_path = \"../Builds/train-env/autonomous-drone.exe\"\n",
    "\n",
    "env = UnityEnvironment(file_name=None, seed=0, no_graphics=False, side_channels=[engine_config_channel, agent_count_channel])\n",
    "env.reset()"
   ]
  },
  {
   "cell_type": "code",
   "execution_count": 3,
   "metadata": {
    "metadata": {}
   },
   "outputs": [
    {
     "name": "stdout",
     "output_type": "stream",
     "text": [
      "Behaviour specs <mlagents_envs.base_env.BehaviorMapping object at 0x000001A54D82E830>\n",
      "Name of the behavior : DroneControl?team=0\n",
      "Number of observations :  1\n"
     ]
    }
   ],
   "source": [
    "behavior_specs = env.behavior_specs\n",
    "print(f\"Behaviour specs {behavior_specs}\")\n",
    "behavior_name = list(behavior_specs)[0]\n",
    "spec = env.behavior_specs[behavior_name]\n",
    "\n",
    "print(f\"Name of the behavior : {behavior_name}\")\n",
    "print(\"Number of observations : \", len(spec.observation_specs)) # vector if 1"
   ]
  },
  {
   "cell_type": "code",
   "execution_count": 4,
   "metadata": {
    "metadata": {}
   },
   "outputs": [
    {
     "name": "stdout",
     "output_type": "stream",
     "text": [
      "There are 4 continuous actions\n"
     ]
    }
   ],
   "source": [
    "# Is the Action continuous or multi-discrete ?\n",
    "if spec.action_spec.continuous_size > 0:\n",
    "  print(f\"There are {spec.action_spec.continuous_size} continuous actions\")\n",
    "if spec.action_spec.is_discrete():\n",
    "  print(f\"There are {spec.action_spec.discrete_size} discrete actions\")"
   ]
  },
  {
   "cell_type": "code",
   "execution_count": 5,
   "metadata": {
    "metadata": {}
   },
   "outputs": [],
   "source": [
    "def map_agent_ids(decision_steps):\n",
    "    \"\"\"\n",
    "    Map agent ids between NEAT and UNITY.\n",
    "\n",
    "    Args:\n",
    "        decision_steps: An iterable containing decision steps.\n",
    "\n",
    "    Returns:\n",
    "        A tuple of two dictionaries: (unity_to_neat_map, neat_to_unity_map)\n",
    "    \"\"\"\n",
    "    unity_to_neat_map = {}\n",
    "    neat_to_unity_map = {}\n",
    "    id_count = 0\n",
    "    for step in decision_steps:\n",
    "        unity_to_neat_map[step] = id_count\n",
    "        neat_to_unity_map[id_count] = step\n",
    "        id_count += 1\n",
    "    return unity_to_neat_map, neat_to_unity_map"
   ]
  },
  {
   "cell_type": "code",
   "execution_count": 6,
   "metadata": {
    "metadata": {}
   },
   "outputs": [],
   "source": [
    "def set_agents_and_double_reset(num_agents: int):\n",
    "    agent_count_channel.send_int(data=num_agents) \n",
    "    env.reset()\n",
    "    env.reset()"
   ]
  },
  {
   "cell_type": "code",
   "execution_count": 7,
   "metadata": {
    "metadata": {}
   },
   "outputs": [],
   "source": [
    "set_agents_and_double_reset(2)"
   ]
  },
  {
   "cell_type": "code",
   "execution_count": 8,
   "metadata": {
    "metadata": {}
   },
   "outputs": [],
   "source": [
    "import time\n",
    "import random\n",
    "import math\n",
    "\n",
    "def eval_agent(genome, cfg):\n",
    "    i = 0\n",
    "    send_array = [2, 1, 2]\n",
    "\n",
    "    while True:\n",
    "        #policy = neat.ctrnn.CTRNN.create(genome, cfg, 0.02)\n",
    "        policy = neat.nn.RecurrentNetwork.create(genome, cfg)\n",
    "        set_agents_and_double_reset(random.randint(1, 1))\n",
    "        decision_steps, terminal_steps = env.get_steps(behavior_name)\n",
    "        agent_count = len(decision_steps.agent_id)\n",
    "        policies = [policy] * agent_count\n",
    "\n",
    "        unity_to_neat_map, neat_to_unity_map = map_agent_ids(decision_steps)\n",
    "\n",
    "        done = False  # Vectorized initialization\n",
    "        removed_agents = []\n",
    "\n",
    "        episode_rewards = [0] * agent_count\n",
    "        print(f\"Agent count: {agent_count}\")\n",
    "        while not done:\n",
    "            # if keyboard.is_pressed('q'):  # Check if 'q' is pressed\n",
    "            #     env.close()\n",
    "            #     return\n",
    "            for agent in decision_steps:\n",
    "                if unity_to_neat_map[agent] not in removed_agents:\n",
    "                    nn_input = np.asarray(decision_steps[agent].obs[:])\n",
    "                    #print(f\"{agent} {nn_input}\")\n",
    "                    actions = policies[unity_to_neat_map[agent]].activate(nn_input[0])\n",
    "                    #print(f\"{agent} {actions}\")\n",
    "                    #actions = [1, 0.5,0.5, 1]\n",
    "                    continous_actions = np.asarray([actions])\n",
    "                    continous_actions = np.clip(continous_actions, -1, 1)\n",
    "\n",
    "                    action_tuple = ActionTuple(discrete=None, continuous=continous_actions)\n",
    "                    env.set_action_for_agent(behavior_name=behavior_name, \n",
    "                                            agent_id=agent, \n",
    "                                            action=action_tuple)\n",
    "            env.step()\n",
    "            decision_steps, terminal_steps = env.get_steps(behavior_name)\n",
    "            for agent in range(agent_count):\n",
    "                if agent not in removed_agents:\n",
    "                    local_agent = neat_to_unity_map[agent]\n",
    "                    if local_agent in terminal_steps:\n",
    "                        episode_rewards[agent] += terminal_steps[local_agent].reward\n",
    "                        removed_agents.append(agent)\n",
    "                    elif local_agent in decision_steps:\n",
    "                        episode_rewards[agent] += decision_steps[local_agent].reward                             \n",
    "            if len(removed_agents) >= agent_count:\n",
    "                print(\".\") \n",
    "                done = True\n",
    "        for reward in episode_rewards:\n",
    "            print(reward)\n",
    "        #while keyboard.is_pressed('c') == False:\n",
    "        #    time.sleep(0.1)"
   ]
  },
  {
   "cell_type": "code",
   "execution_count": 10,
   "metadata": {
    "metadata": {}
   },
   "outputs": [
    {
     "name": "stdout",
     "output_type": "stream",
     "text": [
      "Key: 108176\n",
      "Fitness: 217.5760102268868\n",
      "Nodes:\n",
      "\t0 DefaultNodeGene(key=0, bias=0.0, response=1.0, activation=clamped, aggregation=sum)\n",
      "\t1 DefaultNodeGene(key=1, bias=0.0, response=1.0, activation=clamped, aggregation=sum)\n",
      "\t2 DefaultNodeGene(key=2, bias=0.0, response=1.0, activation=clamped, aggregation=sum)\n",
      "\t3 DefaultNodeGene(key=3, bias=0.0, response=1.0, activation=clamped, aggregation=sum)\n",
      "\t1176 DefaultNodeGene(key=1176, bias=0.0, response=1.0, activation=clamped, aggregation=sum)\n",
      "\t4159 DefaultNodeGene(key=4159, bias=0.0, response=1.0, activation=clamped, aggregation=sum)\n",
      "\t4174 DefaultNodeGene(key=4174, bias=0.0, response=1.0, activation=clamped, aggregation=sum)\n",
      "\t4263 DefaultNodeGene(key=4263, bias=0.0, response=1.0, activation=clamped, aggregation=sum)\n",
      "\t9797 DefaultNodeGene(key=9797, bias=0.0, response=1.0, activation=clamped, aggregation=sum)\n",
      "\t10183 DefaultNodeGene(key=10183, bias=0.0, response=1.0, activation=clamped, aggregation=sum)\n",
      "\t12096 DefaultNodeGene(key=12096, bias=0.0, response=1.0, activation=clamped, aggregation=sum)\n",
      "\t18198 DefaultNodeGene(key=18198, bias=0.0, response=1.0, activation=clamped, aggregation=sum)\n",
      "\t18436 DefaultNodeGene(key=18436, bias=0.0, response=1.0, activation=clamped, aggregation=sum)\n",
      "\t18496 DefaultNodeGene(key=18496, bias=0.0, response=1.0, activation=clamped, aggregation=sum)\n",
      "\t18526 DefaultNodeGene(key=18526, bias=0.0, response=1.0, activation=clamped, aggregation=sum)\n",
      "\t19334 DefaultNodeGene(key=19334, bias=0.0, response=1.0, activation=clamped, aggregation=sum)\n",
      "\t25097 DefaultNodeGene(key=25097, bias=0.0, response=1.0, activation=clamped, aggregation=sum)\n",
      "\t28448 DefaultNodeGene(key=28448, bias=0.0, response=1.0, activation=clamped, aggregation=sum)\n",
      "\t30325 DefaultNodeGene(key=30325, bias=0.0, response=1.0, activation=clamped, aggregation=sum)\n",
      "\t39431 DefaultNodeGene(key=39431, bias=0.0, response=1.0, activation=clamped, aggregation=sum)\n",
      "Connections:\n",
      "\tDefaultConnectionGene(key=(-16, 0), weight=-0.588022597476178, enabled=False)\n",
      "\tDefaultConnectionGene(key=(-16, 2), weight=-1.3386617888643446, enabled=True)\n",
      "\tDefaultConnectionGene(key=(-16, 3), weight=0.06588171708740267, enabled=False)\n",
      "\tDefaultConnectionGene(key=(-16, 28448), weight=0.34697093977711063, enabled=True)\n",
      "\tDefaultConnectionGene(key=(-15, 0), weight=0.013982729278908833, enabled=True)\n",
      "\tDefaultConnectionGene(key=(-15, 1), weight=0.015333024047065866, enabled=True)\n",
      "\tDefaultConnectionGene(key=(-15, 2), weight=-0.4391375545479489, enabled=False)\n",
      "\tDefaultConnectionGene(key=(-15, 3), weight=-0.1783451865447373, enabled=False)\n",
      "\tDefaultConnectionGene(key=(-14, 1), weight=-0.8473553805434756, enabled=True)\n",
      "\tDefaultConnectionGene(key=(-14, 18198), weight=0.7897296978213013, enabled=True)\n",
      "\tDefaultConnectionGene(key=(-14, 19334), weight=1.1375172338952182, enabled=False)\n",
      "\tDefaultConnectionGene(key=(-14, 39431), weight=0.8014056867605027, enabled=True)\n",
      "\tDefaultConnectionGene(key=(-13, 0), weight=0.4358201137926099, enabled=True)\n",
      "\tDefaultConnectionGene(key=(-13, 1), weight=0.0060658278043608516, enabled=False)\n",
      "\tDefaultConnectionGene(key=(-13, 3), weight=0.2562653910340966, enabled=True)\n",
      "\tDefaultConnectionGene(key=(-12, 0), weight=0.6648455174197981, enabled=True)\n",
      "\tDefaultConnectionGene(key=(-12, 1), weight=0.5529585367503872, enabled=True)\n",
      "\tDefaultConnectionGene(key=(-12, 2), weight=-0.3512542360064095, enabled=False)\n",
      "\tDefaultConnectionGene(key=(-12, 3), weight=0.20925869896006635, enabled=True)\n",
      "\tDefaultConnectionGene(key=(-12, 18436), weight=0.3265812520412423, enabled=True)\n",
      "\tDefaultConnectionGene(key=(-11, 0), weight=0.45077514068331564, enabled=True)\n",
      "\tDefaultConnectionGene(key=(-11, 1), weight=0.08180882720536503, enabled=False)\n",
      "\tDefaultConnectionGene(key=(-11, 2), weight=0.6770915504943752, enabled=True)\n",
      "\tDefaultConnectionGene(key=(-11, 3), weight=-0.07953776167014462, enabled=True)\n",
      "\tDefaultConnectionGene(key=(-10, 1), weight=-0.19316460223811516, enabled=True)\n",
      "\tDefaultConnectionGene(key=(-10, 2), weight=0.7217369572880864, enabled=False)\n",
      "\tDefaultConnectionGene(key=(-10, 30325), weight=1.296598624395925, enabled=True)\n",
      "\tDefaultConnectionGene(key=(-9, 0), weight=0.7830884983774835, enabled=False)\n",
      "\tDefaultConnectionGene(key=(-9, 2), weight=-0.1454937381226766, enabled=True)\n",
      "\tDefaultConnectionGene(key=(-9, 3), weight=-0.8189157614413983, enabled=True)\n",
      "\tDefaultConnectionGene(key=(-9, 10183), weight=0.06305000823617228, enabled=False)\n",
      "\tDefaultConnectionGene(key=(-8, 0), weight=-0.2335076882235331, enabled=False)\n",
      "\tDefaultConnectionGene(key=(-8, 2), weight=-0.4168248678184676, enabled=False)\n",
      "\tDefaultConnectionGene(key=(-8, 3), weight=-0.0979747229144456, enabled=False)\n",
      "\tDefaultConnectionGene(key=(-8, 4263), weight=0.9500493369797259, enabled=True)\n",
      "\tDefaultConnectionGene(key=(-7, 0), weight=0.46754571980873355, enabled=False)\n",
      "\tDefaultConnectionGene(key=(-7, 3), weight=-0.35496094586127125, enabled=True)\n",
      "\tDefaultConnectionGene(key=(-7, 1176), weight=0.6405507011536425, enabled=True)\n",
      "\tDefaultConnectionGene(key=(-7, 25097), weight=0.9091104227465912, enabled=False)\n",
      "\tDefaultConnectionGene(key=(-6, 0), weight=-0.7636871421142715, enabled=False)\n",
      "\tDefaultConnectionGene(key=(-6, 1), weight=0.20657412794273067, enabled=False)\n",
      "\tDefaultConnectionGene(key=(-6, 2), weight=-0.3492690411406989, enabled=False)\n",
      "\tDefaultConnectionGene(key=(-6, 3), weight=1.0926122341842097, enabled=True)\n",
      "\tDefaultConnectionGene(key=(-6, 18436), weight=0.11301726737949873, enabled=True)\n",
      "\tDefaultConnectionGene(key=(-6, 18526), weight=1.1240855775811196, enabled=True)\n",
      "\tDefaultConnectionGene(key=(-5, 1), weight=-0.7607469715796824, enabled=True)\n",
      "\tDefaultConnectionGene(key=(-5, 2), weight=-0.05226229517135965, enabled=False)\n",
      "\tDefaultConnectionGene(key=(-5, 4174), weight=0.23985336964982576, enabled=False)\n",
      "\tDefaultConnectionGene(key=(-4, 0), weight=0.06378893850330575, enabled=False)\n",
      "\tDefaultConnectionGene(key=(-4, 1), weight=0.03706310266103449, enabled=False)\n",
      "\tDefaultConnectionGene(key=(-4, 2), weight=-0.22778015562614948, enabled=True)\n",
      "\tDefaultConnectionGene(key=(-4, 3), weight=-0.39247908168485507, enabled=False)\n",
      "\tDefaultConnectionGene(key=(-3, 0), weight=-0.32843848282395316, enabled=True)\n",
      "\tDefaultConnectionGene(key=(-3, 2), weight=-0.43057787659097635, enabled=False)\n",
      "\tDefaultConnectionGene(key=(-3, 3), weight=-0.0877308688604036, enabled=False)\n",
      "\tDefaultConnectionGene(key=(-2, 0), weight=-1.1699280909581158, enabled=True)\n",
      "\tDefaultConnectionGene(key=(-2, 1), weight=-0.9383359159920392, enabled=True)\n",
      "\tDefaultConnectionGene(key=(-2, 3), weight=0.13598481716788804, enabled=True)\n",
      "\tDefaultConnectionGene(key=(-2, 4174), weight=0.6676048694480153, enabled=True)\n",
      "\tDefaultConnectionGene(key=(-2, 9797), weight=1.1177673037348126, enabled=True)\n",
      "\tDefaultConnectionGene(key=(-1, 0), weight=0.14796606487728545, enabled=True)\n",
      "\tDefaultConnectionGene(key=(-1, 1), weight=0.663742280226068, enabled=False)\n",
      "\tDefaultConnectionGene(key=(-1, 3), weight=-0.09858395418953889, enabled=True)\n",
      "\tDefaultConnectionGene(key=(-1, 4174), weight=-0.31299382780688456, enabled=True)\n",
      "\tDefaultConnectionGene(key=(-1, 18496), weight=0.4431474677755038, enabled=True)\n",
      "\tDefaultConnectionGene(key=(0, 0), weight=0.06579241105984554, enabled=True)\n",
      "\tDefaultConnectionGene(key=(2, 2), weight=-0.576304570676141, enabled=False)\n",
      "\tDefaultConnectionGene(key=(3, 3), weight=1.3944813265299978, enabled=False)\n",
      "\tDefaultConnectionGene(key=(4159, 2), weight=0.5766814935223658, enabled=False)\n",
      "\tDefaultConnectionGene(key=(4174, 3), weight=-0.4790818469914136, enabled=True)\n",
      "\tDefaultConnectionGene(key=(4174, 1176), weight=-0.2988587415988616, enabled=False)\n",
      "\tDefaultConnectionGene(key=(4263, 1), weight=0.802115086816281, enabled=True)\n",
      "\tDefaultConnectionGene(key=(4263, 3), weight=-0.2507390577899368, enabled=False)\n",
      "\tDefaultConnectionGene(key=(9797, 2), weight=-0.4275675310875333, enabled=True)\n",
      "\tDefaultConnectionGene(key=(9797, 12096), weight=0.403806157697603, enabled=True)\n",
      "\tDefaultConnectionGene(key=(10183, 2), weight=-0.2725793701228396, enabled=True)\n",
      "\tDefaultConnectionGene(key=(10183, 4263), weight=-0.5492963936374883, enabled=True)\n",
      "\tDefaultConnectionGene(key=(12096, 4263), weight=-0.03820176514529986, enabled=True)\n",
      "\tDefaultConnectionGene(key=(12096, 12096), weight=-0.04440246627633407, enabled=True)\n",
      "\tDefaultConnectionGene(key=(18436, 2), weight=0.36974824146682606, enabled=True)\n",
      "\tDefaultConnectionGene(key=(18436, 4263), weight=-0.03859185125411449, enabled=True)\n",
      "\tDefaultConnectionGene(key=(18496, 1), weight=0.8008793643219332, enabled=True)\n",
      "\tDefaultConnectionGene(key=(18526, 1), weight=0.2956886762117092, enabled=True)\n",
      "\tDefaultConnectionGene(key=(19334, 2), weight=-0.3559543934435814, enabled=True)\n",
      "\tDefaultConnectionGene(key=(25097, 0), weight=-0.07057628312089141, enabled=True)\n",
      "\tDefaultConnectionGene(key=(28448, 0), weight=-0.9069964048778707, enabled=True)\n",
      "\tDefaultConnectionGene(key=(30325, 2), weight=0.7088638900025374, enabled=True)\n",
      "\tDefaultConnectionGene(key=(30325, 10183), weight=-0.0876348466095217, enabled=True)\n",
      "\tDefaultConnectionGene(key=(39431, 19334), weight=1.4052561234909007, enabled=True)\n",
      "217.5760102268868\n",
      "Agent count: 1\n",
      ".\n",
      "93.54956773663828\n",
      "Agent count: 1\n"
     ]
    },
    {
     "ename": "UnityCommunicatorStoppedException",
     "evalue": "Communicator has exited.",
     "output_type": "error",
     "traceback": [
      "\u001b[1;31m---------------------------------------------------------------------------\u001b[0m",
      "\u001b[1;31mUnityCommunicatorStoppedException\u001b[0m         Traceback (most recent call last)",
      "Cell \u001b[1;32mIn[10], line 14\u001b[0m\n\u001b[0;32m      8\u001b[0m config \u001b[38;5;241m=\u001b[39m neat\u001b[38;5;241m.\u001b[39mConfig(neat\u001b[38;5;241m.\u001b[39mDefaultGenome, neat\u001b[38;5;241m.\u001b[39mDefaultReproduction,\n\u001b[0;32m      9\u001b[0m                     neat\u001b[38;5;241m.\u001b[39mDefaultSpeciesSet, neat\u001b[38;5;241m.\u001b[39mDefaultStagnation,\n\u001b[0;32m     10\u001b[0m                     \u001b[38;5;124m'\u001b[39m\u001b[38;5;124m../configs/config-recurrent\u001b[39m\u001b[38;5;124m'\u001b[39m)\n\u001b[0;32m     11\u001b[0m \u001b[38;5;66;03m# Save best genome\u001b[39;00m\n\u001b[0;32m     12\u001b[0m \u001b[38;5;66;03m# with open(f'best.pkl', 'wb') as f:\u001b[39;00m\n\u001b[0;32m     13\u001b[0m \u001b[38;5;66;03m#    pickle.dump(genome, f)\u001b[39;00m\n\u001b[1;32m---> 14\u001b[0m \u001b[43meval_agent\u001b[49m\u001b[43m(\u001b[49m\u001b[43mgenome\u001b[49m\u001b[43m,\u001b[49m\u001b[43m \u001b[49m\u001b[43mconfig\u001b[49m\u001b[43m)\u001b[49m\n",
      "Cell \u001b[1;32mIn[8], line 42\u001b[0m, in \u001b[0;36meval_agent\u001b[1;34m(genome, cfg)\u001b[0m\n\u001b[0;32m     38\u001b[0m         action_tuple \u001b[38;5;241m=\u001b[39m ActionTuple(discrete\u001b[38;5;241m=\u001b[39m\u001b[38;5;28;01mNone\u001b[39;00m, continuous\u001b[38;5;241m=\u001b[39mcontinous_actions)\n\u001b[0;32m     39\u001b[0m         env\u001b[38;5;241m.\u001b[39mset_action_for_agent(behavior_name\u001b[38;5;241m=\u001b[39mbehavior_name, \n\u001b[0;32m     40\u001b[0m                                 agent_id\u001b[38;5;241m=\u001b[39magent, \n\u001b[0;32m     41\u001b[0m                                 action\u001b[38;5;241m=\u001b[39maction_tuple)\n\u001b[1;32m---> 42\u001b[0m \u001b[43menv\u001b[49m\u001b[38;5;241;43m.\u001b[39;49m\u001b[43mstep\u001b[49m\u001b[43m(\u001b[49m\u001b[43m)\u001b[49m\n\u001b[0;32m     43\u001b[0m decision_steps, terminal_steps \u001b[38;5;241m=\u001b[39m env\u001b[38;5;241m.\u001b[39mget_steps(behavior_name)\n\u001b[0;32m     44\u001b[0m \u001b[38;5;28;01mfor\u001b[39;00m agent \u001b[38;5;129;01min\u001b[39;00m \u001b[38;5;28mrange\u001b[39m(agent_count):\n",
      "File \u001b[1;32mc:\\Users\\alesm\\miniconda3\\envs\\mlagents\\lib\\site-packages\\mlagents_envs\\timers.py:305\u001b[0m, in \u001b[0;36mtimed.<locals>.wrapped\u001b[1;34m(*args, **kwargs)\u001b[0m\n\u001b[0;32m    303\u001b[0m \u001b[38;5;28;01mdef\u001b[39;00m \u001b[38;5;21mwrapped\u001b[39m(\u001b[38;5;241m*\u001b[39margs, \u001b[38;5;241m*\u001b[39m\u001b[38;5;241m*\u001b[39mkwargs):\n\u001b[0;32m    304\u001b[0m     \u001b[38;5;28;01mwith\u001b[39;00m hierarchical_timer(func\u001b[38;5;241m.\u001b[39m\u001b[38;5;18m__qualname__\u001b[39m):\n\u001b[1;32m--> 305\u001b[0m         \u001b[38;5;28;01mreturn\u001b[39;00m func(\u001b[38;5;241m*\u001b[39margs, \u001b[38;5;241m*\u001b[39m\u001b[38;5;241m*\u001b[39mkwargs)\n",
      "File \u001b[1;32mc:\\Users\\alesm\\miniconda3\\envs\\mlagents\\lib\\site-packages\\mlagents_envs\\environment.py:350\u001b[0m, in \u001b[0;36mUnityEnvironment.step\u001b[1;34m(self)\u001b[0m\n\u001b[0;32m    348\u001b[0m     outputs \u001b[38;5;241m=\u001b[39m \u001b[38;5;28mself\u001b[39m\u001b[38;5;241m.\u001b[39m_communicator\u001b[38;5;241m.\u001b[39mexchange(step_input, \u001b[38;5;28mself\u001b[39m\u001b[38;5;241m.\u001b[39m_poll_process)\n\u001b[0;32m    349\u001b[0m \u001b[38;5;28;01mif\u001b[39;00m outputs \u001b[38;5;129;01mis\u001b[39;00m \u001b[38;5;28;01mNone\u001b[39;00m:\n\u001b[1;32m--> 350\u001b[0m     \u001b[38;5;28;01mraise\u001b[39;00m UnityCommunicatorStoppedException(\u001b[38;5;124m\"\u001b[39m\u001b[38;5;124mCommunicator has exited.\u001b[39m\u001b[38;5;124m\"\u001b[39m)\n\u001b[0;32m    351\u001b[0m \u001b[38;5;28mself\u001b[39m\u001b[38;5;241m.\u001b[39m_update_behavior_specs(outputs)\n\u001b[0;32m    352\u001b[0m rl_output \u001b[38;5;241m=\u001b[39m outputs\u001b[38;5;241m.\u001b[39mrl_output\n",
      "\u001b[1;31mUnityCommunicatorStoppedException\u001b[0m: Communicator has exited."
     ]
    }
   ],
   "source": [
    "save_nn_destination = '../result/best.pkl'\n",
    "\n",
    "with open(save_nn_destination, \"rb\") as f:\n",
    "    genome = pickle.load(f)\n",
    "    genome = genome[1]\n",
    "    print(genome)\n",
    "print(genome.fitness)\n",
    "config = neat.Config(neat.DefaultGenome, neat.DefaultReproduction,\n",
    "                    neat.DefaultSpeciesSet, neat.DefaultStagnation,\n",
    "                    '../configs/config-recurrent')\n",
    "# Save best genome\n",
    "# with open(f'best.pkl', 'wb') as f:\n",
    "#    pickle.dump(genome, f)\n",
    "eval_agent(genome, config)"
   ]
  },
  {
   "cell_type": "code",
   "execution_count": 11,
   "metadata": {
    "metadata": {}
   },
   "outputs": [],
   "source": [
    "env.close()"
   ]
  },
  {
   "cell_type": "code",
   "execution_count": null,
   "metadata": {},
   "outputs": [],
   "source": [
    "import visualize\n",
    "name = 'winner-{0}'.format(1)\n",
    "visualize.draw_net(config, genome, view=False, filename=name + \"-net.gv\")\n",
    "visualize.draw_net(config, genome, view=False, filename=name + \"-net-pruned.gv\", prune_unused=True)"
   ]
  }
 ],
 "metadata": {
  "kernelspec": {
   "display_name": "mlagents",
   "language": "python",
   "name": "python3"
  },
  "language_info": {
   "codemirror_mode": {
    "name": "ipython",
    "version": 3
   },
   "file_extension": ".py",
   "mimetype": "text/x-python",
   "name": "python",
   "nbconvert_exporter": "python",
   "pygments_lexer": "ipython3",
   "version": "3.10.12"
  }
 },
 "nbformat": 4,
 "nbformat_minor": 2
}
