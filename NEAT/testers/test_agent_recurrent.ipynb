{
 "cells": [
  {
   "cell_type": "code",
   "execution_count": 1,
   "metadata": {
    "metadata": {}
   },
   "outputs": [],
   "source": [
    "import pickle\n",
    "import numpy as np\n",
    "import neat\n",
    "import os\n",
    "import keyboard\n",
    "\n",
    "#from game_config import game_config\n",
    "# MLAGENTS stuff\n",
    "from mlagents_envs.environment import UnityEnvironment\n",
    "from mlagents_envs.base_env import ActionTuple\n",
    "from mlagents_envs.side_channel.engine_configuration_channel import EngineConfigurationChannel"
   ]
  },
  {
   "cell_type": "code",
   "execution_count": 2,
   "metadata": {
    "metadata": {}
   },
   "outputs": [],
   "source": [
    "engine_config_channel = EngineConfigurationChannel()\n",
    "from comunication_channel import AgentLogChannel\n",
    "agent_count_channel = AgentLogChannel()\n",
    "engine_config_channel.set_configuration_parameters(time_scale=1)\n",
    "\n",
    "env_path = \"../Builds/train-env/autonomous-drone.exe\"\n",
    "\n",
    "env = UnityEnvironment(file_name=None, seed=0, no_graphics=False, side_channels=[engine_config_channel, agent_count_channel])\n",
    "env.reset()"
   ]
  },
  {
   "cell_type": "code",
   "execution_count": 3,
   "metadata": {
    "metadata": {}
   },
   "outputs": [
    {
     "name": "stdout",
     "output_type": "stream",
     "text": [
      "Behaviour specs <mlagents_envs.base_env.BehaviorMapping object at 0x0000019A008E2950>\n",
      "Name of the behavior : DroneControl?team=0\n",
      "Number of observations :  1\n"
     ]
    }
   ],
   "source": [
    "behavior_specs = env.behavior_specs\n",
    "print(f\"Behaviour specs {behavior_specs}\")\n",
    "behavior_name = list(behavior_specs)[0]\n",
    "spec = env.behavior_specs[behavior_name]\n",
    "\n",
    "print(f\"Name of the behavior : {behavior_name}\")\n",
    "print(\"Number of observations : \", len(spec.observation_specs)) # vector if 1"
   ]
  },
  {
   "cell_type": "code",
   "execution_count": 4,
   "metadata": {
    "metadata": {}
   },
   "outputs": [
    {
     "name": "stdout",
     "output_type": "stream",
     "text": [
      "There are 4 continuous actions\n"
     ]
    }
   ],
   "source": [
    "# Is the Action continuous or multi-discrete ?\n",
    "if spec.action_spec.continuous_size > 0:\n",
    "  print(f\"There are {spec.action_spec.continuous_size} continuous actions\")\n",
    "if spec.action_spec.is_discrete():\n",
    "  print(f\"There are {spec.action_spec.discrete_size} discrete actions\")"
   ]
  },
  {
   "cell_type": "code",
   "execution_count": 5,
   "metadata": {
    "metadata": {}
   },
   "outputs": [],
   "source": [
    "def map_agent_ids(decision_steps):\n",
    "    \"\"\"\n",
    "    Map agent ids between NEAT and UNITY.\n",
    "\n",
    "    Args:\n",
    "        decision_steps: An iterable containing decision steps.\n",
    "\n",
    "    Returns:\n",
    "        A tuple of two dictionaries: (unity_to_neat_map, neat_to_unity_map)\n",
    "    \"\"\"\n",
    "    unity_to_neat_map = {}\n",
    "    neat_to_unity_map = {}\n",
    "    id_count = 0\n",
    "    for step in decision_steps:\n",
    "        unity_to_neat_map[step] = id_count\n",
    "        neat_to_unity_map[id_count] = step\n",
    "        id_count += 1\n",
    "    return unity_to_neat_map, neat_to_unity_map"
   ]
  },
  {
   "cell_type": "code",
   "execution_count": 6,
   "metadata": {
    "metadata": {}
   },
   "outputs": [],
   "source": [
    "def set_agents_and_double_reset(num_agents: int):\n",
    "    agent_count_channel.send_int(data=num_agents) \n",
    "    env.reset()\n",
    "    env.reset()"
   ]
  },
  {
   "cell_type": "code",
   "execution_count": 7,
   "metadata": {
    "metadata": {}
   },
   "outputs": [],
   "source": [
    "set_agents_and_double_reset(2)"
   ]
  },
  {
   "cell_type": "code",
   "execution_count": 8,
   "metadata": {
    "metadata": {}
   },
   "outputs": [],
   "source": [
    "import time\n",
    "import random\n",
    "import math\n",
    "\n",
    "def eval_agent(genome, cfg):\n",
    "    i = 0\n",
    "    send_array = [2, 1, 2]\n",
    "\n",
    "    while True:\n",
    "        #policy = neat.ctrnn.CTRNN.create(genome, cfg, 0.02)\n",
    "        policy = neat.nn.RecurrentNetwork.create(genome, cfg)\n",
    "        set_agents_and_double_reset(random.randint(1, 1))\n",
    "        decision_steps, terminal_steps = env.get_steps(behavior_name)\n",
    "        agent_count = len(decision_steps.agent_id)\n",
    "        policies = [policy] * agent_count\n",
    "\n",
    "        unity_to_neat_map, neat_to_unity_map = map_agent_ids(decision_steps)\n",
    "\n",
    "        done = False  # Vectorized initialization\n",
    "        removed_agents = []\n",
    "\n",
    "        episode_rewards = [0] * agent_count\n",
    "        print(f\"Agent count: {agent_count}\")\n",
    "        while not done:\n",
    "            # if keyboard.is_pressed('q'):  # Check if 'q' is pressed\n",
    "            #     env.close()\n",
    "            #     return\n",
    "            for agent in decision_steps:\n",
    "                if unity_to_neat_map[agent] not in removed_agents:\n",
    "                    nn_input = np.asarray(decision_steps[agent].obs[:])\n",
    "                    #print(f\"{agent} {nn_input}\")\n",
    "                    actions = policies[unity_to_neat_map[agent]].activate(nn_input[0])\n",
    "                    #print(f\"{agent} {actions}\")\n",
    "                    #actions = [1, 0.5,0.5, 1]\n",
    "                    continous_actions = np.asarray([actions])\n",
    "                    continous_actions = np.clip(continous_actions, -1, 1)\n",
    "\n",
    "                    action_tuple = ActionTuple(discrete=None, continuous=continous_actions)\n",
    "                    env.set_action_for_agent(behavior_name=behavior_name, \n",
    "                                            agent_id=agent, \n",
    "                                            action=action_tuple)\n",
    "            env.step()\n",
    "            decision_steps, terminal_steps = env.get_steps(behavior_name)\n",
    "            for agent in range(agent_count):\n",
    "                if agent not in removed_agents:\n",
    "                    local_agent = neat_to_unity_map[agent]\n",
    "                    if local_agent in terminal_steps:\n",
    "                        episode_rewards[agent] += terminal_steps[local_agent].reward\n",
    "                        removed_agents.append(agent)\n",
    "                    elif local_agent in decision_steps:\n",
    "                        episode_rewards[agent] += decision_steps[local_agent].reward                             \n",
    "            if len(removed_agents) >= agent_count:\n",
    "                print(\".\") \n",
    "                done = True\n",
    "        for reward in episode_rewards:\n",
    "            print(reward)\n",
    "        #while keyboard.is_pressed('c') == False:\n",
    "        #    time.sleep(0.1)"
   ]
  },
  {
   "cell_type": "code",
   "execution_count": 9,
   "metadata": {
    "metadata": {}
   },
   "outputs": [
    {
     "name": "stdout",
     "output_type": "stream",
     "text": [
      "Key: 142841\n",
      "Fitness: 226.4790154992146\n",
      "Nodes:\n",
      "\t0 DefaultNodeGene(key=0, bias=0.0, response=1.0, activation=clamped, aggregation=sum)\n",
      "\t1 DefaultNodeGene(key=1, bias=0.0, response=1.0, activation=clamped, aggregation=sum)\n",
      "\t2 DefaultNodeGene(key=2, bias=0.0, response=1.0, activation=clamped, aggregation=sum)\n",
      "\t3 DefaultNodeGene(key=3, bias=0.0, response=1.0, activation=clamped, aggregation=sum)\n",
      "\t18587 DefaultNodeGene(key=18587, bias=0.0, response=1.0, activation=clamped, aggregation=sum)\n",
      "\t19266 DefaultNodeGene(key=19266, bias=0.0, response=1.0, activation=clamped, aggregation=sum)\n",
      "\t23443 DefaultNodeGene(key=23443, bias=0.0, response=1.0, activation=clamped, aggregation=sum)\n",
      "\t33233 DefaultNodeGene(key=33233, bias=0.0, response=1.0, activation=clamped, aggregation=sum)\n",
      "\t57885 DefaultNodeGene(key=57885, bias=0.0, response=1.0, activation=clamped, aggregation=sum)\n",
      "\t61124 DefaultNodeGene(key=61124, bias=0.0, response=1.0, activation=clamped, aggregation=sum)\n",
      "Connections:\n",
      "\tDefaultConnectionGene(key=(-16, 0), weight=0.3031818614680715, enabled=False)\n",
      "\tDefaultConnectionGene(key=(-16, 1), weight=2.445129282492836, enabled=True)\n",
      "\tDefaultConnectionGene(key=(-16, 3), weight=2.0431000332351275, enabled=True)\n",
      "\tDefaultConnectionGene(key=(-15, 0), weight=0.3033536447728227, enabled=False)\n",
      "\tDefaultConnectionGene(key=(-15, 2), weight=0.07742522406996039, enabled=False)\n",
      "\tDefaultConnectionGene(key=(-15, 3), weight=0.2727051236012016, enabled=False)\n",
      "\tDefaultConnectionGene(key=(-14, 1), weight=0.41625995764900015, enabled=False)\n",
      "\tDefaultConnectionGene(key=(-14, 2), weight=-0.989951313466806, enabled=True)\n",
      "\tDefaultConnectionGene(key=(-14, 3), weight=-0.22869904165030713, enabled=False)\n",
      "\tDefaultConnectionGene(key=(-14, 18587), weight=1.3847968093905583, enabled=False)\n",
      "\tDefaultConnectionGene(key=(-14, 33233), weight=0.7851949970397378, enabled=True)\n",
      "\tDefaultConnectionGene(key=(-13, 0), weight=0.03436072073508598, enabled=True)\n",
      "\tDefaultConnectionGene(key=(-13, 1), weight=-0.5010926939201592, enabled=True)\n",
      "\tDefaultConnectionGene(key=(-13, 2), weight=-0.8649576091200837, enabled=True)\n",
      "\tDefaultConnectionGene(key=(-12, 0), weight=-0.38636582493158955, enabled=False)\n",
      "\tDefaultConnectionGene(key=(-12, 1), weight=0.6751089386160256, enabled=True)\n",
      "\tDefaultConnectionGene(key=(-11, 0), weight=0.27219370836962287, enabled=True)\n",
      "\tDefaultConnectionGene(key=(-11, 2), weight=0.2828385268512015, enabled=True)\n",
      "\tDefaultConnectionGene(key=(-11, 3), weight=0.023475905354768817, enabled=False)\n",
      "\tDefaultConnectionGene(key=(-10, 3), weight=-1.1214644500415307, enabled=True)\n",
      "\tDefaultConnectionGene(key=(-10, 18587), weight=-0.19617968563068172, enabled=False)\n",
      "\tDefaultConnectionGene(key=(-10, 61124), weight=0.771630338164061, enabled=True)\n",
      "\tDefaultConnectionGene(key=(-9, 0), weight=-0.5851884560309776, enabled=True)\n",
      "\tDefaultConnectionGene(key=(-9, 2), weight=0.1772671794487164, enabled=False)\n",
      "\tDefaultConnectionGene(key=(-9, 3), weight=0.131706115598412, enabled=False)\n",
      "\tDefaultConnectionGene(key=(-8, 0), weight=-0.06047024106529842, enabled=True)\n",
      "\tDefaultConnectionGene(key=(-8, 1), weight=-0.18344973178842264, enabled=True)\n",
      "\tDefaultConnectionGene(key=(-8, 2), weight=0.9226256200573837, enabled=True)\n",
      "\tDefaultConnectionGene(key=(-8, 33233), weight=-0.27337396564866817, enabled=True)\n",
      "\tDefaultConnectionGene(key=(-7, 0), weight=0.38558577380848713, enabled=False)\n",
      "\tDefaultConnectionGene(key=(-7, 3), weight=-0.5643611464539332, enabled=False)\n",
      "\tDefaultConnectionGene(key=(-6, 0), weight=0.8464562995939955, enabled=False)\n",
      "\tDefaultConnectionGene(key=(-6, 23443), weight=0.933762313460925, enabled=True)\n",
      "\tDefaultConnectionGene(key=(-5, 1), weight=-0.17329625378403007, enabled=False)\n",
      "\tDefaultConnectionGene(key=(-5, 2), weight=0.010567523813267178, enabled=False)\n",
      "\tDefaultConnectionGene(key=(-4, 0), weight=0.5541721352886317, enabled=False)\n",
      "\tDefaultConnectionGene(key=(-4, 3), weight=-0.12004015039989885, enabled=False)\n",
      "\tDefaultConnectionGene(key=(-4, 19266), weight=1.0283459771596382, enabled=True)\n",
      "\tDefaultConnectionGene(key=(-3, 1), weight=0.4032983596583214, enabled=False)\n",
      "\tDefaultConnectionGene(key=(-3, 18587), weight=0.09621690173010952, enabled=True)\n",
      "\tDefaultConnectionGene(key=(-2, 0), weight=-0.9884437346022539, enabled=False)\n",
      "\tDefaultConnectionGene(key=(-2, 1), weight=-0.9428737013112062, enabled=True)\n",
      "\tDefaultConnectionGene(key=(-2, 2), weight=-0.9427582291540983, enabled=True)\n",
      "\tDefaultConnectionGene(key=(-2, 57885), weight=1.1063810018979492, enabled=True)\n",
      "\tDefaultConnectionGene(key=(-1, 3), weight=0.82932710975908, enabled=False)\n",
      "\tDefaultConnectionGene(key=(0, 0), weight=-0.033431976716262746, enabled=False)\n",
      "\tDefaultConnectionGene(key=(2, 2), weight=0.23776118491601891, enabled=False)\n",
      "\tDefaultConnectionGene(key=(18587, 3), weight=0.06617294914700447, enabled=True)\n",
      "\tDefaultConnectionGene(key=(19266, 3), weight=0.412328169957207, enabled=True)\n",
      "\tDefaultConnectionGene(key=(23443, 0), weight=0.4788360186862093, enabled=True)\n",
      "\tDefaultConnectionGene(key=(33233, 1), weight=-0.0804239661447847, enabled=True)\n",
      "\tDefaultConnectionGene(key=(61124, 18587), weight=-0.1965765357644375, enabled=True)\n",
      "226.4790154992146\n",
      "Agent count: 1\n",
      ".\n",
      "35.28403821055574\n",
      "Agent count: 1\n"
     ]
    },
    {
     "ename": "UnityCommunicatorStoppedException",
     "evalue": "Communicator has exited.",
     "output_type": "error",
     "traceback": [
      "\u001b[1;31m---------------------------------------------------------------------------\u001b[0m",
      "\u001b[1;31mUnityCommunicatorStoppedException\u001b[0m         Traceback (most recent call last)",
      "Cell \u001b[1;32mIn[9], line 15\u001b[0m\n\u001b[0;32m      9\u001b[0m config \u001b[38;5;241m=\u001b[39m neat\u001b[38;5;241m.\u001b[39mConfig(neat\u001b[38;5;241m.\u001b[39mDefaultGenome, neat\u001b[38;5;241m.\u001b[39mDefaultReproduction,\n\u001b[0;32m     10\u001b[0m                     neat\u001b[38;5;241m.\u001b[39mDefaultSpeciesSet, neat\u001b[38;5;241m.\u001b[39mDefaultStagnation,\n\u001b[0;32m     11\u001b[0m                     \u001b[38;5;124m'\u001b[39m\u001b[38;5;124m../configs/config-recurrent\u001b[39m\u001b[38;5;124m'\u001b[39m)\n\u001b[0;32m     12\u001b[0m \u001b[38;5;66;03m# Save best genome\u001b[39;00m\n\u001b[0;32m     13\u001b[0m \u001b[38;5;66;03m# with open(f'best.pkl', 'wb') as f:\u001b[39;00m\n\u001b[0;32m     14\u001b[0m \u001b[38;5;66;03m#    pickle.dump(genome, f)\u001b[39;00m\n\u001b[1;32m---> 15\u001b[0m \u001b[43meval_agent\u001b[49m\u001b[43m(\u001b[49m\u001b[43mgenome\u001b[49m\u001b[43m,\u001b[49m\u001b[43m \u001b[49m\u001b[43mconfig\u001b[49m\u001b[43m)\u001b[49m\n",
      "Cell \u001b[1;32mIn[8], line 42\u001b[0m, in \u001b[0;36meval_agent\u001b[1;34m(genome, cfg)\u001b[0m\n\u001b[0;32m     38\u001b[0m         action_tuple \u001b[38;5;241m=\u001b[39m ActionTuple(discrete\u001b[38;5;241m=\u001b[39m\u001b[38;5;28;01mNone\u001b[39;00m, continuous\u001b[38;5;241m=\u001b[39mcontinous_actions)\n\u001b[0;32m     39\u001b[0m         env\u001b[38;5;241m.\u001b[39mset_action_for_agent(behavior_name\u001b[38;5;241m=\u001b[39mbehavior_name, \n\u001b[0;32m     40\u001b[0m                                 agent_id\u001b[38;5;241m=\u001b[39magent, \n\u001b[0;32m     41\u001b[0m                                 action\u001b[38;5;241m=\u001b[39maction_tuple)\n\u001b[1;32m---> 42\u001b[0m \u001b[43menv\u001b[49m\u001b[38;5;241;43m.\u001b[39;49m\u001b[43mstep\u001b[49m\u001b[43m(\u001b[49m\u001b[43m)\u001b[49m\n\u001b[0;32m     43\u001b[0m decision_steps, terminal_steps \u001b[38;5;241m=\u001b[39m env\u001b[38;5;241m.\u001b[39mget_steps(behavior_name)\n\u001b[0;32m     44\u001b[0m \u001b[38;5;28;01mfor\u001b[39;00m agent \u001b[38;5;129;01min\u001b[39;00m \u001b[38;5;28mrange\u001b[39m(agent_count):\n",
      "File \u001b[1;32mc:\\Users\\alesm\\miniconda3\\envs\\mlagents\\lib\\site-packages\\mlagents_envs\\timers.py:305\u001b[0m, in \u001b[0;36mtimed.<locals>.wrapped\u001b[1;34m(*args, **kwargs)\u001b[0m\n\u001b[0;32m    303\u001b[0m \u001b[38;5;28;01mdef\u001b[39;00m \u001b[38;5;21mwrapped\u001b[39m(\u001b[38;5;241m*\u001b[39margs, \u001b[38;5;241m*\u001b[39m\u001b[38;5;241m*\u001b[39mkwargs):\n\u001b[0;32m    304\u001b[0m     \u001b[38;5;28;01mwith\u001b[39;00m hierarchical_timer(func\u001b[38;5;241m.\u001b[39m\u001b[38;5;18m__qualname__\u001b[39m):\n\u001b[1;32m--> 305\u001b[0m         \u001b[38;5;28;01mreturn\u001b[39;00m func(\u001b[38;5;241m*\u001b[39margs, \u001b[38;5;241m*\u001b[39m\u001b[38;5;241m*\u001b[39mkwargs)\n",
      "File \u001b[1;32mc:\\Users\\alesm\\miniconda3\\envs\\mlagents\\lib\\site-packages\\mlagents_envs\\environment.py:350\u001b[0m, in \u001b[0;36mUnityEnvironment.step\u001b[1;34m(self)\u001b[0m\n\u001b[0;32m    348\u001b[0m     outputs \u001b[38;5;241m=\u001b[39m \u001b[38;5;28mself\u001b[39m\u001b[38;5;241m.\u001b[39m_communicator\u001b[38;5;241m.\u001b[39mexchange(step_input, \u001b[38;5;28mself\u001b[39m\u001b[38;5;241m.\u001b[39m_poll_process)\n\u001b[0;32m    349\u001b[0m \u001b[38;5;28;01mif\u001b[39;00m outputs \u001b[38;5;129;01mis\u001b[39;00m \u001b[38;5;28;01mNone\u001b[39;00m:\n\u001b[1;32m--> 350\u001b[0m     \u001b[38;5;28;01mraise\u001b[39;00m UnityCommunicatorStoppedException(\u001b[38;5;124m\"\u001b[39m\u001b[38;5;124mCommunicator has exited.\u001b[39m\u001b[38;5;124m\"\u001b[39m)\n\u001b[0;32m    351\u001b[0m \u001b[38;5;28mself\u001b[39m\u001b[38;5;241m.\u001b[39m_update_behavior_specs(outputs)\n\u001b[0;32m    352\u001b[0m rl_output \u001b[38;5;241m=\u001b[39m outputs\u001b[38;5;241m.\u001b[39mrl_output\n",
      "\u001b[1;31mUnityCommunicatorStoppedException\u001b[0m: Communicator has exited."
     ]
    }
   ],
   "source": [
    "save_nn_destination = '../result/best-recurrent/0/best.pkl'\n",
    "#save_nn_destination = '../result/best.pkl'\n",
    "\n",
    "with open(save_nn_destination, \"rb\") as f:\n",
    "    genome = pickle.load(f)\n",
    "    #genome = genome[1]\n",
    "    print(genome)\n",
    "print(genome.fitness)\n",
    "config = neat.Config(neat.DefaultGenome, neat.DefaultReproduction,\n",
    "                    neat.DefaultSpeciesSet, neat.DefaultStagnation,\n",
    "                    '../configs/config-recurrent')\n",
    "# Save best genome\n",
    "# with open(f'best.pkl', 'wb') as f:\n",
    "#    pickle.dump(genome, f)\n",
    "eval_agent(genome, config)"
   ]
  },
  {
   "cell_type": "code",
   "execution_count": null,
   "metadata": {
    "metadata": {}
   },
   "outputs": [],
   "source": [
    "env.close()"
   ]
  },
  {
   "cell_type": "code",
   "execution_count": null,
   "metadata": {},
   "outputs": [
    {
     "ename": "ModuleNotFoundError",
     "evalue": "No module named 'NEAT'",
     "output_type": "error",
     "traceback": [
      "\u001b[1;31m---------------------------------------------------------------------------\u001b[0m",
      "\u001b[1;31mModuleNotFoundError\u001b[0m                       Traceback (most recent call last)",
      "Cell \u001b[1;32mIn[2], line 1\u001b[0m\n\u001b[1;32m----> 1\u001b[0m \u001b[38;5;28;01mimport\u001b[39;00m \u001b[38;5;21;01mNEAT\u001b[39;00m\u001b[38;5;21;01m.\u001b[39;00m\u001b[38;5;21;01mtrainers\u001b[39;00m\u001b[38;5;21;01m.\u001b[39;00m\u001b[38;5;21;01mvisualize\u001b[39;00m \u001b[38;5;28;01mas\u001b[39;00m \u001b[38;5;21;01mvisualize\u001b[39;00m\n\u001b[0;32m      2\u001b[0m name \u001b[38;5;241m=\u001b[39m \u001b[38;5;124m'\u001b[39m\u001b[38;5;124mwinner-\u001b[39m\u001b[38;5;132;01m{0}\u001b[39;00m\u001b[38;5;124m'\u001b[39m\u001b[38;5;241m.\u001b[39mformat(\u001b[38;5;241m1\u001b[39m)\n\u001b[0;32m      3\u001b[0m visualize\u001b[38;5;241m.\u001b[39mdraw_net(config, genome, view\u001b[38;5;241m=\u001b[39m\u001b[38;5;28;01mFalse\u001b[39;00m, filename\u001b[38;5;241m=\u001b[39mname \u001b[38;5;241m+\u001b[39m \u001b[38;5;124m\"\u001b[39m\u001b[38;5;124m-net.gv\u001b[39m\u001b[38;5;124m\"\u001b[39m)\n",
      "\u001b[1;31mModuleNotFoundError\u001b[0m: No module named 'NEAT'"
     ]
    }
   ],
   "source": [
    "import NEAT.trainers.visualize as visualize\n",
    "name = 'winner-{0}'.format(1)\n",
    "visualize.draw_net(config, genome, view=False, filename=name + \"-net.gv\")\n",
    "visualize.draw_net(config, genome, view=False, filename=name + \"-net-pruned.gv\", prune_unused=True)"
   ]
  }
 ],
 "metadata": {
  "kernelspec": {
   "display_name": "mlagents",
   "language": "python",
   "name": "python3"
  },
  "language_info": {
   "codemirror_mode": {
    "name": "ipython",
    "version": 3
   },
   "file_extension": ".py",
   "mimetype": "text/x-python",
   "name": "python",
   "nbconvert_exporter": "python",
   "pygments_lexer": "ipython3",
   "version": "3.10.12"
  }
 },
 "nbformat": 4,
 "nbformat_minor": 2
}
