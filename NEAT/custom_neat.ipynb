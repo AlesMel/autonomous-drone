{
 "cells": [
  {
   "cell_type": "code",
   "execution_count": 1,
   "metadata": {
    "metadata": {}
   },
   "outputs": [],
   "source": [
    "import numpy as np\n",
    "import random\n",
    "import copy\n",
    "up_space = 1\n",
    "low_space = -1\n",
    "class NeuralNetwork:\n",
    "    def __init__(self, layer_sizes, weights=None):\n",
    "        self.layer_sizes = layer_sizes\n",
    "        if weights is None:\n",
    "            # Initialize random weights if none are provided\n",
    "            self.weights = [np.random.uniform(low_space, up_space, size=(y, x)) for x, y in zip(layer_sizes[:-1], layer_sizes[1:])]\n",
    "        else:\n",
    "            # Use provided weights\n",
    "            self.weights = weights\n",
    "\n",
    "    def forward_pass(self, input_data):\n",
    "        activations = input_data\n",
    "        for weights in self.weights:\n",
    "            # Matrix multiplication between last layer outputs and weights + sigmoid activation\n",
    "            activations = self.tanh(np.dot(activations, weights.T))\n",
    "        return activations\n",
    "\n",
    "    @staticmethod\n",
    "    def sigmoid(x):\n",
    "        \"\"\"\n",
    "        Sigmoid activation function.\n",
    "        \"\"\"\n",
    "        return 1 / (1 + np.exp(-x))\n",
    "    @staticmethod\n",
    "    def tanh(x):\n",
    "        \"\"\"\n",
    "        Tanh activation function\n",
    "        \"\"\"\n",
    "        return np.tanh(x)"
   ]
  },
  {
   "cell_type": "code",
   "execution_count": 2,
   "metadata": {
    "metadata": {}
   },
   "outputs": [],
   "source": [
    "def mutx(o_weights, mutation_rate,):\n",
    "    weights = copy.deepcopy(o_weights)\n",
    "    if np.random.rand() < mutation_rate:\n",
    "        # Compute the difference 'd' as described\n",
    "        d = up_space - low_space\n",
    "        # Generate random changes within the range defined by 'd'\n",
    "        random_changes = np.random.rand(*weights.shape) * d + low_space\n",
    "        # Assign new values to the weights\n",
    "        weights = random_changes\n",
    "    # Clamp the weights to ensure they remain within the specified bounds\n",
    "    np.clip(weights, low_space, up_space, out=weights)\n",
    "    return weights"
   ]
  },
  {
   "cell_type": "code",
   "execution_count": 3,
   "metadata": {
    "metadata": {}
   },
   "outputs": [],
   "source": [
    "def muta(o_weights, mutation_rate, fraction=10):    \n",
    "    upper_amplitude = up_space / fraction\n",
    "    lower_amplitude = low_space / fraction\n",
    "    weights = copy.deepcopy(o_weights)\n",
    "    # Mutation process\n",
    "    for i in range(len(weights)):\n",
    "        if np.random.rand() < mutation_rate:\n",
    "            # Choose amplitude from either upper or lower bound randomly\n",
    "            amplitude = random.choice([upper_amplitude, lower_amplitude])\n",
    "            # Generate a random value between -1 and 1, scale it by the chosen amplitude\n",
    "            mutation = (2 * np.random.rand() - 1) * amplitude\n",
    "            weights[i] += mutation\n",
    "            # Clamp the mutated weights to stay within specified bounds\n",
    "            weights[i] = np.clip(weights[i], low_space, up_space)\n",
    "    return weights"
   ]
  },
  {
   "cell_type": "code",
   "execution_count": 4,
   "metadata": {
    "metadata": {}
   },
   "outputs": [],
   "source": [
    "def crossover(population):\n",
    "    new_population = []\n",
    "    # Ensure we pick pairs, so we need an even number of individuals\n",
    "    num_pairs = len(population) // 2\n",
    "\n",
    "    for _ in range(num_pairs):\n",
    "        # Randomly select two parents without replacement\n",
    "        parent1, parent2 = np.random.choice(population, 2, replace=False)\n",
    "\n",
    "        # Perform crossover to produce two children\n",
    "        for _ in range(2):  # Produce two children\n",
    "            child_weights = []\n",
    "            for weights1, weights2 in zip(parent1.weights, parent2.weights):\n",
    "                # Create a mask for crossover\n",
    "                mask = np.random.rand(*weights1.shape) > 0.5\n",
    "                # Apply mask to create a new child's weights\n",
    "                child_weight = np.where(mask, weights1, weights2)\n",
    "                child_weights.append(child_weight)\n",
    "\n",
    "            # Create a new NeuralNetwork object for the child\n",
    "            child = NeuralNetwork(parent1.layer_sizes, weights=child_weights)\n",
    "            new_population.append(child)\n",
    "\n",
    "            # Make sure we do not exceed the original population size\n",
    "            if len(new_population) >= len(population):\n",
    "                return new_population\n",
    "\n",
    "    # In case the original population size is odd and we have room for one more\n",
    "    if len(new_population) < len(population):\n",
    "        new_population.append(copy.deepcopy(np.random.choice(population)))\n",
    "\n",
    "    return new_population"
   ]
  },
  {
   "cell_type": "code",
   "execution_count": 5,
   "metadata": {
    "metadata": {}
   },
   "outputs": [],
   "source": [
    "def select_best(population, fitness_scores, selection_counts):\n",
    "    new_population = copy.deepcopy(population)\n",
    "    sorted_indices = np.argsort(fitness_scores)[::-1]\n",
    "    result_population = []\n",
    "    for count, index in zip(selection_counts, sorted_indices):\n",
    "        # Extend the result population with 'count' copies of the 'index'-th best individual\n",
    "        result_population.extend([new_population[index]] * count)\n",
    "    return result_population"
   ]
  },
  {
   "cell_type": "code",
   "execution_count": 6,
   "metadata": {
    "metadata": {}
   },
   "outputs": [],
   "source": [
    "def select_rul(population, fitness_scores, selection_size):\n",
    "    new_population = copy.deepcopy(population)\n",
    "    total_fitness = sum(fitness_scores)  # Sum of all fitness scores\n",
    "    selection_probs = [score / total_fitness for score in fitness_scores]  # Probability for each individual\n",
    "    \n",
    "    selected = random.choices(\n",
    "        population=new_population, \n",
    "        weights=selection_probs, \n",
    "        k=selection_size\n",
    "    )\n",
    "    \n",
    "    return selected"
   ]
  },
  {
   "cell_type": "code",
   "execution_count": 7,
   "metadata": {
    "metadata": {}
   },
   "outputs": [],
   "source": [
    "def select_rand(population, selection_size):\n",
    "    new_population = copy.deepcopy(population)\n",
    "    selected = random.sample(new_population, selection_size)\n",
    "    return selected"
   ]
  },
  {
   "cell_type": "code",
   "execution_count": 8,
   "metadata": {
    "metadata": {}
   },
   "outputs": [],
   "source": [
    "import pickle\n",
    "import numpy as np\n",
    "import neat\n",
    "import datetime\n",
    "import os\n",
    "import math\n",
    "\n",
    "from comunication_channel import AgentLogChannel\n",
    "\n",
    "from mlagents_envs.environment import UnityEnvironment\n",
    "from mlagents_envs.base_env import ActionTuple\n",
    "from mlagents_envs.side_channel.engine_configuration_channel import EngineConfigurationChannel"
   ]
  },
  {
   "cell_type": "code",
   "execution_count": 9,
   "metadata": {
    "metadata": {}
   },
   "outputs": [],
   "source": [
    "def map_agent_ids(decision_steps):\n",
    "    \"\"\"\n",
    "    Map agent ids between NEAT and UNITY.\n",
    "\n",
    "    Args:\n",
    "        decision_steps: An iterable containing decision steps.\n",
    "\n",
    "    Returns:\n",
    "        A tuple of two dictionaries: (unity_to_neat_map, neat_to_unity_map)\n",
    "    \"\"\"\n",
    "    unity_to_neat_map = {}\n",
    "    neat_to_unity_map = {}\n",
    "    id_count = 0\n",
    "    for step in decision_steps:\n",
    "        unity_to_neat_map[step] = id_count\n",
    "        neat_to_unity_map[id_count] = step\n",
    "        id_count += 1\n",
    "    return unity_to_neat_map, neat_to_unity_map"
   ]
  },
  {
   "cell_type": "code",
   "execution_count": 10,
   "metadata": {
    "metadata": {}
   },
   "outputs": [],
   "source": [
    "engine_config_channel = EngineConfigurationChannel()\n",
    "engine_config_channel.set_configuration_parameters(time_scale=10)\n",
    "agent_count_channel = AgentLogChannel()\n",
    "\n",
    "env_path = \"../Builds/train-env/autonomous-drone.exe\"\n",
    "save_nn_destination = 'result/best.pkl'\n",
    "\n",
    "env = UnityEnvironment(file_name=None, worker_id=0, no_graphics=True, side_channels=[engine_config_channel, agent_count_channel])\n",
    "env.reset()"
   ]
  },
  {
   "cell_type": "code",
   "execution_count": 11,
   "metadata": {
    "metadata": {}
   },
   "outputs": [],
   "source": [
    "def set_agents_and_double_reset(num_agents: int):\n",
    "    agent_count_channel.send_int(data=num_agents) \n",
    "    env.reset()\n",
    "    env.reset()"
   ]
  },
  {
   "cell_type": "code",
   "execution_count": 12,
   "metadata": {
    "metadata": {}
   },
   "outputs": [
    {
     "name": "stdout",
     "output_type": "stream",
     "text": [
      "Behaviour specs <mlagents_envs.base_env.BehaviorMapping object at 0x000002050B49D900>\n",
      "Name of the behavior : DroneControl?team=0\n",
      "Number of observations :  1\n",
      "There are 4 continuous actions\n"
     ]
    }
   ],
   "source": [
    "out_mult = 1\n",
    "\n",
    "behavior_specs = env.behavior_specs\n",
    "print(f\"Behaviour specs {behavior_specs}\")\n",
    "behavior_name = list(behavior_specs)[0]\n",
    "spec = env.behavior_specs[behavior_name]\n",
    "\n",
    "print(f\"Name of the behavior : {behavior_name}\")\n",
    "print(\"Number of observations : \", len(spec.observation_specs)) # vector if 1\n",
    "\n",
    "# Is the Action continuous or multi-discrete ?\n",
    "if spec.action_spec.continuous_size > 0:\n",
    "  print(f\"There are {spec.action_spec.continuous_size} continuous actions\")\n",
    "if spec.action_spec.is_discrete():\n",
    "  print(f\"There are {spec.action_spec.discrete_size} discrete actions\")"
   ]
  },
  {
   "cell_type": "code",
   "execution_count": 13,
   "metadata": {
    "metadata": {}
   },
   "outputs": [],
   "source": [
    "import time\n",
    "def eval_genomes(population, num_runs: int):\n",
    "    episode_rewards = [0] * len(population)\n",
    "    for _ in range(num_runs):\n",
    "        env.reset()\n",
    "        decision_steps, terminal_steps = env.get_steps(behavior_name)\n",
    "        agent_count = len(decision_steps.agent_id)\n",
    "        unity_to_neat_map, neat_to_unity_map = map_agent_ids(decision_steps)\n",
    "        done = False  # Vectorized initialization\n",
    "        removed_agents = []\n",
    "\n",
    "        while not done:\n",
    "            for agent in decision_steps:\n",
    "                if unity_to_neat_map[agent] not in removed_agents:\n",
    "                    nn_input =  np.asarray(decision_steps[agent].obs[:])\n",
    "                    #print(f\"NN INPUT: {nn_input}, agent: {agent}\")\n",
    "                    actions = population[unity_to_neat_map[agent]].forward_pass(nn_input)\n",
    "                    continous_actions = np.asarray(actions)\n",
    "                    continous_actions = np.clip(continous_actions, -1, 1)\n",
    "                    #print(f\"Actions {agent} {continous_actions}\")\n",
    "                    action_tuple = ActionTuple(discrete=None, continuous=continous_actions)\n",
    "                    env.set_action_for_agent(behavior_name=behavior_name, \n",
    "                                            agent_id=agent, \n",
    "                                            action=action_tuple)\n",
    "            env.step()\n",
    "            decision_steps, terminal_steps = env.get_steps(behavior_name)\n",
    "            for agent in range(agent_count):\n",
    "                if agent not in removed_agents:\n",
    "                    local_agent = neat_to_unity_map[agent]\n",
    "                    if local_agent in terminal_steps:\n",
    "                        episode_rewards[agent] += terminal_steps[local_agent].reward\n",
    "                        removed_agents.append(agent)\n",
    "                        #print(f\"Finished: {agent}\")\n",
    "                    elif local_agent in decision_steps:\n",
    "                        episode_rewards[agent] += decision_steps[local_agent].reward\n",
    "            if len(removed_agents) >= agent_count:\n",
    "                done = True\n",
    "    return np.array(episode_rewards)/num_runs"
   ]
  },
  {
   "cell_type": "code",
   "execution_count": 14,
   "metadata": {
    "metadata": {}
   },
   "outputs": [],
   "source": [
    "def adaptive_mutation_rate(generation, max_generations):\n",
    "    return max(0.1, 1 - (generation / max_generations))"
   ]
  },
  {
   "cell_type": "code",
   "execution_count": 15,
   "metadata": {
    "metadata": {}
   },
   "outputs": [],
   "source": [
    "from tqdm import tqdm\n",
    "\n",
    "def run_genetic_algorithm(generations=50, population_size=50, top_k=5):\n",
    "    # Initialize population\n",
    "    population = [NeuralNetwork([16, 10, 10, 4]) for _ in range(population_size)]\n",
    "    best_fitness_history = []  # To store the best fitness in each generation\n",
    "\n",
    "    pbar = tqdm(range(generations), desc='Initializing', leave=True)\n",
    "    \n",
    "    for generation in pbar:\n",
    "        # Evaluate fitness of the population\n",
    "        fitness_scores = eval_genomes(population, 1)\n",
    "        best_fitness = max(fitness_scores)\n",
    "        best_fitness_history.append(best_fitness)  # Save the best fitness of this generation\n",
    "        \n",
    "        # Update tqdm description with current best fitness\n",
    "        pbar.set_description(f\"Gen {generation+1} | Best Fitness: {best_fitness:.2f}\")\n",
    "        pbar.refresh()\n",
    "\n",
    "        # Select via different methods\n",
    "        selected_best = select_best(population, fitness_scores, [2, 1])\n",
    "        selected_best2 = select_best(population, fitness_scores, [1, 1])\n",
    "        selected_rand = select_rand(population, population_size - top_k * 2)\n",
    "        selected_rul = select_rul(population, fitness_scores, top_k)\n",
    "        \n",
    "        # Generate new population\n",
    "        new_population = []\n",
    "        new_population.extend(selected_best)\n",
    "        for individual in selected_best2:\n",
    "            individual.weights = [muta(w, 0.2) for w in individual.weights]\n",
    "            new_population.append(individual)\n",
    "        for individual in selected_rand:\n",
    "            individual.weights = [muta(w, 0.2) for w in individual.weights]\n",
    "            new_population.append(individual)\n",
    "            \n",
    "        selected_rul = crossover(selected_rul)\n",
    "        \n",
    "        for individual in selected_rul:\n",
    "            # here do crossov\n",
    "            individual.weights = [mutx(w, 0.2) for w in individual.weights]\n",
    "            new_population.append(individual)\n",
    "        \n",
    "        population = new_population\n",
    "    return population, best_fitness_history"
   ]
  },
  {
   "cell_type": "code",
   "execution_count": 16,
   "metadata": {
    "metadata": {}
   },
   "outputs": [
    {
     "name": "stderr",
     "output_type": "stream",
     "text": [
      "Gen 473 | Best Fitness: 1.72:  24%|██▎       | 473/2000 [12:14<43:50,  1.72s/it]  "
     ]
    }
   ],
   "source": [
    "population_size = 50\n",
    "set_agents_and_double_reset(population_size)\n",
    "\n",
    "population, best_fitness_history = run_genetic_algorithm(generations=2000, population_size=population_size, top_k=5)"
   ]
  },
  {
   "cell_type": "code",
   "execution_count": null,
   "metadata": {
    "metadata": {}
   },
   "outputs": [],
   "source": [
    "env.close()"
   ]
  },
  {
   "cell_type": "code",
   "execution_count": null,
   "metadata": {
    "metadata": {}
   },
   "outputs": [
    {
     "data": {
      "text/plain": [
       "[<matplotlib.lines.Line2D at 0x16b34d94a60>]"
      ]
     },
     "execution_count": 17,
     "metadata": {},
     "output_type": "execute_result"
    },
    {
     "data": {
      "image/png": "[encoded data removed]",
      "text/plain": [
       "<Figure size 640x480 with 1 Axes>"
      ]
     },
     "metadata": {},
     "output_type": "display_data"
    }
   ],
   "source": [
    "import matplotlib.pyplot as plt\n",
    "\n",
    "plt.plot(best_fitness_history)"
   ]
  },
  {
   "cell_type": "code",
   "execution_count": null,
   "metadata": {
    "metadata": {}
   },
   "outputs": [
    {
     "ename": "NameError",
     "evalue": "name 'selected_best' is not defined",
     "output_type": "error",
     "traceback": [
      "\u001b[1;31m---------------------------------------------------------------------------\u001b[0m",
      "\u001b[1;31mNameError\u001b[0m                                 Traceback (most recent call last)",
      "Cell \u001b[1;32mIn[30], line 1\u001b[0m\n\u001b[1;32m----> 1\u001b[0m \u001b[43mselected_best\u001b[49m[\u001b[38;5;241m0\u001b[39m]\n",
      "\u001b[1;31mNameError\u001b[0m: name 'selected_best' is not defined"
     ]
    }
   ],
   "source": [
    "selected_best[0]"
   ]
  },
  {
   "cell_type": "code",
   "execution_count": null,
   "metadata": {
    "metadata": {}
   },
   "outputs": [
    {
     "ename": "FileNotFoundError",
     "evalue": "[Errno 2] No such file or directory: 'logs/ne/13-04-2024--19_44/best.pkl'",
     "output_type": "error",
     "traceback": [
      "\u001b[1;31m---------------------------------------------------------------------------\u001b[0m",
      "\u001b[1;31mFileNotFoundError\u001b[0m                         Traceback (most recent call last)",
      "Cell \u001b[1;32mIn[28], line 4\u001b[0m\n\u001b[0;32m      1\u001b[0m datte \u001b[38;5;241m=\u001b[39m datetime\u001b[38;5;241m.\u001b[39mdatetime\u001b[38;5;241m.\u001b[39mnow()\u001b[38;5;241m.\u001b[39mstrftime(\u001b[38;5;124m\"\u001b[39m\u001b[38;5;132;01m%d\u001b[39;00m\u001b[38;5;124m-\u001b[39m\u001b[38;5;124m%\u001b[39m\u001b[38;5;124mm-\u001b[39m\u001b[38;5;124m%\u001b[39m\u001b[38;5;124mY--\u001b[39m\u001b[38;5;124m%\u001b[39m\u001b[38;5;124mH_\u001b[39m\u001b[38;5;124m%\u001b[39m\u001b[38;5;124mM\u001b[39m\u001b[38;5;124m\"\u001b[39m)\n\u001b[0;32m      3\u001b[0m \u001b[38;5;66;03m# Save best genome\u001b[39;00m\n\u001b[1;32m----> 4\u001b[0m \u001b[38;5;28;01mwith\u001b[39;00m \u001b[38;5;28;43mopen\u001b[39;49m\u001b[43m(\u001b[49m\u001b[38;5;124;43mf\u001b[39;49m\u001b[38;5;124;43m'\u001b[39;49m\u001b[38;5;124;43mlogs/ne/\u001b[39;49m\u001b[38;5;132;43;01m{\u001b[39;49;00m\u001b[43mdatte\u001b[49m\u001b[38;5;132;43;01m}\u001b[39;49;00m\u001b[38;5;124;43m/best.pkl\u001b[39;49m\u001b[38;5;124;43m'\u001b[39;49m\u001b[43m,\u001b[49m\u001b[43m \u001b[49m\u001b[38;5;124;43m'\u001b[39;49m\u001b[38;5;124;43mwb\u001b[39;49m\u001b[38;5;124;43m'\u001b[39;49m\u001b[43m)\u001b[49m \u001b[38;5;28;01mas\u001b[39;00m f:\n\u001b[0;32m      5\u001b[0m     pickle\u001b[38;5;241m.\u001b[39mdump(ne_best, f)\n",
      "File \u001b[1;32mc:\\Users\\alesm\\miniconda3\\envs\\mlagents\\lib\\site-packages\\IPython\\core\\interactiveshell.py:308\u001b[0m, in \u001b[0;36m_modified_open\u001b[1;34m(file, *args, **kwargs)\u001b[0m\n\u001b[0;32m    301\u001b[0m \u001b[38;5;28;01mif\u001b[39;00m file \u001b[38;5;129;01min\u001b[39;00m {\u001b[38;5;241m0\u001b[39m, \u001b[38;5;241m1\u001b[39m, \u001b[38;5;241m2\u001b[39m}:\n\u001b[0;32m    302\u001b[0m     \u001b[38;5;28;01mraise\u001b[39;00m \u001b[38;5;167;01mValueError\u001b[39;00m(\n\u001b[0;32m    303\u001b[0m         \u001b[38;5;124mf\u001b[39m\u001b[38;5;124m\"\u001b[39m\u001b[38;5;124mIPython won\u001b[39m\u001b[38;5;124m'\u001b[39m\u001b[38;5;124mt let you open fd=\u001b[39m\u001b[38;5;132;01m{\u001b[39;00mfile\u001b[38;5;132;01m}\u001b[39;00m\u001b[38;5;124m by default \u001b[39m\u001b[38;5;124m\"\u001b[39m\n\u001b[0;32m    304\u001b[0m         \u001b[38;5;124m\"\u001b[39m\u001b[38;5;124mas it is likely to crash IPython. If you know what you are doing, \u001b[39m\u001b[38;5;124m\"\u001b[39m\n\u001b[0;32m    305\u001b[0m         \u001b[38;5;124m\"\u001b[39m\u001b[38;5;124myou can use builtins\u001b[39m\u001b[38;5;124m'\u001b[39m\u001b[38;5;124m open.\u001b[39m\u001b[38;5;124m\"\u001b[39m\n\u001b[0;32m    306\u001b[0m     )\n\u001b[1;32m--> 308\u001b[0m \u001b[38;5;28;01mreturn\u001b[39;00m io_open(file, \u001b[38;5;241m*\u001b[39margs, \u001b[38;5;241m*\u001b[39m\u001b[38;5;241m*\u001b[39mkwargs)\n",
      "\u001b[1;31mFileNotFoundError\u001b[0m: [Errno 2] No such file or directory: 'logs/ne/13-04-2024--19_44/best.pkl'"
     ]
    }
   ],
   "source": [
    "datte = datetime.datetime.now().strftime(\"%d-%m-%Y--%H_%M\")\n",
    "\n",
    "# Save best genome\n",
    "with open(f'logs/ne/{datte}/best.pkl', 'wb') as f:\n",
    "    pickle.dump(ne_best, f)"
   ]
  }
 ],
 "metadata": {
  "kernelspec": {
   "display_name": "mlagents",
   "language": "python",
   "name": "python3"
  },
  "language_info": {
   "codemirror_mode": {
    "name": "ipython",
    "version": 3
   },
   "file_extension": ".py",
   "mimetype": "text/x-python",
   "name": "python",
   "nbconvert_exporter": "python",
   "pygments_lexer": "ipython3",
   "version": "3.10.12"
  }
 },
 "nbformat": 4,
 "nbformat_minor": 2
}
