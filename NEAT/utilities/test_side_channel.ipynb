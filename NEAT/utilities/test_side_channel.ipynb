{
 "cells": [
  {
   "cell_type": "code",
   "execution_count": 2,
   "metadata": {},
   "outputs": [],
   "source": [
    "import pickle\n",
    "import sys\n",
    "import numpy as np\n",
    "import time\n",
    "import atexit   \n",
    "import neat\n",
    "# import visualize\n",
    "import math\n",
    "import csv\n",
    "import os\n",
    "import datetime\n",
    "\n",
    "from mlagents_envs.environment import UnityEnvironment\n",
    "from mlagents_envs.base_env import ActionTuple\n",
    "from mlagents_envs.side_channel.engine_configuration_channel import EngineConfigurationChannel"
   ]
  },
  {
   "cell_type": "code",
   "execution_count": 3,
   "metadata": {},
   "outputs": [],
   "source": [
    "from mlagents_envs.environment import UnityEnvironment\n",
    "from mlagents_envs.side_channel.side_channel import (\n",
    "    SideChannel,\n",
    "    IncomingMessage,\n",
    "    OutgoingMessage,\n",
    ")\n",
    "import numpy as np\n",
    "import uuid\n",
    "\n",
    "class AgentLogChannel(SideChannel):\n",
    "    def __init__(self) -> None:\n",
    "        super().__init__(uuid.UUID(\"621f0a70-4f87-11ea-a6bf-784f4387d1f7\"))\n",
    "    def on_message_received(self, msg: IncomingMessage) -> None:\n",
    "        print(msg.read_string())\n",
    "    def send_string(self, data: str):\n",
    "        msg = OutgoingMessage()\n",
    "        msg.write_string(data)\n",
    "        super().queue_message_to_send(msg=msg)\n",
    "    def send_int(self, data: int):\n",
    "        print(f\"Sending: {data}\")\n",
    "        msg = OutgoingMessage()\n",
    "        msg.write_int32(i=data)\n",
    "        super().queue_message_to_send(msg=msg)"
   ]
  },
  {
   "cell_type": "code",
   "execution_count": 4,
   "metadata": {},
   "outputs": [],
   "source": [
    "agent_count_channel = AgentLogChannel()"
   ]
  },
  {
   "cell_type": "code",
   "execution_count": 5,
   "metadata": {},
   "outputs": [],
   "source": [
    "env = UnityEnvironment(side_channels=[agent_count_channel])"
   ]
  },
  {
   "cell_type": "code",
   "execution_count": 8,
   "metadata": {},
   "outputs": [
    {
     "name": "stdout",
     "output_type": "stream",
     "text": [
      "Sending: 5\n",
      "Sending: 5\n"
     ]
    }
   ],
   "source": [
    "env.reset() \n",
    "for episode in range(2):\n",
    "    env.reset()\n",
    "    agent_count_channel.send_int(5)\n",
    "    env.step()"
   ]
  }
 ],
 "metadata": {
  "kernelspec": {
   "display_name": "mlagents",
   "language": "python",
   "name": "python3"
  },
  "language_info": {
   "codemirror_mode": {
    "name": "ipython",
    "version": 3
   },
   "file_extension": ".py",
   "mimetype": "text/x-python",
   "name": "python",
   "nbconvert_exporter": "python",
   "pygments_lexer": "ipython3",
   "version": "3.10.12"
  }
 },
 "nbformat": 4,
 "nbformat_minor": 2
}
