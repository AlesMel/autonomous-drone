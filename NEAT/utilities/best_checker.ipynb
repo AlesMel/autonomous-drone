{
 "cells": [
  {
   "cell_type": "code",
   "execution_count": 3,
   "metadata": {},
   "outputs": [
    {
     "name": "stderr",
     "output_type": "stream",
     "text": [
      "c:\\Users\\alesm\\miniconda3\\envs\\mlagents\\lib\\site-packages\\tqdm\\auto.py:21: TqdmWarning: IProgress not found. Please update jupyter and ipywidgets. See https://ipywidgets.readthedocs.io/en/stable/user_install.html\n",
      "  from .autonotebook import tqdm as notebook_tqdm\n"
     ]
    }
   ],
   "source": [
    "import pickle\n",
    "import neat\n",
    "import os"
   ]
  },
  {
   "cell_type": "code",
   "execution_count": 4,
   "metadata": {},
   "outputs": [],
   "source": [
    "best_dest = 'result\\\\best.pkl'\n",
    "with open(best_dest, \"rb\") as f:\n",
    "    best_genome = pickle.load(f)"
   ]
  },
  {
   "cell_type": "code",
   "execution_count": 5,
   "metadata": {},
   "outputs": [
    {
     "name": "stdout",
     "output_type": "stream",
     "text": [
      "Key: 1149\n",
      "Fitness: 1203.286444246769\n",
      "Nodes:\n",
      "\t0 DefaultNodeGene(key=0, bias=0.0, response=1.0, activation=tanh, aggregation=sum)\n",
      "\t1 DefaultNodeGene(key=1, bias=0.0, response=1.0, activation=tanh, aggregation=sum)\n",
      "\t2 DefaultNodeGene(key=2, bias=0.0, response=1.0, activation=tanh, aggregation=sum)\n",
      "\t3 DefaultNodeGene(key=3, bias=0.0, response=1.0, activation=tanh, aggregation=sum)\n",
      "\t24 DefaultNodeGene(key=24, bias=0.0, response=1.0, activation=tanh, aggregation=sum)\n",
      "\t25 DefaultNodeGene(key=25, bias=0.0, response=1.0, activation=tanh, aggregation=sum)\n",
      "\t120 DefaultNodeGene(key=120, bias=0.0, response=1.0, activation=tanh, aggregation=sum)\n",
      "\t162 DefaultNodeGene(key=162, bias=0.0, response=1.0, activation=tanh, aggregation=sum)\n",
      "\t269 DefaultNodeGene(key=269, bias=0.0, response=1.0, activation=tanh, aggregation=sum)\n",
      "\t447 DefaultNodeGene(key=447, bias=0.0, response=1.0, activation=tanh, aggregation=sum)\n",
      "\t508 DefaultNodeGene(key=508, bias=0.0, response=1.0, activation=tanh, aggregation=sum)\n",
      "Connections:\n",
      "\tDefaultConnectionGene(key=(-14, 2), weight=1.7804170201708518, enabled=True)\n",
      "\tDefaultConnectionGene(key=(-14, 3), weight=-1.0437249686993981, enabled=True)\n",
      "\tDefaultConnectionGene(key=(-13, 0), weight=-0.24225630073182625, enabled=True)\n",
      "\tDefaultConnectionGene(key=(-13, 1), weight=1.1986627522330817, enabled=True)\n",
      "\tDefaultConnectionGene(key=(-13, 3), weight=0.057417687123921424, enabled=True)\n",
      "\tDefaultConnectionGene(key=(-13, 24), weight=0.9652903053638704, enabled=True)\n",
      "\tDefaultConnectionGene(key=(-12, 0), weight=-0.12987474122832715, enabled=True)\n",
      "\tDefaultConnectionGene(key=(-12, 25), weight=1.3771094807714286, enabled=True)\n",
      "\tDefaultConnectionGene(key=(-11, 0), weight=1.474130057462716, enabled=True)\n",
      "\tDefaultConnectionGene(key=(-11, 1), weight=-0.04163995778749094, enabled=True)\n",
      "\tDefaultConnectionGene(key=(-11, 2), weight=0.18452002272946746, enabled=True)\n",
      "\tDefaultConnectionGene(key=(-11, 3), weight=0.5995496166017489, enabled=True)\n",
      "\tDefaultConnectionGene(key=(-11, 25), weight=1.1524752284221749, enabled=True)\n",
      "\tDefaultConnectionGene(key=(-10, 0), weight=0.9715672683689154, enabled=True)\n",
      "\tDefaultConnectionGene(key=(-10, 1), weight=0.6464865382474954, enabled=True)\n",
      "\tDefaultConnectionGene(key=(-10, 2), weight=-0.6553842898041344, enabled=True)\n",
      "\tDefaultConnectionGene(key=(-10, 3), weight=-0.4371324871981976, enabled=True)\n",
      "\tDefaultConnectionGene(key=(-10, 24), weight=0.3697776295179245, enabled=True)\n",
      "\tDefaultConnectionGene(key=(-8, 2), weight=1.1723124021666527, enabled=True)\n",
      "\tDefaultConnectionGene(key=(-8, 24), weight=0.48989836716750407, enabled=True)\n",
      "\tDefaultConnectionGene(key=(-8, 25), weight=0.5356999799082609, enabled=True)\n",
      "\tDefaultConnectionGene(key=(-7, 1), weight=0.3076094528713965, enabled=True)\n",
      "\tDefaultConnectionGene(key=(-7, 2), weight=-1.278712049281563, enabled=True)\n",
      "\tDefaultConnectionGene(key=(-7, 3), weight=1.0268888491636983, enabled=True)\n",
      "\tDefaultConnectionGene(key=(-7, 269), weight=-0.10750551201965461, enabled=True)\n",
      "\tDefaultConnectionGene(key=(-6, 0), weight=-1.5855264483298197, enabled=True)\n",
      "\tDefaultConnectionGene(key=(-6, 24), weight=0.8753963793735975, enabled=True)\n",
      "\tDefaultConnectionGene(key=(-6, 25), weight=0.15278220749378524, enabled=True)\n",
      "\tDefaultConnectionGene(key=(-5, 0), weight=-2.568866993850624, enabled=False)\n",
      "\tDefaultConnectionGene(key=(-5, 24), weight=-0.9657971243367658, enabled=True)\n",
      "\tDefaultConnectionGene(key=(-5, 162), weight=0.15149559304511473, enabled=True)\n",
      "\tDefaultConnectionGene(key=(-4, 1), weight=-0.5836059812460187, enabled=True)\n",
      "\tDefaultConnectionGene(key=(-4, 3), weight=-0.6905471562141424, enabled=True)\n",
      "\tDefaultConnectionGene(key=(-4, 24), weight=-0.06929420440313758, enabled=True)\n",
      "\tDefaultConnectionGene(key=(-4, 25), weight=0.15907792497540466, enabled=True)\n",
      "\tDefaultConnectionGene(key=(-3, 0), weight=-2.5882609077120384, enabled=True)\n",
      "\tDefaultConnectionGene(key=(-3, 2), weight=0.5556818066613219, enabled=True)\n",
      "\tDefaultConnectionGene(key=(-3, 24), weight=0.6275992537623793, enabled=True)\n",
      "\tDefaultConnectionGene(key=(-3, 120), weight=0.6855670356540366, enabled=True)\n",
      "\tDefaultConnectionGene(key=(-2, 2), weight=1.7149317432017146, enabled=True)\n",
      "\tDefaultConnectionGene(key=(-2, 24), weight=-1.3510550627492992, enabled=True)\n",
      "\tDefaultConnectionGene(key=(-2, 25), weight=-1.0939731581203118, enabled=True)\n",
      "\tDefaultConnectionGene(key=(-1, 1), weight=0.7221756575568722, enabled=True)\n",
      "\tDefaultConnectionGene(key=(-1, 24), weight=-1.7878904127720052, enabled=True)\n",
      "\tDefaultConnectionGene(key=(-1, 120), weight=-0.7342072202249665, enabled=True)\n",
      "\tDefaultConnectionGene(key=(3, 25), weight=-0.7501745214847587, enabled=True)\n",
      "\tDefaultConnectionGene(key=(24, 0), weight=-0.9455985222163044, enabled=False)\n",
      "\tDefaultConnectionGene(key=(24, 1), weight=-0.81109977615099, enabled=False)\n",
      "\tDefaultConnectionGene(key=(24, 2), weight=-2.8452547106965067, enabled=True)\n",
      "\tDefaultConnectionGene(key=(24, 3), weight=-0.04460453894635506, enabled=True)\n",
      "\tDefaultConnectionGene(key=(25, 0), weight=-0.40908742306434376, enabled=True)\n",
      "\tDefaultConnectionGene(key=(25, 2), weight=-0.3296382039161837, enabled=True)\n",
      "\tDefaultConnectionGene(key=(120, 24), weight=-1.6083651226256521, enabled=True)\n",
      "\tDefaultConnectionGene(key=(162, 0), weight=1.1889603247082028, enabled=True)\n",
      "\tDefaultConnectionGene(key=(269, 2), weight=-0.865788608883368, enabled=False)\n",
      "\tDefaultConnectionGene(key=(269, 447), weight=0.9652080596585643, enabled=False)\n",
      "\tDefaultConnectionGene(key=(269, 508), weight=1.0, enabled=True)\n",
      "\tDefaultConnectionGene(key=(447, 2), weight=-1.018558536425219, enabled=True)\n",
      "\tDefaultConnectionGene(key=(508, 447), weight=1.1546036470480787, enabled=True)\n"
     ]
    }
   ],
   "source": [
    "print(best_genome)"
   ]
  },
  {
   "cell_type": "markdown",
   "metadata": {},
   "source": [
    "# Test creating policies"
   ]
  },
  {
   "cell_type": "code",
   "execution_count": 12,
   "metadata": {},
   "outputs": [],
   "source": [
    "def create_policies(genomes, cfg):\n",
    "    policies = []\n",
    "    for _, g in genomes:\n",
    "        print(\"genome\")\n",
    "        g.fitness = best_genome.fitness\n",
    "        policy = neat.nn.FeedForwardNetwork.create(best_genome, cfg)\n",
    "        policies.append(policy)\n",
    "    return policies"
   ]
  },
  {
   "cell_type": "code",
   "execution_count": 13,
   "metadata": {},
   "outputs": [],
   "source": [
    "config_path = 'test_config'\n",
    "config = neat.Config(neat.DefaultGenome, neat.DefaultReproduction,\n",
    "                         neat.DefaultSpeciesSet, neat.DefaultStagnation,\n",
    "                         config_path)"
   ]
  },
  {
   "cell_type": "code",
   "execution_count": 14,
   "metadata": {},
   "outputs": [
    {
     "name": "stdout",
     "output_type": "stream",
     "text": [
      "genome\n",
      "genome\n",
      "genome\n",
      "Best fitness ever found! : 1203.286444246769\n",
      "Best fitness: 1203.286444246769 and actual genome fitness: 1203.286444246769\n",
      "Key: 1\n",
      "Fitness: 1203.286444246769\n",
      "Nodes:\n",
      "\t0 DefaultNodeGene(key=0, bias=0.0, response=1.0, activation=tanh5, aggregation=sum)\n",
      "\t1 DefaultNodeGene(key=1, bias=0.0, response=1.0, activation=tanh5, aggregation=sum)\n",
      "\t2 DefaultNodeGene(key=2, bias=0.0, response=1.0, activation=tanh5, aggregation=sum)\n",
      "\t3 DefaultNodeGene(key=3, bias=0.0, response=1.0, activation=tanh5, aggregation=sum)\n",
      "\t4 DefaultNodeGene(key=4, bias=0.0, response=1.0, activation=tanh5, aggregation=sum)\n",
      "\t5 DefaultNodeGene(key=5, bias=0.0, response=1.0, activation=tanh5, aggregation=sum)\n",
      "Connections:\n",
      "\tDefaultConnectionGene(key=(-14, 0), weight=-0.2930745457517653, enabled=True)\n",
      "\tDefaultConnectionGene(key=(-14, 1), weight=1.4622763267101475, enabled=True)\n",
      "\tDefaultConnectionGene(key=(-14, 3), weight=-0.9088471674196127, enabled=True)\n",
      "\tDefaultConnectionGene(key=(-14, 4), weight=-0.28130005694295246, enabled=True)\n",
      "\tDefaultConnectionGene(key=(-13, 0), weight=-0.9232971141989461, enabled=True)\n",
      "\tDefaultConnectionGene(key=(-13, 1), weight=0.11001985138689338, enabled=True)\n",
      "\tDefaultConnectionGene(key=(-13, 3), weight=-0.3281530227154866, enabled=True)\n",
      "\tDefaultConnectionGene(key=(-13, 5), weight=0.14682773019102727, enabled=True)\n",
      "\tDefaultConnectionGene(key=(-12, 0), weight=-1.089340105102592, enabled=True)\n",
      "\tDefaultConnectionGene(key=(-12, 2), weight=-0.06259200521109551, enabled=True)\n",
      "\tDefaultConnectionGene(key=(-12, 3), weight=0.6615508821297619, enabled=True)\n",
      "\tDefaultConnectionGene(key=(-11, 1), weight=-1.0352507622316067, enabled=True)\n",
      "\tDefaultConnectionGene(key=(-11, 2), weight=-0.9360599160598122, enabled=True)\n",
      "\tDefaultConnectionGene(key=(-11, 3), weight=-1.0643845576977513, enabled=True)\n",
      "\tDefaultConnectionGene(key=(-10, 0), weight=1.1123723119575384, enabled=True)\n",
      "\tDefaultConnectionGene(key=(-10, 1), weight=-0.7238629922222222, enabled=True)\n",
      "\tDefaultConnectionGene(key=(-10, 3), weight=2.5314162629435004, enabled=True)\n",
      "\tDefaultConnectionGene(key=(-10, 4), weight=-1.9632659919586466, enabled=True)\n",
      "\tDefaultConnectionGene(key=(-9, 0), weight=-0.7697785098972404, enabled=True)\n",
      "\tDefaultConnectionGene(key=(-9, 3), weight=0.5052035009586997, enabled=True)\n",
      "\tDefaultConnectionGene(key=(-9, 4), weight=1.016194829880694, enabled=True)\n",
      "\tDefaultConnectionGene(key=(-9, 5), weight=1.222476256167028, enabled=True)\n",
      "\tDefaultConnectionGene(key=(-8, 0), weight=0.4390036419079383, enabled=True)\n",
      "\tDefaultConnectionGene(key=(-8, 1), weight=1.1138800669476197, enabled=True)\n",
      "\tDefaultConnectionGene(key=(-8, 3), weight=2.254069245854235, enabled=True)\n",
      "\tDefaultConnectionGene(key=(-8, 4), weight=-2.307267994445916, enabled=True)\n",
      "\tDefaultConnectionGene(key=(-8, 5), weight=0.8153123797204078, enabled=True)\n",
      "\tDefaultConnectionGene(key=(-7, 4), weight=-0.49967504204817614, enabled=True)\n",
      "\tDefaultConnectionGene(key=(-7, 5), weight=-1.4507661337795954, enabled=True)\n",
      "\tDefaultConnectionGene(key=(-6, 2), weight=-1.8803014510907794, enabled=True)\n",
      "\tDefaultConnectionGene(key=(-6, 4), weight=-0.6884781326631056, enabled=True)\n",
      "\tDefaultConnectionGene(key=(-6, 5), weight=0.5642356544935595, enabled=True)\n",
      "\tDefaultConnectionGene(key=(-5, 0), weight=-0.4611026891960788, enabled=True)\n",
      "\tDefaultConnectionGene(key=(-5, 1), weight=-1.2495767408110308, enabled=True)\n",
      "\tDefaultConnectionGene(key=(-5, 3), weight=-1.2671010561523557, enabled=True)\n",
      "\tDefaultConnectionGene(key=(-5, 5), weight=-0.025189989597909124, enabled=True)\n",
      "\tDefaultConnectionGene(key=(-4, 2), weight=1.6289466702421032, enabled=True)\n",
      "\tDefaultConnectionGene(key=(-4, 4), weight=-0.5970540530453324, enabled=True)\n",
      "\tDefaultConnectionGene(key=(-3, 0), weight=-1.1224423719964807, enabled=True)\n",
      "\tDefaultConnectionGene(key=(-2, 0), weight=-1.4812623453445544, enabled=True)\n",
      "\tDefaultConnectionGene(key=(-2, 1), weight=2.110143078184703, enabled=True)\n",
      "\tDefaultConnectionGene(key=(-1, 0), weight=0.25424535351278926, enabled=True)\n",
      "\tDefaultConnectionGene(key=(-1, 1), weight=-1.3553979350904886, enabled=True)\n",
      "\tDefaultConnectionGene(key=(4, 2), weight=1.6516809160681483, enabled=True)\n",
      "\tDefaultConnectionGene(key=(5, 2), weight=-0.9350904895831142, enabled=True)\n",
      "\tDefaultConnectionGene(key=(5, 3), weight=-1.5755367014788528, enabled=True)\n"
     ]
    }
   ],
   "source": [
    "pop = neat.Population(config)\n",
    "results = pop.run(create_policies, 1)\n",
    "print(results)"
   ]
  }
 ],
 "metadata": {
  "kernelspec": {
   "display_name": "mlagents",
   "language": "python",
   "name": "python3"
  },
  "language_info": {
   "codemirror_mode": {
    "name": "ipython",
    "version": 3
   },
   "file_extension": ".py",
   "mimetype": "text/x-python",
   "name": "python",
   "nbconvert_exporter": "python",
   "pygments_lexer": "ipython3",
   "version": "3.10.12"
  }
 },
 "nbformat": 4,
 "nbformat_minor": 2
}
