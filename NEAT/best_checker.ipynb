{
 "cells": [
  {
   "cell_type": "code",
   "execution_count": 14,
   "metadata": {},
   "outputs": [],
   "source": [
    "import pickle\n",
    "import neat\n",
    "import os"
   ]
  },
  {
   "cell_type": "code",
   "execution_count": 7,
   "metadata": {},
   "outputs": [],
   "source": [
    "best_dest = 'result\\\\best.pkl'\n",
    "with open(best_dest, \"rb\") as f:\n",
    "    best_genome = pickle.load(f)"
   ]
  },
  {
   "cell_type": "code",
   "execution_count": 8,
   "metadata": {},
   "outputs": [
    {
     "name": "stdout",
     "output_type": "stream",
     "text": [
      "Key: 2386\n",
      "Fitness: 1691.3711926043034\n",
      "Nodes:\n",
      "\t0 DefaultNodeGene(key=0, bias=0.0, response=1.0, activation=tanh5, aggregation=sum)\n",
      "\t1 DefaultNodeGene(key=1, bias=0.0, response=1.0, activation=tanh5, aggregation=sum)\n",
      "\t2 DefaultNodeGene(key=2, bias=0.0, response=1.0, activation=tanh5, aggregation=sum)\n",
      "\t3 DefaultNodeGene(key=3, bias=0.0, response=1.0, activation=tanh5, aggregation=sum)\n",
      "\t91 DefaultNodeGene(key=91, bias=0.0, response=1.0, activation=tanh5, aggregation=sum)\n",
      "\t107 DefaultNodeGene(key=107, bias=0.0, response=1.0, activation=tanh5, aggregation=sum)\n",
      "\t579 DefaultNodeGene(key=579, bias=0.0, response=1.0, activation=tanh5, aggregation=sum)\n",
      "\t861 DefaultNodeGene(key=861, bias=0.0, response=1.0, activation=tanh5, aggregation=sum)\n",
      "\t1008 DefaultNodeGene(key=1008, bias=0.0, response=1.0, activation=tanh5, aggregation=sum)\n",
      "Connections:\n",
      "\tDefaultConnectionGene(key=(-14, 0), weight=1.9381842962316391, enabled=True)\n",
      "\tDefaultConnectionGene(key=(-14, 1), weight=-1.546543505411701, enabled=False)\n",
      "\tDefaultConnectionGene(key=(-14, 91), weight=-1.3889125905868378, enabled=True)\n",
      "\tDefaultConnectionGene(key=(-13, 0), weight=-0.9494866049628627, enabled=True)\n",
      "\tDefaultConnectionGene(key=(-13, 1), weight=-0.6359857616377391, enabled=True)\n",
      "\tDefaultConnectionGene(key=(-13, 3), weight=0.6338311490862667, enabled=True)\n",
      "\tDefaultConnectionGene(key=(-12, 0), weight=-1.3290222815050854, enabled=True)\n",
      "\tDefaultConnectionGene(key=(-12, 1), weight=-0.054708953768147495, enabled=True)\n",
      "\tDefaultConnectionGene(key=(-12, 91), weight=-1.4856928275217618, enabled=False)\n",
      "\tDefaultConnectionGene(key=(-11, 0), weight=-1.270088747997997, enabled=False)\n",
      "\tDefaultConnectionGene(key=(-11, 2), weight=0.24488891671917118, enabled=True)\n",
      "\tDefaultConnectionGene(key=(-11, 3), weight=1.615117471291955, enabled=True)\n",
      "\tDefaultConnectionGene(key=(-11, 91), weight=-0.4997746066911907, enabled=True)\n",
      "\tDefaultConnectionGene(key=(-10, 1), weight=0.04424200074900331, enabled=True)\n",
      "\tDefaultConnectionGene(key=(-10, 91), weight=-0.3031523281724863, enabled=True)\n",
      "\tDefaultConnectionGene(key=(-9, 2), weight=1.3972866759812534, enabled=True)\n",
      "\tDefaultConnectionGene(key=(-9, 3), weight=1.49744978960375, enabled=True)\n",
      "\tDefaultConnectionGene(key=(-8, 0), weight=0.012817933176502705, enabled=False)\n",
      "\tDefaultConnectionGene(key=(-8, 2), weight=-1.1735553134922134, enabled=True)\n",
      "\tDefaultConnectionGene(key=(-8, 3), weight=-1.805281422299858, enabled=True)\n",
      "\tDefaultConnectionGene(key=(-8, 91), weight=-0.041162483501009386, enabled=True)\n",
      "\tDefaultConnectionGene(key=(-7, 0), weight=2.9206760053407534, enabled=True)\n",
      "\tDefaultConnectionGene(key=(-7, 3), weight=1.7735640728594975, enabled=False)\n",
      "\tDefaultConnectionGene(key=(-7, 91), weight=-0.4795553703930926, enabled=True)\n",
      "\tDefaultConnectionGene(key=(-7, 107), weight=1.7111539839468306, enabled=True)\n",
      "\tDefaultConnectionGene(key=(-7, 861), weight=1.395984997488027, enabled=True)\n",
      "\tDefaultConnectionGene(key=(-6, 0), weight=-0.4984902691403296, enabled=True)\n",
      "\tDefaultConnectionGene(key=(-5, 1), weight=-3.031917909692758, enabled=True)\n",
      "\tDefaultConnectionGene(key=(-5, 2), weight=-1.267753274788618, enabled=True)\n",
      "\tDefaultConnectionGene(key=(-5, 91), weight=0.8152879655149672, enabled=True)\n",
      "\tDefaultConnectionGene(key=(-4, 91), weight=0.513413224932897, enabled=False)\n",
      "\tDefaultConnectionGene(key=(-4, 1008), weight=1.0, enabled=True)\n",
      "\tDefaultConnectionGene(key=(-3, 1), weight=1.9898810460462952, enabled=True)\n",
      "\tDefaultConnectionGene(key=(-3, 2), weight=-0.23400661736840406, enabled=True)\n",
      "\tDefaultConnectionGene(key=(-3, 91), weight=-0.16122409188035658, enabled=True)\n",
      "\tDefaultConnectionGene(key=(-2, 1), weight=2.2573125439942063, enabled=True)\n",
      "\tDefaultConnectionGene(key=(-2, 2), weight=1.0301616638918059, enabled=True)\n",
      "\tDefaultConnectionGene(key=(-1, 0), weight=-0.40094871218851946, enabled=True)\n",
      "\tDefaultConnectionGene(key=(-1, 1), weight=0.9227817558974122, enabled=True)\n",
      "\tDefaultConnectionGene(key=(-1, 3), weight=-0.48168371386678815, enabled=False)\n",
      "\tDefaultConnectionGene(key=(-1, 107), weight=0.3666042717096897, enabled=True)\n",
      "\tDefaultConnectionGene(key=(-1, 579), weight=-1.987378899355563, enabled=True)\n",
      "\tDefaultConnectionGene(key=(91, 1), weight=-0.5869889083215913, enabled=True)\n",
      "\tDefaultConnectionGene(key=(91, 3), weight=1.941718160758469, enabled=False)\n",
      "\tDefaultConnectionGene(key=(107, 3), weight=0.6138371234056689, enabled=True)\n",
      "\tDefaultConnectionGene(key=(579, 1), weight=-2.2054785309201264, enabled=True)\n",
      "\tDefaultConnectionGene(key=(579, 3), weight=2.9926494077309305, enabled=True)\n",
      "\tDefaultConnectionGene(key=(861, 3), weight=1.344098926477838, enabled=True)\n",
      "\tDefaultConnectionGene(key=(1008, 91), weight=0.513413224932897, enabled=True)\n"
     ]
    }
   ],
   "source": [
    "print(best_genome)"
   ]
  },
  {
   "cell_type": "markdown",
   "metadata": {},
   "source": [
    "# Test creating policies"
   ]
  },
  {
   "cell_type": "code",
   "execution_count": 29,
   "metadata": {},
   "outputs": [],
   "source": [
    "def create_policies(genomes, cfg):\n",
    "    policies = []\n",
    "    for _, g in genomes:\n",
    "        g.fitness = best_genome.fitness\n",
    "        policy = neat.nn.FeedForwardNetwork.create(best_genome, cfg)\n",
    "        policies.append(policy)\n",
    "    return policies"
   ]
  },
  {
   "cell_type": "code",
   "execution_count": 30,
   "metadata": {},
   "outputs": [],
   "source": [
    "config_path = 'config'\n",
    "config = neat.Config(neat.DefaultGenome, neat.DefaultReproduction,\n",
    "                         neat.DefaultSpeciesSet, neat.DefaultStagnation,\n",
    "                         config_path)"
   ]
  },
  {
   "cell_type": "code",
   "execution_count": 31,
   "metadata": {},
   "outputs": [
    {
     "name": "stdout",
     "output_type": "stream",
     "text": [
      "Best fitness ever found! : 1691.3711926043034\n",
      "Best fitness: 1691.3711926043034 and actual genome fitness: 1691.3711926043034\n",
      "Key: 1\n",
      "Fitness: 1691.3711926043034\n",
      "Nodes:\n",
      "\t0 DefaultNodeGene(key=0, bias=0.0, response=1.0, activation=tanh5, aggregation=sum)\n",
      "\t1 DefaultNodeGene(key=1, bias=0.0, response=1.0, activation=tanh5, aggregation=sum)\n",
      "\t2 DefaultNodeGene(key=2, bias=0.0, response=1.0, activation=tanh5, aggregation=sum)\n",
      "\t3 DefaultNodeGene(key=3, bias=0.0, response=1.0, activation=tanh5, aggregation=sum)\n",
      "\t4 DefaultNodeGene(key=4, bias=0.0, response=1.0, activation=tanh5, aggregation=sum)\n",
      "\t5 DefaultNodeGene(key=5, bias=0.0, response=1.0, activation=tanh5, aggregation=sum)\n",
      "Connections:\n",
      "\tDefaultConnectionGene(key=(-14, 1), weight=0.6747914265721, enabled=True)\n",
      "\tDefaultConnectionGene(key=(-14, 3), weight=-0.47581033262174155, enabled=True)\n",
      "\tDefaultConnectionGene(key=(-14, 5), weight=-0.07459760006159688, enabled=True)\n",
      "\tDefaultConnectionGene(key=(-13, 0), weight=-1.0228257531642126, enabled=True)\n",
      "\tDefaultConnectionGene(key=(-13, 1), weight=1.560216904410726, enabled=True)\n",
      "\tDefaultConnectionGene(key=(-13, 5), weight=0.29065694560711225, enabled=True)\n",
      "\tDefaultConnectionGene(key=(-12, 0), weight=-0.07044795966516883, enabled=True)\n",
      "\tDefaultConnectionGene(key=(-12, 2), weight=0.16879121946409217, enabled=True)\n",
      "\tDefaultConnectionGene(key=(-12, 4), weight=-0.8781179264585739, enabled=True)\n",
      "\tDefaultConnectionGene(key=(-11, 0), weight=0.4419257836949973, enabled=True)\n",
      "\tDefaultConnectionGene(key=(-11, 1), weight=-0.737582573723243, enabled=True)\n",
      "\tDefaultConnectionGene(key=(-11, 2), weight=2.206679810769345, enabled=True)\n",
      "\tDefaultConnectionGene(key=(-11, 3), weight=-0.1685153145940288, enabled=True)\n",
      "\tDefaultConnectionGene(key=(-11, 5), weight=-0.11700514563953017, enabled=True)\n",
      "\tDefaultConnectionGene(key=(-10, 1), weight=-0.3040374224318275, enabled=True)\n",
      "\tDefaultConnectionGene(key=(-9, 0), weight=-1.1350588559033257, enabled=True)\n",
      "\tDefaultConnectionGene(key=(-9, 1), weight=0.02539092696930252, enabled=True)\n",
      "\tDefaultConnectionGene(key=(-9, 3), weight=-1.164485658759014, enabled=True)\n",
      "\tDefaultConnectionGene(key=(-9, 5), weight=-1.4308906530225272, enabled=True)\n",
      "\tDefaultConnectionGene(key=(-8, 2), weight=1.61209800512194, enabled=True)\n",
      "\tDefaultConnectionGene(key=(-8, 4), weight=-0.13295155662461966, enabled=True)\n",
      "\tDefaultConnectionGene(key=(-7, 5), weight=-0.28968226753770304, enabled=True)\n",
      "\tDefaultConnectionGene(key=(-6, 0), weight=1.0889284454282362, enabled=True)\n",
      "\tDefaultConnectionGene(key=(-6, 1), weight=0.3571079012890111, enabled=True)\n",
      "\tDefaultConnectionGene(key=(-6, 5), weight=1.0794041011674538, enabled=True)\n",
      "\tDefaultConnectionGene(key=(-5, 0), weight=0.3564627767821435, enabled=True)\n",
      "\tDefaultConnectionGene(key=(-5, 2), weight=1.3440116838769787, enabled=True)\n",
      "\tDefaultConnectionGene(key=(-5, 5), weight=0.6478539494350777, enabled=True)\n",
      "\tDefaultConnectionGene(key=(-4, 0), weight=0.0556870993894023, enabled=True)\n",
      "\tDefaultConnectionGene(key=(-4, 1), weight=2.141351942578565, enabled=True)\n",
      "\tDefaultConnectionGene(key=(-4, 3), weight=-1.4114606144704562, enabled=True)\n",
      "\tDefaultConnectionGene(key=(-4, 4), weight=-2.2085280147204447, enabled=True)\n",
      "\tDefaultConnectionGene(key=(-4, 5), weight=1.0076475221071617, enabled=True)\n",
      "\tDefaultConnectionGene(key=(-3, 0), weight=1.1191061939503584, enabled=True)\n",
      "\tDefaultConnectionGene(key=(-2, 0), weight=-0.40803565472696673, enabled=True)\n",
      "\tDefaultConnectionGene(key=(-2, 1), weight=-0.23877947235621058, enabled=True)\n",
      "\tDefaultConnectionGene(key=(-2, 2), weight=1.2270695086141064, enabled=True)\n",
      "\tDefaultConnectionGene(key=(-2, 5), weight=-0.1402734005519913, enabled=True)\n",
      "\tDefaultConnectionGene(key=(-1, 0), weight=1.7631454006385976, enabled=True)\n",
      "\tDefaultConnectionGene(key=(-1, 1), weight=-2.3069638124118645, enabled=True)\n",
      "\tDefaultConnectionGene(key=(-1, 3), weight=1.2858484748496761, enabled=True)\n",
      "\tDefaultConnectionGene(key=(-1, 5), weight=-0.4915786944076667, enabled=True)\n",
      "\tDefaultConnectionGene(key=(4, 1), weight=0.7137049901512175, enabled=True)\n",
      "\tDefaultConnectionGene(key=(4, 2), weight=-0.018895233635433804, enabled=True)\n",
      "\tDefaultConnectionGene(key=(5, 1), weight=0.6593394946417749, enabled=True)\n",
      "\tDefaultConnectionGene(key=(5, 2), weight=0.33114090446711175, enabled=True)\n"
     ]
    }
   ],
   "source": [
    "pop = neat.Population(config)\n",
    "results = pop.run(create_policies, 1)\n",
    "print(results)"
   ]
  }
 ],
 "metadata": {
  "kernelspec": {
   "display_name": "mlagents",
   "language": "python",
   "name": "python3"
  },
  "language_info": {
   "codemirror_mode": {
    "name": "ipython",
    "version": 3
   },
   "file_extension": ".py",
   "mimetype": "text/x-python",
   "name": "python",
   "nbconvert_exporter": "python",
   "pygments_lexer": "ipython3",
   "version": "3.10.12"
  }
 },
 "nbformat": 4,
 "nbformat_minor": 2
}
