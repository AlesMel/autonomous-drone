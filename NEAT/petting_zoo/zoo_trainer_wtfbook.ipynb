{
 "cells": [
  {
   "cell_type": "code",
   "execution_count": 1,
   "metadata": {},
   "outputs": [
    {
     "name": "stderr",
     "output_type": "stream",
     "text": [
      "c:\\Users\\alesm\\miniconda3\\envs\\mlagents\\lib\\site-packages\\tqdm\\auto.py:21: TqdmWarning: IProgress not found. Please update jupyter and ipywidgets. See https://ipywidgets.readthedocs.io/en/stable/user_install.html\n",
      "  from .autonotebook import tqdm as notebook_tqdm\n"
     ]
    }
   ],
   "source": [
    "from mlagents_envs.environment import UnityEnvironment  # Import Unity environment\n",
    "from mlagents_envs.envs.unity_aec_env import UnityAECEnv\n",
    "from mlagents_envs.envs.unity_parallel_env import UnityParallelEnv\n",
    "from mlagents_envs.side_channel.engine_configuration_channel import EngineConfigurationChannel\n",
    "from comunication_channel import AgentLogChannel\n",
    "import neat\n",
    "import os\n",
    "import datetime\n",
    "import pickle"
   ]
  },
  {
   "cell_type": "code",
   "execution_count": 2,
   "metadata": {},
   "outputs": [],
   "source": [
    "\n",
    "engine_config_channel = EngineConfigurationChannel()\n",
    "engine_config_channel.set_configuration_parameters(time_scale=1)\n",
    "agent_count_channel = AgentLogChannel()\n",
    "\n",
    "env_file_name = \"..\\\\Builds\\\\single-agent-env\\\\autonomous-drone.exe\"\n",
    "\n",
    "env = UnityEnvironment(file_name=None, worker_id=0, no_graphics=False, side_channels=[engine_config_channel, agent_count_channel])\n",
    "env = UnityParallelEnv(env)\n",
    "env.reset()\n",
    "num_agents = len(env.possible_agents)\n",
    "\n",
    "# num_actions = env.action_space(env.possible_agents[0]).n\n",
    "# observation_size = env.observation_space(env.possible_agents[0]).shape"
   ]
  },
  {
   "cell_type": "code",
   "execution_count": 3,
   "metadata": {},
   "outputs": [
    {
     "name": "stdout",
     "output_type": "stream",
     "text": [
      "There is total of 4 actions in enviroment\n"
     ]
    }
   ],
   "source": [
    "num_actions = env.action_space(env.possible_agents[0]).shape[0]\n",
    "print(f\"There is total of {num_actions} actions in enviroment\")"
   ]
  },
  {
   "cell_type": "code",
   "execution_count": 5,
   "metadata": {},
   "outputs": [
    {
     "name": "stdout",
     "output_type": "stream",
     "text": [
      "There is total of 14 inputs in enviroment\n"
     ]
    }
   ],
   "source": [
    "num_inputs = env.observation_space(env.possible_agents[0]).shape[0]\n",
    "print(f\"There is total of {num_inputs} inputs in enviroment\")"
   ]
  },
  {
   "cell_type": "code",
   "execution_count": 6,
   "metadata": {},
   "outputs": [
    {
     "data": {
      "text/plain": [
       "['RotorControl?team=0?agent_id=0']"
      ]
     },
     "execution_count": 6,
     "metadata": {},
     "output_type": "execute_result"
    }
   ],
   "source": [
    "agents = env.agents\n",
    "agents"
   ]
  },
  {
   "cell_type": "code",
   "execution_count": 8,
   "metadata": {},
   "outputs": [],
   "source": [
    "def send_num_agents(num: int):\n",
    "    agent_count_channel.send_int(data=num)   "
   ]
  },
  {
   "cell_type": "code",
   "execution_count": 9,
   "metadata": {},
   "outputs": [
    {
     "name": "stdout",
     "output_type": "stream",
     "text": [
      "Sending: 2\n"
     ]
    }
   ],
   "source": [
    "# Test sending data\n",
    "targetAgentsCount = 2\n",
    "send_num_agents(targetAgentsCount)"
   ]
  },
  {
   "cell_type": "code",
   "execution_count": 10,
   "metadata": {},
   "outputs": [],
   "source": [
    "def map_agents():\n",
    "    map_agent_to_index = {}\n",
    "    map_index_to_agent = {}\n",
    "    current_index = 0\n",
    "    for agent in env.agents:\n",
    "        map_agent_to_index[int(agent.split(\"=\")[2])] = current_index\n",
    "        map_index_to_agent[current_index] = int(agent.split(\"=\")[2])\n",
    "        current_index += 1\n",
    "    return map_agent_to_index, map_index_to_agent"
   ]
  },
  {
   "cell_type": "code",
   "execution_count": 11,
   "metadata": {},
   "outputs": [],
   "source": [
    "def set_agents_and_double_reset(num_agents: int):\n",
    "    agent_count_channel.send_int(data=num_agents) \n",
    "    env.reset()\n",
    "    env.reset()"
   ]
  },
  {
   "cell_type": "code",
   "execution_count": 12,
   "metadata": {},
   "outputs": [],
   "source": [
    "def create_policies(genomes, cfg):\n",
    "    policies = []\n",
    "    for _, g in genomes:\n",
    "        policy = neat.nn.FeedForwardNetwork.create(g, cfg)\n",
    "        policies.append(policy)\n",
    "        g.fitness = 0\n",
    "    return policies"
   ]
  },
  {
   "cell_type": "code",
   "execution_count": 13,
   "metadata": {},
   "outputs": [],
   "source": [
    "MAX_STEPS = 1000\n",
    "def eval_genomes(genomes, cfg):\n",
    "    policies = create_policies(genomes, cfg)\n",
    "    target_agents = len(policies)\n",
    "    set_agents_and_double_reset(num_agents = target_agents)\n",
    "    rewards = [0] * target_agents\n",
    "    map = map_agents()\n",
    "    for agent in env.agent_iter(env.num_agents * MAX_STEPS):\n",
    "        current_agent = int(agent.split(\"=\")[2])\n",
    "        obs, reward, done, info = env.last(observe=True)\n",
    "        if done:\n",
    "            action = None\n",
    "        else:\n",
    "            rewards[map[current_agent]] = reward\n",
    "            action = policies[map[current_agent]].activate(obs)\n",
    "        env.step(action)\n",
    "    env.reset()\n",
    "    print(\"\\nFinished generation\")"
   ]
  },
  {
   "cell_type": "code",
   "execution_count": 14,
   "metadata": {},
   "outputs": [],
   "source": [
    "def run(config_file, run, datte):\n",
    "    print(f\"Running {run}\")\n",
    "    max_generations = 5\n",
    "\n",
    "    config = neat.Config(neat.DefaultGenome, neat.DefaultReproduction,\n",
    "                         neat.DefaultSpeciesSet, neat.DefaultStagnation,\n",
    "                         config_file)\n",
    "    \n",
    "    pop = neat.Population(config)\n",
    "\n",
    "    stats = neat.StatisticsReporter()\n",
    "\n",
    "    pop.add_reporter(stats)\n",
    "    #pop.add_reporter(neat.Checkpointer(generation_interval=25, time_interval_seconds=1200, filename_prefix='NEAT/checkpoints/NEAT-checkpoint-'))\n",
    "    pop.add_reporter(neat.TBReporter(True, 0, run, datte))\n",
    "    #pop.add_reporter(neat.StdOutReporter(True))\n",
    "    env.reset()\n",
    "    best = pop.run(eval_genomes, max_generations)\n",
    "    # Display the winning genome.\n",
    "    print('\\nBest genome:\\n{!s}'.format(best))\n",
    "    print(\"Finished running!\")\n",
    "    \n",
    "    # Save best genome\n",
    "    with open(f'logs/{datte}/{run}/best.pkl', 'wb') as f:\n",
    "        pickle.dump(best, f)"
   ]
  },
  {
   "cell_type": "code",
   "execution_count": 15,
   "metadata": {},
   "outputs": [],
   "source": [
    "def add_run(data, run_id):\n",
    "    if run_id not in data:\n",
    "        data[run_id] = {}\n",
    "\n",
    "def update_fitness(data, run_id, agent_id, fitness):\n",
    "    if run_id in data and agent_id in data[run_id]:\n",
    "        data[run_id][agent_id][\"fitness\"] = fitness\n",
    "    else:\n",
    "        print(f\"Run {run_id} or Agent {agent_id} does not exist. Cannot update fitness.\")\n",
    "        \n",
    "def update_observe(data, run_id, agent_id, prev_observe):\n",
    "    if run_id in data and agent_id in data[run_id]:\n",
    "        data[run_id][agent_id][\"prev_observe\"].append(prev_observe)\n",
    "    else:\n",
    "        print(f\"Run {run_id} or Agent {agent_id} does not exist. Cannot update observations.\")\n",
    "\n",
    "def add_agent(data, run_id, agent_id, initial_fitness=0):\n",
    "    # Ensure the run exists\n",
    "    add_run(data, run_id)\n",
    "    if agent_id not in data[run_id]:\n",
    "        data[run_id][agent_id] = {\n",
    "            \"actions\": [],\n",
    "            \"fitness\": initial_fitness,\n",
    "            \"prev_observe\": []\n",
    "        }\n",
    "\n",
    "def add_action(data, run_id, agent_id, action):\n",
    "    # Ensure the agent exists\n",
    "    add_agent(data, run_id, agent_id)\n",
    "    data[run_id][agent_id][\"actions\"].append(action)"
   ]
  },
  {
   "cell_type": "code",
   "execution_count": 16,
   "metadata": {},
   "outputs": [
    {
     "name": "stdout",
     "output_type": "stream",
     "text": [
      "Sending: 9\n",
      "Agents: 9\n",
      "[54.707245618104935, 54.707258224487305, 54.70711626857519, 54.707258224487305, 54.70711626857519, 54.70712796412408, 54.70779267512262, 54.70779267512262, 54.70712796412408]\n",
      "Max reward: 54.70779267512262\n",
      "Sending: 9\n",
      "Agents: 9\n",
      "[54.707245618104935, 54.707258224487305, 54.70711626857519, 54.707258224487305, 54.70711626857519, 54.70712796412408, 54.70779267512262, 54.70779267512262, 54.70712796412408]\n",
      "Max reward: 54.70779267512262\n",
      "Sending: 1\n",
      "Agents: 1\n",
      "[54.707245618104935]\n",
      "Max reward: 54.707245618104935\n",
      "Sending: 1\n",
      "Agents: 1\n",
      "[54.707245618104935]\n",
      "Max reward: 54.707245618104935\n",
      "Sending: 1\n",
      "Agents: 1\n",
      "[54.707245618104935]\n",
      "Max reward: 54.707245618104935\n",
      "Sending: 1\n",
      "Agents: 1\n",
      "[54.707245618104935]\n",
      "Max reward: 54.707245618104935\n"
     ]
    }
   ],
   "source": [
    "import random\n",
    "import time\n",
    "\n",
    "replay_buffer = {}\n",
    "\n",
    "num_cycles = 1000\n",
    "target_agents = [9, 9, 1, 1, 1, 1]\n",
    "#target_agents = [4, 4, 4]\n",
    "for i in range(len(target_agents)):\n",
    "    set_agents_and_double_reset(num_agents = target_agents[i])\n",
    "    map_agent_to_index, map_index_to_agent = map_agents()\n",
    "    print(f\"Agents: {env.num_agents}\")\n",
    "    # print(f\"{map}\")\n",
    "    rewards = [0] * env.num_agents\n",
    "    for agent in env.agent_iter(env.num_agents * num_cycles):\n",
    "        current_agent = int(agent.split(\"=\")[2])\n",
    "        prev_observe, reward, done, info = env.last(observe=True)\n",
    "        #print(reward)\n",
    "        if done:\n",
    "            action = None\n",
    "        else:\n",
    "            action = [1.0, 1.0, 1.0, 1.0] #env.action_spaces[agent].sample() # \n",
    "        add_action(replay_buffer, i, current_agent, action)\n",
    "        update_fitness(replay_buffer, i, current_agent, reward)\n",
    "        update_observe(replay_buffer, i, current_agent, prev_observe)\n",
    "        rewards[map_agent_to_index[current_agent]] += reward\n",
    "        env.step(action)\n",
    "    env.reset()\n",
    "    print(rewards, end= '\\n')\n",
    "    print(f\"Max reward: {max(rewards)}\")\n",
    "    #time.sleep(5)\n"
   ]
  },
  {
   "cell_type": "code",
   "execution_count": 17,
   "metadata": {},
   "outputs": [],
   "source": [
    "env.close()"
   ]
  },
  {
   "cell_type": "code",
   "execution_count": 41,
   "metadata": {},
   "outputs": [
    {
     "name": "stdout",
     "output_type": "stream",
     "text": [
      "52\n"
     ]
    }
   ],
   "source": [
    "reward_c = 0\n",
    "for reward in rewards:\n",
    "    if reward < 1652.0 or reward > 1653.0:\n",
    "        reward_c+=1\n",
    "print(reward_c)"
   ]
  },
  {
   "cell_type": "code",
   "execution_count": 23,
   "metadata": {},
   "outputs": [
    {
     "data": {
      "text/plain": [
       "(89.052246, 89.052246, 0.0)"
      ]
     },
     "execution_count": 23,
     "metadata": {},
     "output_type": "execute_result"
    }
   ],
   "source": [
    "import numpy as np\n",
    "# Extracting observations\n",
    "observation_1 = replay_buffer[0][0]['prev_observe']\n",
    "observation_2 = replay_buffer[1][0]['prev_observe']\n",
    "# Summing all elements in each array\n",
    "sum_observation_1 = np.sum(observation_1)\n",
    "sum_observation_2 = np.sum(observation_2)\n",
    "\n",
    "# Computing the difference between the sums of observation1 and observation2\n",
    "difference = sum_observation_1 - sum_observation_2\n",
    "\n",
    "sum_observation_1, sum_observation_2, difference"
   ]
  },
  {
   "cell_type": "code",
   "execution_count": 12,
   "metadata": {},
   "outputs": [
    {
     "data": {
      "text/plain": [
       "([array([ 0.        ,  0.03000899,  0.        ,  0.03000899,  0.        ,\n",
       "          0.        ,  1.        ,  0.        ,  0.        , -0.09739784,\n",
       "          0.        ,  0.        , -0.19296518,  0.        ], dtype=float32),\n",
       "  array([-2.7770241e-08,  2.9964535e-02,  1.0924137e-07,  2.9964535e-02,\n",
       "          1.0339580e-03, -8.9906600e-05,  9.9999994e-01,  3.3799847e-04,\n",
       "          2.4557718e-05,  1.0412883e-01, -9.7086537e-05,  4.9116639e-05,\n",
       "          2.0602380e-01, -1.9415423e-04], dtype=float32),\n",
       "  array([-1.0457784e-07,  2.9682117e-02,  4.0343787e-07,  2.9682117e-02,\n",
       "          3.5513176e-03, -3.1878724e-04,  9.9999928e-01,  1.1710123e-03,\n",
       "          1.3590044e-05,  2.9493225e-01, -6.0614249e-05,  2.7180457e-05,\n",
       "          5.4266113e-01, -1.2116156e-04], dtype=float32),\n",
       "  array([-3.63855520e-07,  2.91645825e-02,  1.36812207e-06,  2.91645825e-02,\n",
       "          7.47764297e-03, -6.84567261e-04,  9.99996662e-01,  2.49165064e-03,\n",
       "         -2.15168129e-05,  4.62925792e-01,  6.01745087e-05, -4.30327018e-05,\n",
       "          7.62456894e-01,  1.20356264e-04], dtype=float32),\n",
       "  array([-1.01755177e-06,  2.84147449e-02,  3.76840308e-06,  2.84147449e-02,\n",
       "          1.26999775e-02, -1.18520216e-03,  9.99990106e-01,  4.29263012e-03,\n",
       "         -9.21402898e-05,  6.01658702e-01,  3.05925001e-04, -1.84323188e-04,\n",
       "          8.83497357e-01,  6.11858210e-04], dtype=float32),\n",
       "  array([-2.3540676e-06,  2.7435383e-02,  8.6415712e-06,  2.7435385e-02,\n",
       "          1.9069104e-02, -1.8186747e-03,  9.9997681e-01,  6.5667625e-03,\n",
       "         -2.0815569e-04,  7.1046978e-01,  7.1152975e-04, -4.1634386e-04,\n",
       "          9.4429189e-01,  1.4230267e-03], dtype=float32),\n",
       "  array([-4.7360841e-06,  2.6229249e-02,  1.7289409e-05,  2.6229257e-02,\n",
       "          2.6401712e-02, -2.5829943e-03,  9.9995333e-01,  9.3069570e-03,\n",
       "         -3.7775069e-04,  7.9254001e-01,  1.3061813e-03, -7.5551367e-04,\n",
       "          9.7356480e-01,  2.6123940e-03], dtype=float32),\n",
       "  array([-8.5985575e-06,  2.4799066e-02,  3.1271018e-05,  2.4799088e-02,\n",
       "          3.4482449e-02, -3.4761918e-03,  9.9991578e-01,  1.2506199e-02,\n",
       "         -6.0759799e-04,  8.5272413e-01,  2.1139272e-03, -1.2152310e-03,\n",
       "          9.8744154e-01,  4.2278543e-03], dtype=float32),\n",
       "  array([-1.4446698e-05,  2.3147536e-02,  5.2395622e-05,  2.3147600e-02,\n",
       "          4.3065958e-02, -4.4963192e-03,  9.9985933e-01,  1.6157549e-02,\n",
       "         -9.0308813e-04,  8.9601737e-01,  3.1536419e-03, -1.8062096e-03,\n",
       "          9.9400258e-01,  6.3072285e-03], dtype=float32),\n",
       "  array([-2.2853983e-05,  2.1277336e-02,  8.2715495e-05,  2.1277508e-02,\n",
       "          5.1878739e-02, -5.6414460e-03,  9.9977893e-01,  2.0254124e-02,\n",
       "         -1.2682070e-03,  9.2677462e-01,  4.4394853e-03, -2.5364037e-03,\n",
       "          9.9711555e-01,  8.8787945e-03], dtype=float32),\n",
       "  array([-3.4460190e-05,  1.9191125e-02,  1.2451899e-04,  1.9191559e-02,\n",
       "          6.0621034e-02, -6.9096531e-03,  9.9966884e-01,  2.4789101e-02,\n",
       "         -1.7055935e-03,  9.4846261e-01,  5.9810942e-03, -3.4111803e-03,\n",
       "          9.9860173e-01,  1.1961738e-02], dtype=float32),\n",
       "  array([-4.9969509e-05,  1.6891550e-02,  1.8032378e-04,  1.6892586e-02,\n",
       "          6.8968549e-02, -8.2990360e-03,  9.9952275e-01,  2.9755678e-02,\n",
       "         -2.2168378e-03,  9.6369529e-01,  7.7838390e-03, -4.4336757e-03,\n",
       "          9.9931663e-01,  1.5566718e-02], dtype=float32),\n",
       "  array([-7.0148672e-05,  1.4381249e-02,  2.5287014e-04,  1.4383643e-02,\n",
       "          7.6574191e-02, -9.8076910e-03,  9.9933404e-01,  3.5147086e-02,\n",
       "         -2.8023052e-03,  9.7437835e-01,  9.8490771e-03, -5.6045675e-03,\n",
       "          9.9966323e-01,  1.9696258e-02], dtype=float32),\n",
       "  array([-9.5825024e-05,  1.1662849e-02,  3.4511430e-04,  1.1668348e-02,\n",
       "          8.3069645e-02, -1.1433724e-02,  9.9909550e-01,  4.0956564e-02,\n",
       "         -3.4613190e-03,  9.8187244e-01,  1.2174473e-02, -6.9225668e-03,\n",
       "          9.9983269e-01,  2.4345305e-02], dtype=float32),\n",
       "  array([-1.2788476e-04,  8.7389778e-03,  4.6022178e-04,  8.7520229e-03,\n",
       "          8.8066965e-02, -1.3175230e-02,  9.9879962e-01,  4.7177333e-02,\n",
       "         -4.1922866e-03,  9.8713696e-01,  1.4754057e-02, -8.3844429e-03,\n",
       "          9.9991620e-01,  2.9501714e-02], dtype=float32),\n",
       "  array([-1.6727105e-04,  5.6122625e-03,  6.0156116e-04,  5.6468882e-03,\n",
       "          9.1160074e-02, -1.5030308e-02,  9.9843848e-01,  5.3802621e-02,\n",
       "         -4.9926462e-03,  9.9084330e-01,  1.7578801e-02, -9.9851135e-03,\n",
       "          9.9995768e-01,  3.5146717e-02], dtype=float32),\n",
       "  array([-2.1498228e-04,  2.2853413e-03,  7.7269756e-04,  2.4219959e-03,\n",
       "          9.1926239e-02, -1.6997039e-02,  9.9800366e-01,  6.0825605e-02,\n",
       "         -5.8590574e-03,  9.9345976e-01,  2.0636521e-02, -1.1717684e-02,\n",
       "          9.9997848e-01,  4.1255452e-02], dtype=float32),\n",
       "  array([-2.7207035e-04, -1.2391416e-03,  9.7738637e-04,  1.6014925e-03,\n",
       "          8.9927331e-02, -1.9073501e-02,  9.9748665e-01,  6.8239421e-02,\n",
       "         -6.7872903e-03,  9.9531245e-01,  2.3912383e-02, -1.3574015e-02,\n",
       "          9.9998897e-01,  4.7797423e-02], dtype=float32),\n",
       "  array([-3.39638616e-04, -4.95851878e-03,  1.21956668e-03,  5.11757797e-03,\n",
       "          8.47113058e-02, -2.12577414e-02,  9.96878386e-01,  7.60371163e-02,\n",
       "         -7.77259422e-03,  9.96628642e-01,  2.73889285e-02, -1.55443065e-02,\n",
       "          9.99994278e-01,  5.47367819e-02], dtype=float32),\n",
       "  array([-4.1884062e-04, -8.8701062e-03,  1.5033553e-03,  9.0063466e-03,\n",
       "          7.5813390e-02, -2.3547797e-02,  9.9616963e-01,  8.4211662e-02,\n",
       "         -8.8095302e-03,  9.9756688e-01,  3.1046471e-02, -1.7617660e-02,\n",
       "          9.9999702e-01,  6.2033188e-02], dtype=float32),\n",
       "  array([-5.10877697e-04, -1.29711935e-02,  1.83304062e-03,  1.31100295e-02,\n",
       "          6.27572984e-02, -2.59416718e-02,  9.95350897e-01,  9.27559882e-02,\n",
       "         -9.89198219e-03,  9.98238027e-01,  3.48635390e-02, -1.97820701e-02,\n",
       "          9.99998450e-01,  6.96424395e-02], dtype=float32),\n",
       "  array([-6.1699800e-04, -1.7259032e-02,  2.2130762e-03,  1.7411277e-02,\n",
       "          4.5056496e-02, -2.8437337e-02,  9.9441236e-01,  1.0166287e-01,\n",
       "         -1.1013526e-02,  9.9871975e-01,  3.8816899e-02, -2.2024367e-02,\n",
       "          9.9999917e-01,  7.7517033e-02], dtype=float32),\n",
       "  array([-7.3849404e-04, -2.1730844e-02,  2.6480744e-03,  2.1904046e-02,\n",
       "          2.2215109e-02, -3.1032747e-02,  9.9334419e-01,  1.1092498e-01,\n",
       "         -1.2167314e-02,  9.9906671e-01,  4.2881832e-02, -2.4330989e-02,\n",
       "          9.9999958e-01,  8.5606232e-02], dtype=float32),\n",
       "  array([-8.76701321e-04, -2.63838116e-02,  3.14280065e-03,  2.65847929e-02,\n",
       "         -6.27092458e-03, -3.37258019e-02,  9.92136061e-01,  1.20534874e-01,\n",
       "         -1.33460332e-02,  9.99317467e-01,  4.70325090e-02, -2.66873483e-02,\n",
       "          9.99999762e-01,  9.38573852e-02], dtype=float32),\n",
       "  array([-0.001033  , -0.03121505,  0.00370217,  0.0314508 , -0.04091229,\n",
       "         -0.03651435,  0.9907777 ,  0.13048483, -0.0145422 ,  0.9994993 ,\n",
       "          0.05124155, -0.02907826,  0.9999999 ,  0.10221469], dtype=float32),\n",
       "  array([-0.0012088 , -0.03622164,  0.00433123,  0.0364997 , -0.08222644,\n",
       "         -0.03939622,  0.9892586 ,  0.14076722, -0.01574824,  0.9996316 ,\n",
       "          0.05548228, -0.03148871,  0.99999994,  0.11062403], dtype=float32),\n",
       "  array([-0.00140555, -0.04140059,  0.00503516,  0.04172934, -0.13073546,\n",
       "         -0.04236917,  0.98756814,  0.15137395, -0.01695628,  0.9997282 ,\n",
       "          0.05972631, -0.03390274,  0.99999994,  0.11902797], dtype=float32),\n",
       "  array([-0.00162476, -0.04674887,  0.00581929,  0.04713768, -0.18696637,\n",
       "         -0.04543093,  0.98569554,  0.16229695, -0.01815848,  0.9997989 ,\n",
       "          0.06394603, -0.03630499,  1.        ,  0.12737118], dtype=float32),\n",
       "  array([-0.00186794, -0.05226333,  0.00668905,  0.05272275, -0.25144884,\n",
       "         -0.04857913,  0.9836301 ,  0.17352784, -0.01934708,  0.9998508 ,\n",
       "          0.06811357, -0.03867968,  1.        ,  0.135598  ], dtype=float32),\n",
       "  array([-0.00213664, -0.05794081,  0.00764999,  0.05848269, -0.32471624,\n",
       "         -0.05181139,  0.98136085,  0.18505807, -0.02051446,  0.9998891 ,\n",
       "          0.0722018 , -0.04101172,  1.        ,  0.14365473], dtype=float32),\n",
       "  array([-0.00233075, -0.06181472,  0.00834407,  0.06241887, -0.3787051 ,\n",
       "         -0.05401171,  0.9797294 ,  0.19290686, -0.02127716,  0.9999088 ,\n",
       "          0.07487011, -0.0425351 ,  1.        ,  0.14890555], dtype=float32)],\n",
       " [array([ 0.        ,  0.03000899,  0.        ,  0.03000899,  0.        ,\n",
       "          0.        ,  1.        ,  0.        ,  0.        , -0.09739784,\n",
       "          0.        ,  0.        , -0.19296518,  0.        ], dtype=float32),\n",
       "  array([-2.7770241e-08,  2.9964535e-02,  1.0924137e-07,  2.9964535e-02,\n",
       "          1.0339580e-03, -8.9906600e-05,  9.9999994e-01,  3.3799847e-04,\n",
       "          2.4557718e-05,  1.0412883e-01, -9.7086537e-05,  4.9116639e-05,\n",
       "          2.0602380e-01, -1.9415423e-04], dtype=float32),\n",
       "  array([-1.0457784e-07,  2.9682117e-02,  4.0343787e-07,  2.9682117e-02,\n",
       "          3.5513176e-03, -3.1878724e-04,  9.9999928e-01,  1.1710123e-03,\n",
       "          1.3590044e-05,  2.9493225e-01, -6.0614249e-05,  2.7180457e-05,\n",
       "          5.4266113e-01, -1.2116156e-04], dtype=float32),\n",
       "  array([-3.63855520e-07,  2.91645825e-02,  1.36812207e-06,  2.91645825e-02,\n",
       "          7.47764297e-03, -6.84567261e-04,  9.99996662e-01,  2.49165064e-03,\n",
       "         -2.15168129e-05,  4.62925792e-01,  6.01745087e-05, -4.30327018e-05,\n",
       "          7.62456894e-01,  1.20356264e-04], dtype=float32),\n",
       "  array([-1.01755177e-06,  2.84147449e-02,  3.76840308e-06,  2.84147449e-02,\n",
       "          1.26999775e-02, -1.18520216e-03,  9.99990106e-01,  4.29263012e-03,\n",
       "         -9.21402898e-05,  6.01658702e-01,  3.05925001e-04, -1.84323188e-04,\n",
       "          8.83497357e-01,  6.11858210e-04], dtype=float32),\n",
       "  array([-2.3540676e-06,  2.7435383e-02,  8.6415712e-06,  2.7435385e-02,\n",
       "          1.9069104e-02, -1.8186747e-03,  9.9997681e-01,  6.5667625e-03,\n",
       "         -2.0815569e-04,  7.1046978e-01,  7.1152975e-04, -4.1634386e-04,\n",
       "          9.4429189e-01,  1.4230267e-03], dtype=float32),\n",
       "  array([-4.7360841e-06,  2.6229249e-02,  1.7289409e-05,  2.6229257e-02,\n",
       "          2.6401712e-02, -2.5829943e-03,  9.9995333e-01,  9.3069570e-03,\n",
       "         -3.7775069e-04,  7.9254001e-01,  1.3061813e-03, -7.5551367e-04,\n",
       "          9.7356480e-01,  2.6123940e-03], dtype=float32),\n",
       "  array([-8.5985575e-06,  2.4799066e-02,  3.1271018e-05,  2.4799088e-02,\n",
       "          3.4482449e-02, -3.4761918e-03,  9.9991578e-01,  1.2506199e-02,\n",
       "         -6.0759799e-04,  8.5272413e-01,  2.1139272e-03, -1.2152310e-03,\n",
       "          9.8744154e-01,  4.2278543e-03], dtype=float32),\n",
       "  array([-1.4446698e-05,  2.3147536e-02,  5.2395622e-05,  2.3147600e-02,\n",
       "          4.3065958e-02, -4.4963192e-03,  9.9985933e-01,  1.6157549e-02,\n",
       "         -9.0308813e-04,  8.9601737e-01,  3.1536419e-03, -1.8062096e-03,\n",
       "          9.9400258e-01,  6.3072285e-03], dtype=float32),\n",
       "  array([-2.2853983e-05,  2.1277336e-02,  8.2715495e-05,  2.1277508e-02,\n",
       "          5.1878739e-02, -5.6414460e-03,  9.9977893e-01,  2.0254124e-02,\n",
       "         -1.2682070e-03,  9.2677462e-01,  4.4394853e-03, -2.5364037e-03,\n",
       "          9.9711555e-01,  8.8787945e-03], dtype=float32),\n",
       "  array([-3.4460190e-05,  1.9191125e-02,  1.2451899e-04,  1.9191559e-02,\n",
       "          6.0621034e-02, -6.9096531e-03,  9.9966884e-01,  2.4789101e-02,\n",
       "         -1.7055935e-03,  9.4846261e-01,  5.9810942e-03, -3.4111803e-03,\n",
       "          9.9860173e-01,  1.1961738e-02], dtype=float32),\n",
       "  array([-4.9969509e-05,  1.6891550e-02,  1.8032378e-04,  1.6892586e-02,\n",
       "          6.8968549e-02, -8.2990360e-03,  9.9952275e-01,  2.9755678e-02,\n",
       "         -2.2168378e-03,  9.6369529e-01,  7.7838390e-03, -4.4336757e-03,\n",
       "          9.9931663e-01,  1.5566718e-02], dtype=float32),\n",
       "  array([-7.0148672e-05,  1.4381249e-02,  2.5287014e-04,  1.4383643e-02,\n",
       "          7.6574191e-02, -9.8076910e-03,  9.9933404e-01,  3.5147086e-02,\n",
       "         -2.8023052e-03,  9.7437835e-01,  9.8490771e-03, -5.6045675e-03,\n",
       "          9.9966323e-01,  1.9696258e-02], dtype=float32),\n",
       "  array([-9.5825024e-05,  1.1662849e-02,  3.4511430e-04,  1.1668348e-02,\n",
       "          8.3069645e-02, -1.1433724e-02,  9.9909550e-01,  4.0956564e-02,\n",
       "         -3.4613190e-03,  9.8187244e-01,  1.2174473e-02, -6.9225668e-03,\n",
       "          9.9983269e-01,  2.4345305e-02], dtype=float32),\n",
       "  array([-1.2788476e-04,  8.7389778e-03,  4.6022178e-04,  8.7520229e-03,\n",
       "          8.8066965e-02, -1.3175230e-02,  9.9879962e-01,  4.7177333e-02,\n",
       "         -4.1922866e-03,  9.8713696e-01,  1.4754057e-02, -8.3844429e-03,\n",
       "          9.9991620e-01,  2.9501714e-02], dtype=float32),\n",
       "  array([-1.6727105e-04,  5.6122625e-03,  6.0156116e-04,  5.6468882e-03,\n",
       "          9.1160074e-02, -1.5030308e-02,  9.9843848e-01,  5.3802621e-02,\n",
       "         -4.9926462e-03,  9.9084330e-01,  1.7578801e-02, -9.9851135e-03,\n",
       "          9.9995768e-01,  3.5146717e-02], dtype=float32),\n",
       "  array([-2.1498228e-04,  2.2853413e-03,  7.7269756e-04,  2.4219959e-03,\n",
       "          9.1926239e-02, -1.6997039e-02,  9.9800366e-01,  6.0825605e-02,\n",
       "         -5.8590574e-03,  9.9345976e-01,  2.0636521e-02, -1.1717684e-02,\n",
       "          9.9997848e-01,  4.1255452e-02], dtype=float32),\n",
       "  array([-2.7207035e-04, -1.2391416e-03,  9.7738637e-04,  1.6014925e-03,\n",
       "          8.9927331e-02, -1.9073501e-02,  9.9748665e-01,  6.8239421e-02,\n",
       "         -6.7872903e-03,  9.9531245e-01,  2.3912383e-02, -1.3574015e-02,\n",
       "          9.9998897e-01,  4.7797423e-02], dtype=float32),\n",
       "  array([-3.39638616e-04, -4.95851878e-03,  1.21956668e-03,  5.11757797e-03,\n",
       "          8.47113058e-02, -2.12577414e-02,  9.96878386e-01,  7.60371163e-02,\n",
       "         -7.77259422e-03,  9.96628642e-01,  2.73889285e-02, -1.55443065e-02,\n",
       "          9.99994278e-01,  5.47367819e-02], dtype=float32),\n",
       "  array([-4.1884062e-04, -8.8701062e-03,  1.5033553e-03,  9.0063466e-03,\n",
       "          7.5813390e-02, -2.3547797e-02,  9.9616963e-01,  8.4211662e-02,\n",
       "         -8.8095302e-03,  9.9756688e-01,  3.1046471e-02, -1.7617660e-02,\n",
       "          9.9999702e-01,  6.2033188e-02], dtype=float32),\n",
       "  array([-5.10877697e-04, -1.29711935e-02,  1.83304062e-03,  1.31100295e-02,\n",
       "          6.27572984e-02, -2.59416718e-02,  9.95350897e-01,  9.27559882e-02,\n",
       "         -9.89198219e-03,  9.98238027e-01,  3.48635390e-02, -1.97820701e-02,\n",
       "          9.99998450e-01,  6.96424395e-02], dtype=float32),\n",
       "  array([-6.1699800e-04, -1.7259032e-02,  2.2130762e-03,  1.7411277e-02,\n",
       "          4.5056496e-02, -2.8437337e-02,  9.9441236e-01,  1.0166287e-01,\n",
       "         -1.1013526e-02,  9.9871975e-01,  3.8816899e-02, -2.2024367e-02,\n",
       "          9.9999917e-01,  7.7517033e-02], dtype=float32),\n",
       "  array([-7.3849404e-04, -2.1730844e-02,  2.6480744e-03,  2.1904046e-02,\n",
       "          2.2215109e-02, -3.1032747e-02,  9.9334419e-01,  1.1092498e-01,\n",
       "         -1.2167314e-02,  9.9906671e-01,  4.2881832e-02, -2.4330989e-02,\n",
       "          9.9999958e-01,  8.5606232e-02], dtype=float32),\n",
       "  array([-8.76701321e-04, -2.63838116e-02,  3.14280065e-03,  2.65847929e-02,\n",
       "         -6.27092458e-03, -3.37258019e-02,  9.92136061e-01,  1.20534874e-01,\n",
       "         -1.33460332e-02,  9.99317467e-01,  4.70325090e-02, -2.66873483e-02,\n",
       "          9.99999762e-01,  9.38573852e-02], dtype=float32),\n",
       "  array([-0.001033  , -0.03121505,  0.00370217,  0.0314508 , -0.04091229,\n",
       "         -0.03651435,  0.9907777 ,  0.13048483, -0.0145422 ,  0.9994993 ,\n",
       "          0.05124155, -0.02907826,  0.9999999 ,  0.10221469], dtype=float32),\n",
       "  array([-0.0012088 , -0.03622164,  0.00433123,  0.0364997 , -0.08222644,\n",
       "         -0.03939622,  0.9892586 ,  0.14076722, -0.01574824,  0.9996316 ,\n",
       "          0.05548228, -0.03148871,  0.99999994,  0.11062403], dtype=float32),\n",
       "  array([-0.00140555, -0.04140059,  0.00503516,  0.04172934, -0.13073546,\n",
       "         -0.04236917,  0.98756814,  0.15137395, -0.01695628,  0.9997282 ,\n",
       "          0.05972631, -0.03390274,  0.99999994,  0.11902797], dtype=float32),\n",
       "  array([-0.00162476, -0.04674887,  0.00581929,  0.04713768, -0.18696637,\n",
       "         -0.04543093,  0.98569554,  0.16229695, -0.01815848,  0.9997989 ,\n",
       "          0.06394603, -0.03630499,  1.        ,  0.12737118], dtype=float32),\n",
       "  array([-0.00186794, -0.05226333,  0.00668905,  0.05272275, -0.25144884,\n",
       "         -0.04857913,  0.9836301 ,  0.17352784, -0.01934708,  0.9998508 ,\n",
       "          0.06811357, -0.03867968,  1.        ,  0.135598  ], dtype=float32),\n",
       "  array([-0.00213664, -0.05794081,  0.00764999,  0.05848269, -0.32471624,\n",
       "         -0.05181139,  0.98136085,  0.18505807, -0.02051446,  0.9998891 ,\n",
       "          0.0722018 , -0.04101172,  1.        ,  0.14365473], dtype=float32),\n",
       "  array([-0.00233075, -0.06181472,  0.00834407,  0.06241887, -0.3787051 ,\n",
       "         -0.05401171,  0.9797294 ,  0.19290686, -0.02127716,  0.9999088 ,\n",
       "          0.07487011, -0.0425351 ,  1.        ,  0.14890555], dtype=float32)])"
      ]
     },
     "execution_count": 12,
     "metadata": {},
     "output_type": "execute_result"
    }
   ],
   "source": [
    "replay_buffer[0][0]['prev_observe'], replay_buffer[1][0]['prev_observe']"
   ]
  },
  {
   "cell_type": "code",
   "execution_count": 39,
   "metadata": {},
   "outputs": [
    {
     "ename": "KeyError",
     "evalue": "4",
     "output_type": "error",
     "traceback": [
      "\u001b[1;31m---------------------------------------------------------------------------\u001b[0m",
      "\u001b[1;31mKeyError\u001b[0m                                  Traceback (most recent call last)",
      "Cell \u001b[1;32mIn[39], line 4\u001b[0m\n\u001b[0;32m      2\u001b[0m test_run \u001b[38;5;241m=\u001b[39m \u001b[38;5;241m2\u001b[39m\n\u001b[0;32m      3\u001b[0m test_agent \u001b[38;5;241m=\u001b[39m \u001b[38;5;241m4\u001b[39m\n\u001b[1;32m----> 4\u001b[0m actions_to_reproduce \u001b[38;5;241m=\u001b[39m \u001b[43mreplay_buffer\u001b[49m\u001b[43m[\u001b[49m\u001b[43mtest_run\u001b[49m\u001b[43m]\u001b[49m\u001b[43m[\u001b[49m\u001b[43mtest_agent\u001b[49m\u001b[43m]\u001b[49m[\u001b[38;5;124m'\u001b[39m\u001b[38;5;124mactions\u001b[39m\u001b[38;5;124m'\u001b[39m]\n\u001b[0;32m      5\u001b[0m expected_reward \u001b[38;5;241m=\u001b[39m replay_buffer[test_run][test_agent][\u001b[38;5;124m'\u001b[39m\u001b[38;5;124mfitness\u001b[39m\u001b[38;5;124m'\u001b[39m]\n\u001b[0;32m      6\u001b[0m expected_observe \u001b[38;5;241m=\u001b[39m replay_buffer[test_run][test_agent][\u001b[38;5;124m'\u001b[39m\u001b[38;5;124mprev_observe\u001b[39m\u001b[38;5;124m'\u001b[39m]\n",
      "\u001b[1;31mKeyError\u001b[0m: 4"
     ]
    }
   ],
   "source": [
    "# Now test if agents recieves the same reward for the same steps\n",
    "test_run = 2\n",
    "test_agent = 4\n",
    "actions_to_reproduce = replay_buffer[test_run][test_agent]['actions']\n",
    "expected_reward = replay_buffer[test_run][test_agent]['fitness']\n",
    "expected_observe = replay_buffer[test_run][test_agent]['prev_observe']\n",
    "actions_to_reproduce, expected_reward"
   ]
  },
  {
   "cell_type": "code",
   "execution_count": null,
   "metadata": {},
   "outputs": [],
   "source": [
    "observes = []\n",
    "current_cycle = 0\n",
    "env.reset()\n",
    "set_agents_and_double_reset(num_agents = 1)\n",
    "for agent in env.agent_iter(env.num_agents * num_cycles):\n",
    "    current_agent = int(agent.split(\"=\")[2])\n",
    "    prev_observe, reward, done, info = env.last(observe=True)\n",
    "    if done:\n",
    "        action = None\n",
    "    else:\n",
    "        action = actions_to_reproduce[current_cycle] \n",
    "    observes.append(prev_observe)\n",
    "    env.step(action)\n",
    "    current_cycle+=1\n",
    "env.reset()\n",
    "print(reward, end= '\\n')\n"
   ]
  },
  {
   "cell_type": "code",
   "execution_count": null,
   "metadata": {},
   "outputs": [],
   "source": [
    "def compare_observations(observes, expected_observe):\n",
    "    for i, obs in enumerate(observes):\n",
    "        print(f\"Comparison {i+1}:\")\n",
    "        print(f\"Normalized vector to checkpoint: obs: {obs[0:3]}, exp: {expected_observe[i][0:3]}\")\n",
    "        print(f\"Distance to checkpoint: obs: {obs[3]}, exp: {expected_observe[i][3]}\")\n",
    "        print(f\"Dot product with checkpoint: obs: {obs[4]}, exp: {expected_observe[i][4]}\")\n",
    "        print(f\"Drone's inclination: obs: {obs[5:8]}, exp: {expected_observe[i][5:8]}\")\n",
    "        print(f\"Drone's local velocity: obs: {obs[8:11]}, exp: {expected_observe[i][8:11]}\")\n",
    "        print(f\"Drone's angular velocity: obs: {obs[11:14]}, exp: {expected_observe[i][11:14]}\")\n",
    "        print(\"\\n\")"
   ]
  },
  {
   "cell_type": "code",
   "execution_count": null,
   "metadata": {},
   "outputs": [],
   "source": [
    "def print_comparison_table(observes, expected_observe):\n",
    "    headers = [\"Component\", \"Observed\", \"Expected\"]\n",
    "    \n",
    "    # Adjust the format here for alignment\n",
    "    # > for right alignment, < for left alignment, ^ for center\n",
    "    # Adjust the width as necessary\n",
    "    header_format = \"{:<40} {:>20} {:>20}\"\n",
    "    row_format = \"{:<40} {:>20.6f} {:>20.6f}\"  # Assuming numerical values need 6 decimal places\n",
    "\n",
    "    # Print the header\n",
    "    print(header_format.format(*headers))\n",
    "\n",
    "    # Separator for clarity\n",
    "    print(\"-\" * 80)\n",
    "\n",
    "    component_names = [\n",
    "        \"Normalized vector to checkpoint (x)\",\n",
    "        \"Normalized vector to checkpoint (y)\",\n",
    "        \"Normalized vector to checkpoint (z)\",\n",
    "        \"Distance to checkpoint\",\n",
    "        \"Dot product with checkpoint\",\n",
    "        \"Drone's inclination (x)\",\n",
    "        \"Drone's inclination (y)\",\n",
    "        \"Drone's inclination (z)\",\n",
    "        \"Drone's local velocity (x)\",\n",
    "        \"Drone's local velocity (y)\",\n",
    "        \"Drone's local velocity (z)\",\n",
    "        \"Drone's angular velocity (x)\",\n",
    "        \"Drone's angular velocity (y)\",\n",
    "        \"Drone's angular velocity (z)\"\n",
    "    ]\n",
    "    \n",
    "    # Iterate and print each observation in a formatted manner\n",
    "    for i, (obs, exp) in enumerate(zip(observes, expected_observe)):\n",
    "        print(f\"\\nComparison {i+1}:\")\n",
    "        for j, component in enumerate(component_names):\n",
    "            if j < len(obs):  # Ensure index is within bounds\n",
    "                print(row_format.format(component, obs[j], exp[j]))\n"
   ]
  },
  {
   "cell_type": "code",
   "execution_count": null,
   "metadata": {},
   "outputs": [],
   "source": [
    "print_comparison_table(observes, expected_observe)"
   ]
  },
  {
   "cell_type": "code",
   "execution_count": null,
   "metadata": {},
   "outputs": [],
   "source": [
    "compare_observations(observes=observes, expected_observe=expected_observe)\n",
    "# here we must assume that the angular velocity and velocity are not the same..."
   ]
  },
  {
   "cell_type": "code",
   "execution_count": 24,
   "metadata": {},
   "outputs": [],
   "source": [
    "env.close()"
   ]
  },
  {
   "cell_type": "code",
   "execution_count": null,
   "metadata": {},
   "outputs": [],
   "source": [
    "for i in range(1000):\n",
    "    env.step(action=[1, 1, 1, 1])\n",
    "    obs, reward, done, info = env.last(observe=True)\n",
    "    if done:\n",
    "        next_obs = {\"observation\": obs}\n",
    "        env.reset()\n",
    "env.reset()"
   ]
  },
  {
   "cell_type": "code",
   "execution_count": null,
   "metadata": {},
   "outputs": [],
   "source": [
    "env.close()"
   ]
  }
 ],
 "metadata": {
  "kernelspec": {
   "display_name": "mlagents",
   "language": "python",
   "name": "python3"
  },
  "language_info": {
   "codemirror_mode": {
    "name": "ipython",
    "version": 3
   },
   "file_extension": ".py",
   "mimetype": "text/x-python",
   "name": "python",
   "nbconvert_exporter": "python",
   "pygments_lexer": "ipython3",
   "version": "3.10.12"
  }
 },
 "nbformat": 4,
 "nbformat_minor": 2
}
