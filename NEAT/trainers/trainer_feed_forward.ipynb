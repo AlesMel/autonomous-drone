{
 "cells": [
  {
   "cell_type": "code",
   "execution_count": 1,
   "metadata": {
    "metadata": {}
   },
   "outputs": [],
   "source": [
    "import pickle\n",
    "import numpy as np\n",
    "import neat\n",
    "import datetime\n",
    "import os\n",
    "import math\n",
    "\n",
    "from comunication_channel import AgentLogChannel\n",
    "\n",
    "from mlagents_envs.environment import UnityEnvironment\n",
    "from mlagents_envs.base_env import ActionTuple\n",
    "from mlagents_envs.side_channel.engine_configuration_channel import EngineConfigurationChannel"
   ]
  },
  {
   "cell_type": "code",
   "execution_count": 2,
   "metadata": {
    "metadata": {}
   },
   "outputs": [],
   "source": [
    "NUM_RUNS = 1\n",
    "MAX_GENS = 3000\n",
    "\n",
    "generation = 0\n",
    "SAVE_INTERVAL = 50"
   ]
  },
  {
   "cell_type": "code",
   "execution_count": 3,
   "metadata": {
    "metadata": {}
   },
   "outputs": [],
   "source": [
    "engine_config_channel = EngineConfigurationChannel()\n",
    "engine_config_channel.set_configuration_parameters(time_scale=2)\n",
    "agent_count_channel = AgentLogChannel()\n",
    "\n",
    "env_path = \"../Builds/train-env/autonomous-drone.exe\"\n",
    "save_nn_destination = 'result/best.pkl'\n",
    "\n",
    "env = UnityEnvironment(file_name=None, worker_id=0, no_graphics=True, side_channels=[engine_config_channel, agent_count_channel])\n",
    "env.reset()\n",
    "env.reset()"
   ]
  },
  {
   "cell_type": "code",
   "execution_count": 4,
   "metadata": {
    "metadata": {}
   },
   "outputs": [
    {
     "name": "stdout",
     "output_type": "stream",
     "text": [
      "Behaviour specs <mlagents_envs.base_env.BehaviorMapping object at 0x0000020693251D50>\n",
      "Name of the behavior : DroneControl?team=0\n",
      "Number of observations :  1\n",
      "There are 4 continuous actions\n"
     ]
    }
   ],
   "source": [
    "\n",
    "behavior_specs = env.behavior_specs\n",
    "print(f\"Behaviour specs {behavior_specs}\")\n",
    "behavior_name = list(behavior_specs)[0]\n",
    "spec = env.behavior_specs[behavior_name]\n",
    "\n",
    "print(f\"Name of the behavior : {behavior_name}\")\n",
    "print(\"Number of observations : \", len(spec.observation_specs)) # vector if 1\n",
    "\n",
    "# Is the Action continuous or multi-discrete ?\n",
    "if spec.action_spec.continuous_size > 0:\n",
    "  print(f\"There are {spec.action_spec.continuous_size} continuous actions\")\n",
    "if spec.action_spec.is_discrete():\n",
    "  print(f\"There are {spec.action_spec.discrete_size} discrete actions\")"
   ]
  },
  {
   "cell_type": "code",
   "execution_count": 5,
   "metadata": {
    "metadata": {}
   },
   "outputs": [],
   "source": [
    "def create_folder(file_name_prefix):\n",
    "    directory = os.path.dirname(f\"{file_name_prefix}\")\n",
    "    if not os.path.exists(directory):\n",
    "        os.makedirs(directory)"
   ]
  },
  {
   "cell_type": "code",
   "execution_count": 6,
   "metadata": {
    "metadata": {}
   },
   "outputs": [],
   "source": [
    "def set_agents_and_double_reset(num_agents: int):\n",
    "    agent_count_channel.send_int(data=num_agents) \n",
    "    env.reset()\n",
    "    env.reset()"
   ]
  },
  {
   "cell_type": "code",
   "execution_count": 7,
   "metadata": {
    "metadata": {}
   },
   "outputs": [],
   "source": [
    "def get_observation_for_agent(agent: int, observations):\n",
    "    for observation in observations:\n",
    "        key = int(observation.split(\"=\")[2])\n",
    "        if key == agent:\n",
    "            return observations[observation]"
   ]
  },
  {
   "cell_type": "code",
   "execution_count": 8,
   "metadata": {
    "metadata": {}
   },
   "outputs": [],
   "source": [
    "def map_agent_ids(decision_steps):\n",
    "    \"\"\"\n",
    "    Map agent ids between NEAT and UNITY.\n",
    "\n",
    "    Args:\n",
    "        decision_steps: An iterable containing decision steps.\n",
    "\n",
    "    Returns:\n",
    "        A tuple of two dictionaries: (unity_to_neat_map, neat_to_unity_map)\n",
    "    \"\"\"\n",
    "    unity_to_neat_map = {}\n",
    "    neat_to_unity_map = {}\n",
    "    id_count = 0\n",
    "    for step in decision_steps:\n",
    "        unity_to_neat_map[step] = id_count\n",
    "        neat_to_unity_map[id_count] = step\n",
    "        id_count += 1\n",
    "    return unity_to_neat_map, neat_to_unity_map"
   ]
  },
  {
   "cell_type": "code",
   "execution_count": 9,
   "metadata": {
    "metadata": {}
   },
   "outputs": [],
   "source": [
    "def create_policies(genomes, cfg):\n",
    "    policies = []\n",
    "    for _, g in genomes:\n",
    "        g.fitness = 0\n",
    "        policy = neat.nn.FeedForwardNetwork.create(g, cfg)\n",
    "        policies.append(policy)\n",
    "    return policies"
   ]
  },
  {
   "cell_type": "code",
   "execution_count": 10,
   "metadata": {
    "metadata": {}
   },
   "outputs": [],
   "source": [
    "def eval_genomes(genomes, cfg):\n",
    "    global generation \n",
    "    generation += 1\n",
    "\n",
    "    policies = create_policies(genomes, cfg)\n",
    "    set_agents_and_double_reset(len(policies))\n",
    "    decision_steps, terminal_steps = env.get_steps(behavior_name)\n",
    "    agent_count = len(decision_steps.agent_id)\n",
    "\n",
    "    unity_to_neat_map, neat_to_unity_map = map_agent_ids(decision_steps)\n",
    "\n",
    "    done = False  # Vectorized initialization\n",
    "    removed_agents = []\n",
    "\n",
    "    episode_rewards = [0] * agent_count\n",
    "    print(f\"Agent count: {agent_count}\")\n",
    "\n",
    "    while not done:\n",
    "        for agent in decision_steps:\n",
    "            if unity_to_neat_map[agent] not in removed_agents:\n",
    "                nn_input =  np.asarray(decision_steps[agent].obs[:])\n",
    "                #print(f\"NN INPUT: {nn_input}, agent: {agent}\")\n",
    "                #print(f\"NN INPUT[0]: {nn_input[0]}, agent: {agent}\")\n",
    "                actions = policies[unity_to_neat_map[agent]].activate(nn_input[0])\n",
    "                #print(f\"NN OUTPUT: {actions}, agent: {agent}\")\n",
    "                continous_actions = np.asarray([actions])\n",
    "                continous_actions = np.clip(continous_actions, -1, 1)\n",
    "                action_tuple = ActionTuple(discrete=None, continuous=continous_actions)\n",
    "                env.set_action_for_agent(behavior_name=behavior_name, \n",
    "                                        agent_id=agent, \n",
    "                                        action=action_tuple)\n",
    "        env.step()\n",
    "        decision_steps, terminal_steps = env.get_steps(behavior_name)\n",
    "        for agent in range(agent_count):\n",
    "            if agent not in removed_agents:\n",
    "                local_agent = neat_to_unity_map[agent]\n",
    "                if local_agent in terminal_steps:\n",
    "                    episode_rewards[agent] += terminal_steps[local_agent].reward\n",
    "                    removed_agents.append(agent)\n",
    "                    #print(f\"Finished: {agent}\")\n",
    "                elif local_agent in decision_steps:\n",
    "                    episode_rewards[agent] += decision_steps[local_agent].reward\n",
    "                 \n",
    "\n",
    "        if len(removed_agents) >= agent_count:\n",
    "            done = True\n",
    "    for i, (_, genome) in enumerate(genomes):\n",
    "        genome.fitness = episode_rewards[i]\n",
    "    if generation % SAVE_INTERVAL == 0:\n",
    "      global file_name_prefix\n",
    "      best_genome_current_generation = max(genomes, key=lambda x: x[1].fitness) \n",
    "      with open(file_name_prefix+'best-'+str(generation)+'.pkl', 'wb') as f:\n",
    "          pickle.dump(best_genome_current_generation, f)\n",
    "      "
   ]
  },
  {
   "cell_type": "code",
   "execution_count": 11,
   "metadata": {
    "metadata": {}
   },
   "outputs": [],
   "source": [
    "def run(config_file, run, datte):\n",
    "    print(f\"Running {run}\")\n",
    "    global file_name_prefix\n",
    "    file_name_prefix = f\"checkpoints/{datte}/run-{run}/\"\n",
    "    create_folder(file_name_prefix=file_name_prefix)\n",
    "\n",
    "    config = neat.Config(neat.DefaultGenome, neat.DefaultReproduction,\n",
    "                         neat.DefaultSpeciesSet, neat.DefaultStagnation,\n",
    "                         config_file)\n",
    "    \n",
    "    pop = neat.Population(config)\n",
    "\n",
    "    stats = neat.StatisticsReporter()\n",
    "\n",
    "    pop.add_reporter(stats)\n",
    "    pop.add_reporter(neat.TBReporter(True, 0, run, datte))\n",
    "    #pop.add_reporter(neat.StdOutReporter(True))\n",
    "    best = pop.run(eval_genomes, MAX_GENS)\n",
    "    # Display the winning genome.\n",
    "    # print('\\nBest genome:\\n{!s}'.format(best))\n",
    "    print(\"Finished running!\")\n",
    "    \n",
    "    # Save best genome\n",
    "    with open(f'logs/{datte}/{run}/best.pkl', 'wb') as f:\n",
    "        pickle.dump(best, f)"
   ]
  },
  {
   "cell_type": "code",
   "execution_count": 12,
   "metadata": {
    "metadata": {}
   },
   "outputs": [
    {
     "name": "stdout",
     "output_type": "stream",
     "text": [
      "Running 0\n",
      "\n",
      " ****** Running generation 0 ****** \n",
      "\n",
      "Agent count: 50\n",
      "Population's average fitness: -0.99987 stdev: 0.00053\n",
      "Best fitness: -0.99649 - size: (4, 32) - species 1 - id 4\n",
      "Best fitness ever found! : -0.9964892099203198\n",
      "Population of 50 members in 1 species:\n",
      "   ID   age  size   fitness   adj fit  stag\n",
      "  ====  ===  ====  =========  =======  ====\n",
      "     1    0    50  -0.999874641477349  0.0001253585226510534     0\n",
      "Total extinctions: 0\n",
      "Generation time: 4.494 sec\n",
      "\n",
      " ****** Running generation 1 ****** \n",
      "\n",
      "Agent count: 50\n",
      "Population's average fitness: -0.99915 stdev: 0.00288\n",
      "Best fitness: -0.98289 - size: (4, 32) - species 1 - id 60\n",
      "Best fitness ever found! : -0.9828884133166866\n",
      "Population of 50 members in 1 species:\n",
      "   ID   age  size   fitness   adj fit  stag\n",
      "  ====  ===  ====  =========  =======  ====\n",
      "     1    1    50  -0.9991485331601854  0.0008514668398146297     0\n",
      "Total extinctions: 0\n",
      "Generation time: 2.633 sec (3.563 average)\n",
      "\n",
      " ****** Running generation 2 ****** \n",
      "\n",
      "Agent count: 50\n",
      "Population's average fitness: -0.99085 stdev: 0.02871\n",
      "Best fitness: -0.84093 - size: (5, 31) - species 1 - id 127\n",
      "Best fitness ever found! : -0.840931239757483\n",
      "Population of 50 members in 1 species:\n",
      "   ID   age  size   fitness   adj fit  stag\n",
      "  ====  ===  ====  =========  =======  ====\n",
      "     1    2    50  -0.9908460634770759  0.009153936522924067     0\n",
      "Total extinctions: 0\n",
      "Generation time: 3.129 sec (3.419 average)\n",
      "\n",
      " ****** Running generation 3 ****** \n",
      "\n",
      "Agent count: 50\n",
      "Population's average fitness: -0.96571 stdev: 0.13368\n",
      "Best fitness: -0.08583 - size: (6, 33) - species 1 - id 174\n",
      "Best fitness ever found! : -0.08583367981736956\n",
      "Population of 50 members in 1 species:\n",
      "   ID   age  size   fitness   adj fit  stag\n",
      "  ====  ===  ====  =========  =======  ====\n",
      "     1    3    50  -0.9657121514457612  0.03428784855423883     0\n",
      "Total extinctions: 0\n",
      "Generation time: 4.755 sec (3.753 average)\n",
      "\n",
      " ****** Running generation 4 ****** \n",
      "\n",
      "Agent count: 50\n",
      "Population's average fitness: -0.96801 stdev: 0.13491\n",
      "Best fitness: -0.08583 - size: (6, 33) - species 1 - id 174\n",
      "Population of 50 members in 1 species:\n",
      "   ID   age  size   fitness   adj fit  stag\n",
      "  ====  ===  ====  =========  =======  ====\n",
      "     1    4    50  -0.9680056618704362  0.03199433812956376     1\n",
      "Total extinctions: 0\n",
      "Generation time: 4.477 sec (3.898 average)\n",
      "\n",
      " ****** Running generation 5 ****** \n",
      "\n",
      "Agent count: 50\n",
      "Population's average fitness: -0.85699 stdev: 0.37348\n",
      "Best fitness: 1.19957 - size: (7, 34) - species 1 - id 270\n",
      "Best fitness ever found! : 1.1995740517995728\n",
      "Population of 50 members in 1 species:\n",
      "   ID   age  size   fitness   adj fit  stag\n",
      "  ====  ===  ====  =========  =======  ====\n",
      "     1    5    50  -0.8569873422213118  0.06501834192019268     0\n",
      "Total extinctions: 0\n",
      "Generation time: 7.761 sec (4.542 average)\n",
      "\n",
      " ****** Running generation 6 ****** \n",
      "\n",
      "Agent count: 50\n",
      "Population's average fitness: -0.83782 stdev: 0.40491\n",
      "Best fitness: 1.19957 - size: (7, 34) - species 1 - id 270\n",
      "Population of 50 members in 1 species:\n",
      "   ID   age  size   fitness   adj fit  stag\n",
      "  ====  ===  ====  =========  =======  ====\n",
      "     1    6    50  -0.837824333664496  0.07373048713809865     0\n",
      "Total extinctions: 0\n",
      "Generation time: 5.268 sec (4.645 average)\n",
      "\n",
      " ****** Running generation 7 ****** \n",
      "\n",
      "Agent count: 50\n",
      "Population's average fitness: -0.89769 stdev: 0.34761\n",
      "Best fitness: 1.19957 - size: (7, 34) - species 1 - id 270\n",
      "Population of 50 members in 1 species:\n",
      "   ID   age  size   fitness   adj fit  stag\n",
      "  ====  ===  ====  =========  =======  ====\n",
      "     1    7    50  -0.8976878841058712  0.04651451303056724     1\n",
      "Total extinctions: 0\n",
      "Generation time: 4.318 sec (4.605 average)\n",
      "\n",
      " ****** Running generation 8 ****** \n",
      "\n",
      "Agent count: 50\n",
      "Population's average fitness: -0.76257 stdev: 0.87847\n",
      "Best fitness: 4.85227 - size: (7, 31) - species 1 - id 425\n",
      "Best fitness ever found! : 4.852267734912175\n",
      "Population of 50 members in 1 species:\n",
      "   ID   age  size   fitness   adj fit  stag\n",
      "  ====  ===  ====  =========  =======  ====\n",
      "     1    8    50  -0.7625746903962886  0.040569796249636976     0\n",
      "Total extinctions: 0\n",
      "Generation time: 4.873 sec (4.634 average)\n",
      "\n",
      " ****** Running generation 9 ****** \n",
      "\n",
      "Agent count: 50\n",
      "Population's average fitness: -0.63696 stdev: 0.98160\n",
      "Best fitness: 4.85227 - size: (7, 31) - species 1 - id 425\n",
      "Population of 50 members in 1 species:\n",
      "   ID   age  size   fitness   adj fit  stag\n",
      "  ====  ===  ====  =========  =======  ====\n",
      "     1    9    50  -0.6369645806257931  0.06203329503674244     0\n",
      "Total extinctions: 0\n",
      "Generation time: 4.112 sec (4.582 average)\n",
      "\n",
      " ****** Running generation 10 ****** \n",
      "\n",
      "Agent count: 50\n",
      "Population's average fitness: -0.55176 stdev: 1.16185\n",
      "Best fitness: 4.85227 - size: (7, 31) - species 1 - id 425\n",
      "Population of 50 members in 1 species:\n",
      "   ID   age  size   fitness   adj fit  stag\n",
      "  ====  ===  ====  =========  =======  ====\n",
      "     1   10    50  -0.5517550472528601  0.07659338433265166     0\n",
      "Total extinctions: 0\n",
      "Generation time: 4.527 sec (4.585 average)\n",
      "\n",
      " ****** Running generation 11 ****** \n",
      "\n",
      "Agent count: 50\n",
      "Population's average fitness: -0.21590 stdev: 1.42715\n",
      "Best fitness: 4.85227 - size: (7, 31) - species 1 - id 425\n",
      "Population of 50 members in 1 species:\n",
      "   ID   age  size   fitness   adj fit  stag\n",
      "  ====  ===  ====  =========  =======  ====\n",
      "     1   11    50  -0.21589703460940993  0.13398276861002875     0\n",
      "Total extinctions: 0\n",
      "Generation time: 6.192 sec (4.941 average)\n",
      "\n",
      " ****** Running generation 12 ****** \n",
      "\n",
      "Agent count: 50\n",
      "Population's average fitness: -0.31559 stdev: 1.51227\n",
      "Best fitness: 4.85227 - size: (7, 31) - species 1 - id 425\n",
      "Population of 50 members in 1 species:\n",
      "   ID   age  size   fitness   adj fit  stag\n",
      "  ====  ===  ====  =========  =======  ====\n",
      "     1   12    50  -0.3155908292801079  0.11694769641569505     1\n",
      "Total extinctions: 0\n",
      "Generation time: 16.448 sec (6.273 average)\n",
      "\n",
      " ****** Running generation 13 ****** \n",
      "\n",
      "Agent count: 50\n",
      "Population's average fitness: -0.01599 stdev: 1.84420\n",
      "Best fitness: 7.06083 - size: (6, 29) - species 1 - id 631\n",
      "Best fitness ever found! : 7.060827959765447\n",
      "Population of 50 members in 1 species:\n",
      "   ID   age  size   fitness   adj fit  stag\n",
      "  ====  ===  ====  =========  =======  ====\n",
      "     1   13    50  -0.015988081868806566  0.12207330599818758     0\n",
      "Total extinctions: 0\n",
      "Generation time: 5.009 sec (6.299 average)\n",
      "\n",
      " ****** Running generation 14 ****** \n",
      "\n",
      "Agent count: 50\n"
     ]
    },
    {
     "ename": "UnityCommunicatorStoppedException",
     "evalue": "Communicator has exited.",
     "output_type": "error",
     "traceback": [
      "\u001b[1;31m---------------------------------------------------------------------------\u001b[0m",
      "\u001b[1;31mUnityCommunicatorStoppedException\u001b[0m         Traceback (most recent call last)",
      "Cell \u001b[1;32mIn[12], line 5\u001b[0m\n\u001b[0;32m      3\u001b[0m \u001b[38;5;66;03m# pre create folders for checkpointer\u001b[39;00m\n\u001b[0;32m      4\u001b[0m \u001b[38;5;28;01mfor\u001b[39;00m r \u001b[38;5;129;01min\u001b[39;00m \u001b[38;5;28mrange\u001b[39m(NUM_RUNS):\n\u001b[1;32m----> 5\u001b[0m     \u001b[43mrun\u001b[49m\u001b[43m(\u001b[49m\u001b[43mconfig_path\u001b[49m\u001b[43m,\u001b[49m\u001b[43m \u001b[49m\u001b[43mr\u001b[49m\u001b[43m,\u001b[49m\u001b[43m \u001b[49m\u001b[43mdatte\u001b[49m\u001b[43m)\u001b[49m\n",
      "Cell \u001b[1;32mIn[11], line 18\u001b[0m, in \u001b[0;36mrun\u001b[1;34m(config_file, run, datte)\u001b[0m\n\u001b[0;32m     16\u001b[0m pop\u001b[38;5;241m.\u001b[39madd_reporter(neat\u001b[38;5;241m.\u001b[39mTBReporter(\u001b[38;5;28;01mTrue\u001b[39;00m, \u001b[38;5;241m0\u001b[39m, run, datte))\n\u001b[0;32m     17\u001b[0m \u001b[38;5;66;03m#pop.add_reporter(neat.StdOutReporter(True))\u001b[39;00m\n\u001b[1;32m---> 18\u001b[0m best \u001b[38;5;241m=\u001b[39m \u001b[43mpop\u001b[49m\u001b[38;5;241;43m.\u001b[39;49m\u001b[43mrun\u001b[49m\u001b[43m(\u001b[49m\u001b[43meval_genomes\u001b[49m\u001b[43m,\u001b[49m\u001b[43m \u001b[49m\u001b[43mMAX_GENS\u001b[49m\u001b[43m)\u001b[49m\n\u001b[0;32m     19\u001b[0m \u001b[38;5;66;03m# Display the winning genome.\u001b[39;00m\n\u001b[0;32m     20\u001b[0m \u001b[38;5;66;03m# print('\\nBest genome:\\n{!s}'.format(best))\u001b[39;00m\n\u001b[0;32m     21\u001b[0m \u001b[38;5;28mprint\u001b[39m(\u001b[38;5;124m\"\u001b[39m\u001b[38;5;124mFinished running!\u001b[39m\u001b[38;5;124m\"\u001b[39m)\n",
      "File \u001b[1;32mc:\\users\\alesm\\documents\\neat-python-plus\\neat\\population.py:88\u001b[0m, in \u001b[0;36mPopulation.run\u001b[1;34m(self, fitness_function, n)\u001b[0m\n\u001b[0;32m     85\u001b[0m \u001b[38;5;28mself\u001b[39m\u001b[38;5;241m.\u001b[39mreporters\u001b[38;5;241m.\u001b[39mstart_generation(\u001b[38;5;28mself\u001b[39m\u001b[38;5;241m.\u001b[39mgeneration)\n\u001b[0;32m     87\u001b[0m \u001b[38;5;66;03m# Evaluate all genomes using the user-provided function.\u001b[39;00m\n\u001b[1;32m---> 88\u001b[0m \u001b[43mfitness_function\u001b[49m\u001b[43m(\u001b[49m\u001b[38;5;28;43mlist\u001b[39;49m\u001b[43m(\u001b[49m\u001b[38;5;28;43mself\u001b[39;49m\u001b[38;5;241;43m.\u001b[39;49m\u001b[43mpopulation\u001b[49m\u001b[38;5;241;43m.\u001b[39;49m\u001b[43mitems\u001b[49m\u001b[43m(\u001b[49m\u001b[43m)\u001b[49m\u001b[43m)\u001b[49m\u001b[43m,\u001b[49m\u001b[43m \u001b[49m\u001b[38;5;28;43mself\u001b[39;49m\u001b[38;5;241;43m.\u001b[39;49m\u001b[43mconfig\u001b[49m\u001b[43m)\u001b[49m\n\u001b[0;32m     90\u001b[0m \u001b[38;5;66;03m# Gather and report statistics.\u001b[39;00m\n\u001b[0;32m     91\u001b[0m best \u001b[38;5;241m=\u001b[39m \u001b[38;5;28;01mNone\u001b[39;00m\n",
      "Cell \u001b[1;32mIn[10], line 32\u001b[0m, in \u001b[0;36meval_genomes\u001b[1;34m(genomes, cfg)\u001b[0m\n\u001b[0;32m     28\u001b[0m         action_tuple \u001b[38;5;241m=\u001b[39m ActionTuple(discrete\u001b[38;5;241m=\u001b[39m\u001b[38;5;28;01mNone\u001b[39;00m, continuous\u001b[38;5;241m=\u001b[39mcontinous_actions)\n\u001b[0;32m     29\u001b[0m         env\u001b[38;5;241m.\u001b[39mset_action_for_agent(behavior_name\u001b[38;5;241m=\u001b[39mbehavior_name, \n\u001b[0;32m     30\u001b[0m                                 agent_id\u001b[38;5;241m=\u001b[39magent, \n\u001b[0;32m     31\u001b[0m                                 action\u001b[38;5;241m=\u001b[39maction_tuple)\n\u001b[1;32m---> 32\u001b[0m \u001b[43menv\u001b[49m\u001b[38;5;241;43m.\u001b[39;49m\u001b[43mstep\u001b[49m\u001b[43m(\u001b[49m\u001b[43m)\u001b[49m\n\u001b[0;32m     33\u001b[0m decision_steps, terminal_steps \u001b[38;5;241m=\u001b[39m env\u001b[38;5;241m.\u001b[39mget_steps(behavior_name)\n\u001b[0;32m     34\u001b[0m \u001b[38;5;28;01mfor\u001b[39;00m agent \u001b[38;5;129;01min\u001b[39;00m \u001b[38;5;28mrange\u001b[39m(agent_count):\n",
      "File \u001b[1;32mc:\\Users\\alesm\\miniconda3\\envs\\mlagents\\lib\\site-packages\\mlagents_envs\\timers.py:305\u001b[0m, in \u001b[0;36mtimed.<locals>.wrapped\u001b[1;34m(*args, **kwargs)\u001b[0m\n\u001b[0;32m    303\u001b[0m \u001b[38;5;28;01mdef\u001b[39;00m \u001b[38;5;21mwrapped\u001b[39m(\u001b[38;5;241m*\u001b[39margs, \u001b[38;5;241m*\u001b[39m\u001b[38;5;241m*\u001b[39mkwargs):\n\u001b[0;32m    304\u001b[0m     \u001b[38;5;28;01mwith\u001b[39;00m hierarchical_timer(func\u001b[38;5;241m.\u001b[39m\u001b[38;5;18m__qualname__\u001b[39m):\n\u001b[1;32m--> 305\u001b[0m         \u001b[38;5;28;01mreturn\u001b[39;00m func(\u001b[38;5;241m*\u001b[39margs, \u001b[38;5;241m*\u001b[39m\u001b[38;5;241m*\u001b[39mkwargs)\n",
      "File \u001b[1;32mc:\\Users\\alesm\\miniconda3\\envs\\mlagents\\lib\\site-packages\\mlagents_envs\\environment.py:350\u001b[0m, in \u001b[0;36mUnityEnvironment.step\u001b[1;34m(self)\u001b[0m\n\u001b[0;32m    348\u001b[0m     outputs \u001b[38;5;241m=\u001b[39m \u001b[38;5;28mself\u001b[39m\u001b[38;5;241m.\u001b[39m_communicator\u001b[38;5;241m.\u001b[39mexchange(step_input, \u001b[38;5;28mself\u001b[39m\u001b[38;5;241m.\u001b[39m_poll_process)\n\u001b[0;32m    349\u001b[0m \u001b[38;5;28;01mif\u001b[39;00m outputs \u001b[38;5;129;01mis\u001b[39;00m \u001b[38;5;28;01mNone\u001b[39;00m:\n\u001b[1;32m--> 350\u001b[0m     \u001b[38;5;28;01mraise\u001b[39;00m UnityCommunicatorStoppedException(\u001b[38;5;124m\"\u001b[39m\u001b[38;5;124mCommunicator has exited.\u001b[39m\u001b[38;5;124m\"\u001b[39m)\n\u001b[0;32m    351\u001b[0m \u001b[38;5;28mself\u001b[39m\u001b[38;5;241m.\u001b[39m_update_behavior_specs(outputs)\n\u001b[0;32m    352\u001b[0m rl_output \u001b[38;5;241m=\u001b[39m outputs\u001b[38;5;241m.\u001b[39mrl_output\n",
      "\u001b[1;31mUnityCommunicatorStoppedException\u001b[0m: Communicator has exited."
     ]
    }
   ],
   "source": [
    "config_path = 'config-feedforward'\n",
    "datte = datetime.datetime.now().strftime(\"%d-%m-%Y--%H_%M\")\n",
    "# pre create folders for checkpointer\n",
    "for r in range(NUM_RUNS):\n",
    "    run(config_path, r, datte)"
   ]
  },
  {
   "cell_type": "code",
   "execution_count": 13,
   "metadata": {
    "metadata": {}
   },
   "outputs": [],
   "source": [
    "env.close()"
   ]
  },
  {
   "cell_type": "code",
   "execution_count": null,
   "metadata": {},
   "outputs": [],
   "source": []
  }
 ],
 "metadata": {
  "kernelspec": {
   "display_name": "mlagents",
   "language": "python",
   "name": "python3"
  },
  "language_info": {
   "codemirror_mode": {
    "name": "ipython",
    "version": 3
   },
   "file_extension": ".py",
   "mimetype": "text/x-python",
   "name": "python",
   "nbconvert_exporter": "python",
   "pygments_lexer": "ipython3",
   "version": "3.10.12"
  }
 },
 "nbformat": 4,
 "nbformat_minor": 2
}
