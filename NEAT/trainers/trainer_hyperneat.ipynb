{
 "cells": [
  {
   "cell_type": "code",
   "execution_count": 1,
   "metadata": {
    "metadata": {}
   },
   "outputs": [],
   "source": [
    "import pickle\n",
    "import numpy as np\n",
    "import neat\n",
    "import datetime\n",
    "import os\n",
    "import math\n",
    "\n",
    "from comunication_channel import AgentLogChannel\n",
    "\n",
    "from mlagents_envs.environment import UnityEnvironment\n",
    "from mlagents_envs.base_env import ActionTuple\n",
    "from mlagents_envs.side_channel.engine_configuration_channel import EngineConfigurationChannel"
   ]
  },
  {
   "cell_type": "code",
   "execution_count": 2,
   "metadata": {
    "metadata": {}
   },
   "outputs": [],
   "source": [
    "NUM_RUNS = 1\n",
    "MAX_GENS = 3000\n",
    "\n",
    "generation = 0\n",
    "SAVE_INTERVAL = 50"
   ]
  },
  {
   "cell_type": "code",
   "execution_count": 3,
   "metadata": {},
   "outputs": [],
   "source": [
    "from pureples.shared.visualize import draw_net\n",
    "from pureples.shared.substrate import Substrate\n",
    "from pureples.hyperneat.hyperneat import create_phenotype_network\n",
    "INPUT_COORDINATES = []\n",
    "for y in range(8):  # 8 riadkov\n",
    "    for x in range(10):  # 10 stĺpcov\n",
    "        if len(INPUT_COORDINATES) < 76:  # Pridáme len prvých 76\n",
    "            INPUT_COORDINATES.append((-1. + (2.*x/9.), -1. + (2.*y/7.)))\n",
    "\n",
    "# Vytvorenie výstupných súradníc pre 4 výstupy v jednom riadku\n",
    "OUTPUT_COORDINATES = [(-0.75, 1.), (-0.25, 1.), (0.25, 1.), (0.75, 1.)]\n",
    "\n",
    "# Vytvorenie substrátu\n",
    "SUBSTRATE = Substrate(\n",
    "    INPUT_COORDINATES, OUTPUT_COORDINATES)"
   ]
  },
  {
   "cell_type": "code",
   "execution_count": 4,
   "metadata": {
    "metadata": {}
   },
   "outputs": [],
   "source": [
    "engine_config_channel = EngineConfigurationChannel()\n",
    "engine_config_channel.set_configuration_parameters(time_scale=4)\n",
    "agent_count_channel = AgentLogChannel()\n",
    "\n",
    "env_path = \"../Builds/train-env/autonomous-drone.exe\"\n",
    "save_nn_destination = 'result/best.pkl'\n",
    "\n",
    "env = UnityEnvironment(file_name=None, worker_id=0, no_graphics=True, side_channels=[engine_config_channel, agent_count_channel])\n",
    "env.reset()\n",
    "env.reset()"
   ]
  },
  {
   "cell_type": "code",
   "execution_count": 5,
   "metadata": {
    "metadata": {}
   },
   "outputs": [
    {
     "name": "stdout",
     "output_type": "stream",
     "text": [
      "Behaviour specs <mlagents_envs.base_env.BehaviorMapping object at 0x000001A5E1C9B5E0>\n",
      "Name of the behavior : ForestControl?team=0\n",
      "Number of observations :  5\n",
      "There are 4 continuous actions\n"
     ]
    }
   ],
   "source": [
    "\n",
    "behavior_specs = env.behavior_specs\n",
    "print(f\"Behaviour specs {behavior_specs}\")\n",
    "behavior_name = list(behavior_specs)[0]\n",
    "spec = env.behavior_specs[behavior_name]\n",
    "\n",
    "print(f\"Name of the behavior : {behavior_name}\")\n",
    "print(\"Number of observations : \", len(spec.observation_specs)) # vector if 1\n",
    "\n",
    "# Is the Action continuous or multi-discrete ?\n",
    "if spec.action_spec.continuous_size > 0:\n",
    "  print(f\"There are {spec.action_spec.continuous_size} continuous actions\")\n",
    "if spec.action_spec.is_discrete():\n",
    "  print(f\"There are {spec.action_spec.discrete_size} discrete actions\")"
   ]
  },
  {
   "cell_type": "code",
   "execution_count": 6,
   "metadata": {
    "metadata": {}
   },
   "outputs": [],
   "source": [
    "def create_folder(file_name_prefix):\n",
    "    directory = os.path.dirname(f\"{file_name_prefix}\")\n",
    "    if not os.path.exists(directory):\n",
    "        os.makedirs(directory)"
   ]
  },
  {
   "cell_type": "code",
   "execution_count": 7,
   "metadata": {
    "metadata": {}
   },
   "outputs": [],
   "source": [
    "def set_agents_and_double_reset(num_agents: int):\n",
    "    agent_count_channel.send_int(data=num_agents) \n",
    "    env.reset()\n",
    "    env.reset()"
   ]
  },
  {
   "cell_type": "code",
   "execution_count": 8,
   "metadata": {
    "metadata": {}
   },
   "outputs": [],
   "source": [
    "def get_observation_for_agent(agent: int, observations):\n",
    "    for observation in observations:\n",
    "        key = int(observation.split(\"=\")[2])\n",
    "        if key == agent:\n",
    "            return observations[observation]"
   ]
  },
  {
   "cell_type": "code",
   "execution_count": 9,
   "metadata": {
    "metadata": {}
   },
   "outputs": [],
   "source": [
    "def map_agent_ids(decision_steps):\n",
    "    \"\"\"\n",
    "    Map agent ids between NEAT and UNITY.\n",
    "\n",
    "    Args:\n",
    "        decision_steps: An iterable containing decision steps.\n",
    "\n",
    "    Returns:\n",
    "        A tuple of two dictionaries: (unity_to_neat_map, neat_to_unity_map)\n",
    "    \"\"\"\n",
    "    unity_to_neat_map = {}\n",
    "    neat_to_unity_map = {}\n",
    "    id_count = 0\n",
    "    for step in decision_steps:\n",
    "        unity_to_neat_map[step] = id_count\n",
    "        neat_to_unity_map[id_count] = step\n",
    "        id_count += 1\n",
    "    return unity_to_neat_map, neat_to_unity_map"
   ]
  },
  {
   "cell_type": "code",
   "execution_count": 10,
   "metadata": {
    "metadata": {}
   },
   "outputs": [],
   "source": [
    "def create_policies(genomes, cfg):\n",
    "    nets = []\n",
    "    for _, g in genomes:\n",
    "        g.fitness = 0\n",
    "        policy = neat.nn.FeedForwardNetwork.create(g, cfg)\n",
    "        net = create_phenotype_network(policy, SUBSTRATE)\n",
    "        nets.append(net)\n",
    "    return nets"
   ]
  },
  {
   "cell_type": "code",
   "execution_count": 11,
   "metadata": {
    "metadata": {}
   },
   "outputs": [],
   "source": [
    "def eval_genomes(genomes, cfg):\n",
    "    global generation \n",
    "    generation += 1\n",
    "\n",
    "    policies = create_policies(genomes, cfg)\n",
    "    set_agents_and_double_reset(len(policies))\n",
    "    decision_steps, terminal_steps = env.get_steps(behavior_name)\n",
    "    agent_count = len(decision_steps.agent_id)\n",
    "\n",
    "    unity_to_neat_map, neat_to_unity_map = map_agent_ids(decision_steps)\n",
    "\n",
    "    done = False  # Vectorized initialization\n",
    "    removed_agents = []\n",
    "\n",
    "    episode_rewards = [0] * agent_count\n",
    "    print(f\"Agent count: {agent_count}\")\n",
    "\n",
    "    while not done:\n",
    "        for agent in decision_steps:\n",
    "            if unity_to_neat_map[agent] not in removed_agents:\n",
    "                obs = np.concatenate(decision_steps[agent].obs[:])\n",
    "                nn_input =  np.asarray(obs)\n",
    "                #print(f\"NN INPUT: {nn_input}, agent: {agent}\")\n",
    "                #print(f\"NN INPUT[0]: {nn_input[0]}, agent: {agent}\")\n",
    "                actions = policies[unity_to_neat_map[agent]].activate(nn_input)\n",
    "                #print(f\"NN OUTPUT: {actions}, agent: {agent}\")\n",
    "                continous_actions = np.asarray([actions])\n",
    "                continous_actions = np.clip(continous_actions, -1, 1)\n",
    "                action_tuple = ActionTuple(discrete=None, continuous=continous_actions)\n",
    "                env.set_action_for_agent(behavior_name=behavior_name, \n",
    "                                        agent_id=agent, \n",
    "                                        action=action_tuple)\n",
    "        env.step()\n",
    "        decision_steps, terminal_steps = env.get_steps(behavior_name)\n",
    "        for agent in range(agent_count):\n",
    "            if agent not in removed_agents:\n",
    "                local_agent = neat_to_unity_map[agent]\n",
    "                if local_agent in terminal_steps:\n",
    "                    episode_rewards[agent] += terminal_steps[local_agent].reward\n",
    "                    removed_agents.append(agent)\n",
    "                    #print(f\"Finished: {agent}\")\n",
    "                elif local_agent in decision_steps:\n",
    "                    episode_rewards[agent] += decision_steps[local_agent].reward\n",
    "                 \n",
    "\n",
    "        if len(removed_agents) >= agent_count:\n",
    "            done = True\n",
    "    for i, (_, genome) in enumerate(genomes):\n",
    "        genome.fitness = episode_rewards[i]\n",
    "    if generation % SAVE_INTERVAL == 0:\n",
    "      global file_name_prefix\n",
    "      best_genome_current_generation = max(genomes, key=lambda x: x[1].fitness) \n",
    "      with open(file_name_prefix+'best-'+str(generation)+'.pkl', 'wb') as f:\n",
    "          pickle.dump(best_genome_current_generation, f)\n",
    "      "
   ]
  },
  {
   "cell_type": "code",
   "execution_count": 12,
   "metadata": {
    "metadata": {}
   },
   "outputs": [],
   "source": [
    "def run(config_file, run, datte):\n",
    "    print(f\"Running {run}\")\n",
    "    global file_name_prefix\n",
    "    file_name_prefix = f\"checkpoints/{datte}/run-{run}/\"\n",
    "    create_folder(file_name_prefix=file_name_prefix)\n",
    "\n",
    "    config = neat.Config(neat.DefaultGenome, neat.DefaultReproduction,\n",
    "                         neat.DefaultSpeciesSet, neat.DefaultStagnation,\n",
    "                         config_file)\n",
    "    \n",
    "    pop = neat.Population(config)\n",
    "\n",
    "    stats = neat.StatisticsReporter()\n",
    "\n",
    "    pop.add_reporter(stats)\n",
    "    pop.add_reporter(neat.TBReporter(True, 0, run, datte))\n",
    "    #pop.add_reporter(neat.StdOutReporter(True))\n",
    "    best = pop.run(eval_genomes, MAX_GENS)\n",
    "    # Display the winning genome.\n",
    "    # print('\\nBest genome:\\n{!s}'.format(best))\n",
    "    print(\"Finished running!\")\n",
    "    \n",
    "    # Save best genome\n",
    "    with open(f'logs/{datte}/{run}/best.pkl', 'wb') as f:\n",
    "        pickle.dump(best, f)"
   ]
  },
  {
   "cell_type": "code",
   "execution_count": 13,
   "metadata": {
    "metadata": {}
   },
   "outputs": [
    {
     "name": "stdout",
     "output_type": "stream",
     "text": [
      "Running 0\n",
      "\n",
      " ****** Running generation 0 ****** \n",
      "\n",
      "Agent count: 50\n",
      "Population's average fitness: -1.00000 stdev: 0.00000\n",
      "Best fitness: -1.00000 - size: (4, 152) - species 1 - id 1\n",
      "Best fitness ever found! : -1.0\n",
      "Population of 50 members in 2 species:\n",
      "   ID   age  size   fitness   adj fit  stag\n",
      "  ====  ===  ====  =========  =======  ====\n",
      "     1    0    36       -1.0      0.0     0\n",
      "     2    0    14          0        0     0\n",
      "Total extinctions: 0\n",
      "Generation time: 24.888 sec\n",
      "\n",
      " ****** Running generation 1 ****** \n",
      "\n",
      "Agent count: 50\n",
      "Population's average fitness: -1.00000 stdev: 0.00000\n",
      "Best fitness: -1.00000 - size: (4, 152) - species 1 - id 1\n",
      "Population of 50 members in 2 species:\n",
      "   ID   age  size   fitness   adj fit  stag\n",
      "  ====  ===  ====  =========  =======  ====\n",
      "     1    1    25       -1.0      0.0     1\n",
      "     2    1    25       -1.0      0.0     0\n",
      "Total extinctions: 0\n",
      "Generation time: 24.107 sec (24.498 average)\n",
      "\n",
      " ****** Running generation 2 ****** \n",
      "\n",
      "Agent count: 50\n",
      "Population's average fitness: -1.00000 stdev: 0.00000\n",
      "Best fitness: -1.00000 - size: (4, 152) - species 1 - id 1\n",
      "Population of 50 members in 2 species:\n",
      "   ID   age  size   fitness   adj fit  stag\n",
      "  ====  ===  ====  =========  =======  ====\n",
      "     1    2    24       -1.0      0.0     2\n",
      "     2    2    26       -1.0      0.0     1\n",
      "Total extinctions: 0\n",
      "Generation time: 24.405 sec (24.467 average)\n",
      "\n",
      " ****** Running generation 3 ****** \n",
      "\n",
      "Agent count: 50\n",
      "Population's average fitness: -1.00000 stdev: 0.00000\n",
      "Best fitness: -1.00000 - size: (4, 152) - species 1 - id 1\n",
      "Population of 50 members in 2 species:\n",
      "   ID   age  size   fitness   adj fit  stag\n",
      "  ====  ===  ====  =========  =======  ====\n",
      "     1    3    26       -1.0      0.0     3\n",
      "     2    3    24       -1.0      0.0     2\n",
      "Total extinctions: 0\n",
      "Generation time: 24.346 sec (24.437 average)\n",
      "\n",
      " ****** Running generation 4 ****** \n",
      "\n",
      "Agent count: 50\n",
      "Population's average fitness: -1.00000 stdev: 0.00000\n",
      "Best fitness: -1.00000 - size: (4, 152) - species 1 - id 1\n",
      "Population of 50 members in 2 species:\n",
      "   ID   age  size   fitness   adj fit  stag\n",
      "  ====  ===  ====  =========  =======  ====\n",
      "     1    4    27       -1.0      0.0     4\n",
      "     2    4    23       -1.0      0.0     3\n",
      "Total extinctions: 0\n",
      "Generation time: 24.155 sec (24.380 average)\n",
      "\n",
      " ****** Running generation 5 ****** \n",
      "\n",
      "Agent count: 50\n",
      "Population's average fitness: -1.00000 stdev: 0.00000\n",
      "Best fitness: -1.00000 - size: (4, 152) - species 1 - id 1\n",
      "Population of 50 members in 2 species:\n",
      "   ID   age  size   fitness   adj fit  stag\n",
      "  ====  ===  ====  =========  =======  ====\n",
      "     1    5    27       -1.0      0.0     5\n",
      "     2    5    23       -1.0      0.0     4\n",
      "Total extinctions: 0\n",
      "Generation time: 24.242 sec (24.357 average)\n",
      "\n",
      " ****** Running generation 6 ****** \n",
      "\n",
      "Agent count: 50\n",
      "Population's average fitness: -1.00000 stdev: 0.00000\n",
      "Best fitness: -1.00000 - size: (4, 152) - species 1 - id 1\n",
      "Population of 50 members in 2 species:\n",
      "   ID   age  size   fitness   adj fit  stag\n",
      "  ====  ===  ====  =========  =======  ====\n",
      "     1    6    27       -1.0      0.0     6\n",
      "     2    6    23       -1.0      0.0     5\n",
      "Total extinctions: 0\n",
      "Generation time: 24.446 sec (24.370 average)\n",
      "\n",
      " ****** Running generation 7 ****** \n",
      "\n",
      "Agent count: 50\n",
      "Population's average fitness: -1.00000 stdev: 0.00000\n",
      "Best fitness: -1.00000 - size: (4, 152) - species 1 - id 1\n",
      "Population of 50 members in 2 species:\n",
      "   ID   age  size   fitness   adj fit  stag\n",
      "  ====  ===  ====  =========  =======  ====\n",
      "     1    7    28       -1.0      0.0     7\n",
      "     2    7    22       -1.0      0.0     6\n",
      "Total extinctions: 0\n",
      "Generation time: 24.639 sec (24.404 average)\n",
      "\n",
      " ****** Running generation 8 ****** \n",
      "\n",
      "Agent count: 50\n",
      "Population's average fitness: -1.00000 stdev: 0.00000\n",
      "Best fitness: -1.00000 - size: (4, 152) - species 1 - id 1\n",
      "Population of 50 members in 2 species:\n",
      "   ID   age  size   fitness   adj fit  stag\n",
      "  ====  ===  ====  =========  =======  ====\n",
      "     1    8    29       -1.0      0.0     8\n",
      "     2    8    21       -1.0      0.0     7\n",
      "Total extinctions: 0\n",
      "Generation time: 24.312 sec (24.393 average)\n",
      "\n",
      " ****** Running generation 9 ****** \n",
      "\n",
      "Agent count: 50\n",
      "Population's average fitness: -1.00000 stdev: 0.00000\n",
      "Best fitness: -1.00000 - size: (4, 152) - species 1 - id 1\n",
      "Population of 50 members in 2 species:\n",
      "   ID   age  size   fitness   adj fit  stag\n",
      "  ====  ===  ====  =========  =======  ====\n",
      "     1    9    31       -1.0      0.0     9\n",
      "     2    9    19       -1.0      0.0     8\n",
      "Total extinctions: 0\n",
      "Generation time: 28.410 sec (24.795 average)\n",
      "\n",
      " ****** Running generation 10 ****** \n",
      "\n",
      "Agent count: 50\n",
      "Population's average fitness: -1.00000 stdev: 0.00000\n",
      "Best fitness: -1.00000 - size: (4, 152) - species 1 - id 1\n",
      "Population of 50 members in 2 species:\n",
      "   ID   age  size   fitness   adj fit  stag\n",
      "  ====  ===  ====  =========  =======  ====\n",
      "     1   10    30       -1.0      0.0    10\n",
      "     2   10    20       -1.0      0.0     9\n",
      "Total extinctions: 0\n",
      "Generation time: 29.193 sec (25.226 average)\n",
      "\n",
      " ****** Running generation 11 ****** \n",
      "\n",
      "Agent count: 50\n"
     ]
    }
   ],
   "source": [
    "config_path = '../configs/config-feedforward-forest'\n",
    "datte = datetime.datetime.now().strftime(\"%d-%m-%Y--%H_%M\")\n",
    "# pre create folders for checkpointer\n",
    "for r in range(NUM_RUNS):\n",
    "    run(config_path, r, datte)"
   ]
  },
  {
   "cell_type": "code",
   "execution_count": null,
   "metadata": {
    "metadata": {}
   },
   "outputs": [],
   "source": [
    "env.close()"
   ]
  },
  {
   "cell_type": "code",
   "execution_count": null,
   "metadata": {},
   "outputs": [],
   "source": []
  }
 ],
 "metadata": {
  "kernelspec": {
   "display_name": "mlagents",
   "language": "python",
   "name": "python3"
  },
  "language_info": {
   "codemirror_mode": {
    "name": "ipython",
    "version": 3
   },
   "file_extension": ".py",
   "mimetype": "text/x-python",
   "name": "python",
   "nbconvert_exporter": "python",
   "pygments_lexer": "ipython3",
   "version": "3.10.12"
  }
 },
 "nbformat": 4,
 "nbformat_minor": 2
}
