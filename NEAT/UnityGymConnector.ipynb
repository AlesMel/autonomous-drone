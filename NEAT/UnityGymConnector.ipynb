{
 "cells": [
  {
   "cell_type": "markdown",
   "metadata": {},
   "source": [
    "# Unity GymWrapper example\n",
    "This notebook showcases how connect to a Unity environment and using UnityGymWrapper to use higher level functions to interact with the environment."
   ]
  },
  {
   "cell_type": "code",
   "execution_count": 15,
   "metadata": {},
   "outputs": [],
   "source": [
    "import matplotlib.pyplot as plt\n",
    "import numpy as np\n",
    "\n",
    "from mlagents_envs.environment import UnityEnvironment\n",
    "from mlagents_envs.base_env import ActionTuple\n",
    "from mlagents_envs.envs.unity_gym_env import UnityToGymWrapper\n",
    "\n",
    "# Enable logging messages from Unity\n",
    "import logging\n",
    "logging.basicConfig(level=logging.INFO)\n",
    "\n",
    "%matplotlib inline"
   ]
  },
  {
   "cell_type": "code",
   "execution_count": 17,
   "metadata": {},
   "outputs": [
    {
     "name": "stdout",
     "output_type": "stream",
     "text": [
      "[INFO] Listening on port 5004. Start training by pressing the Play button in the Unity Editor.\n"
     ]
    },
    {
     "name": "stderr",
     "output_type": "stream",
     "text": [
      "INFO:mlagents_envs.environment:Listening on port 5004. Start training by pressing the Play button in the Unity Editor.\n"
     ]
    },
    {
     "name": "stdout",
     "output_type": "stream",
     "text": [
      "[INFO] Connected to Unity environment with package version 3.0.0-exp.1 and communication version 1.5.0\n"
     ]
    },
    {
     "name": "stderr",
     "output_type": "stream",
     "text": [
      "INFO:mlagents_envs.environment:Connected to Unity environment with package version 3.0.0-exp.1 and communication version 1.5.0\n"
     ]
    },
    {
     "name": "stdout",
     "output_type": "stream",
     "text": [
      "[INFO] Connected new brain: RotorControl?team=0\n"
     ]
    },
    {
     "name": "stderr",
     "output_type": "stream",
     "text": [
      "INFO:mlagents_envs.environment:Connected new brain: RotorControl?team=0\n"
     ]
    },
    {
     "name": "stdout",
     "output_type": "stream",
     "text": [
      "[WARNING] uint8_visual was set to true, but visual observations are not in use. This setting will not have any effect.\n"
     ]
    },
    {
     "name": "stderr",
     "output_type": "stream",
     "text": [
      "WARNING:mlagents_envs.envs.unity_gym_env:uint8_visual was set to true, but visual observations are not in use. This setting will not have any effect.\n"
     ]
    },
    {
     "name": "stdout",
     "output_type": "stream",
     "text": [
      "(14,)\n"
     ]
    },
    {
     "name": "stderr",
     "output_type": "stream",
     "text": [
      "c:\\Users\\alesm\\miniconda3\\envs\\mlagents\\lib\\site-packages\\gym\\spaces\\box.py:127: UserWarning: \u001b[33mWARN: Box bound precision lowered by casting to float32\u001b[0m\n",
      "  logger.warn(f\"Box bound precision lowered by casting to {self.dtype}\")\n"
     ]
    }
   ],
   "source": [
    "unity_env = UnityEnvironment(worker_id=0)\n",
    "\n",
    "env = UnityToGymWrapper(unity_env, uint8_visual=True, flatten_branched=False, allow_multiple_obs=True)\n",
    "\n",
    "obs = env.reset()\n",
    "for item in obs:\n",
    "    print(item.shape)"
   ]
  },
  {
   "cell_type": "code",
   "execution_count": 24,
   "metadata": {},
   "outputs": [
    {
     "name": "stdout",
     "output_type": "stream",
     "text": [
      "887.024594694376 True {'step': <mlagents_envs.base_env.TerminalSteps object at 0x0000015D19395840>}\n",
      "Episode finished after 31 timesteps\n"
     ]
    }
   ],
   "source": [
    "observations = []\n",
    "total_reward = 0\n",
    "for i in range(3000):\n",
    "    action = np.array([1, 1, 1, 1])\n",
    "    obs, rew, done, info = env.step(action)\n",
    "    total_reward += rew\n",
    "    observations.append(np.array(obs))\n",
    "    \n",
    "    if done:\n",
    "        break\n",
    "\n",
    "print(total_reward, done, info)\n",
    "print(\"Episode finished after {} timesteps\".format(len(observations)))\n",
    "obs = env.reset()"
   ]
  },
  {
   "cell_type": "code",
   "execution_count": 12,
   "metadata": {},
   "outputs": [
    {
     "name": "stdout",
     "output_type": "stream",
     "text": [
      "(31, 1, 14)\n"
     ]
    }
   ],
   "source": [
    "observations = np.array(observations)\n",
    "print(observations.shape)"
   ]
  },
  {
   "cell_type": "code",
   "execution_count": 25,
   "metadata": {},
   "outputs": [],
   "source": [
    "env.close()"
   ]
  }
 ],
 "metadata": {
  "interpreter": {
   "hash": "a349c786a11f43c7d5b0a79e849a65ab063e005f32e65dcfe642a36f3d5153a7"
  },
  "kernelspec": {
   "display_name": "Python 3.6.13 64-bit ('deeptf': conda)",
   "name": "python3"
  },
  "language_info": {
   "codemirror_mode": {
    "name": "ipython",
    "version": 3
   },
   "file_extension": ".py",
   "mimetype": "text/x-python",
   "name": "python",
   "nbconvert_exporter": "python",
   "pygments_lexer": "ipython3",
   "version": "3.10.12"
  },
  "orig_nbformat": 4
 },
 "nbformat": 4,
 "nbformat_minor": 2
}
